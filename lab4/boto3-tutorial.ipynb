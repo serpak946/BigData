{
 "cells": [
  {
   "cell_type": "markdown",
   "metadata": {},
   "source": [
    "# Boto3 & LocalStudio\n",
    "\n",
    "![Boto3 & LocalStudio image](img/s3-10.png)\n",
    "\n",
    "\n",
    "## 🏠 What is localstack?\n",
    "\n",
    "**Localstack** is a platform that provides a local version of several cloud services, allowing you to simulate a development environment with AWS services. This allows you to debug and refine your code before deploying it to a production environment. For this reason, Localstack is a valuable tool for emulating essential AWS services such as object storage and message queues, among others.\n",
    "\n",
    "Also, **Localstack** serves as an effective tool for learning to implement and deploy services using a Docker container without the need for an AWS account or the use of your credit card. \n",
    "In this tutorial, we create a Localstack container to implement the main functionalities of S3 services.\n",
    "\n",
    "---\n",
    "\n",
    "## What is boto3?\n",
    "\n",
    "**`Boto3`** is a 🐍 Python library that allows the integration with AWS services, facilitating various tasks such as creation, management, and configuration of these services.\n",
    "\n",
    "There are two primary implementations within Boto3: \n",
    "* **Resource implementation**: provides a higher-level, object-oriented interface, abstracting away low-level details and offering simplified interactions with AWS services. \n",
    "* **Client implementation**: offers a lower-level, service-oriented interface, providing more granular control and flexibility for interacting with AWS services directly.\n",
    "\n",
    "\n",
    "---\n",
    "\n",
    "## Prerequisites\n",
    "Before you begin, ensure that you have the following installed:\n",
    "\n",
    "* 🐳 Docker\n",
    "* 🐙 Docker Compose\n",
    "\n",
    "\n",
    "---\n",
    "\n",
    "### 🚀 Build and run the Docker Compose environment\n",
    "\n",
    "#### 1. Clone the repository\n",
    " ```bash\n",
    "   git clone https://github.com/r0mymendez/LocalStack-boto3.git\n",
    "   cd LocalStack-boto3\n",
    "```\n",
    "#### 2. Build an run the docker compose \n",
    "  \n",
    "`docker-compose -f docker-compose.yaml up --build`\n",
    "\n",
    "---\n",
    "\n",
    "### 🚀 Using LocalStack with Boto3: A Step-by-Step Guide\n",
    "### 🛠️ Install Boto3\n",
    "\n",
    "```!pip install boto3```\n",
    "\n",
    "\n"
   ]
  },
  {
   "cell_type": "code",
   "execution_count": 1,
   "metadata": {
    "ExecuteTime": {
     "end_time": "2024-04-13T01:46:34.316939300Z",
     "start_time": "2024-04-13T01:46:33.601763200Z"
    }
   },
   "outputs": [],
   "source": [
    "import boto3\n",
    "import json \n",
    "import requests\n",
    "import pandas as pd\n",
    "from datetime import datetime\n",
    "import io\n",
    "import os"
   ]
  },
  {
   "cell_type": "markdown",
   "metadata": {},
   "source": [
    "### 🛠️ Create a session using the localstack endpoint\n",
    "The following code snippet initializes a client for accessing the S3 service using the LocalStack endpoint."
   ]
  },
  {
   "cell_type": "code",
   "execution_count": 2,
   "metadata": {
    "ExecuteTime": {
     "end_time": "2024-04-13T01:46:43.045091600Z",
     "start_time": "2024-04-13T01:46:42.679114500Z"
    }
   },
   "outputs": [],
   "source": [
    "\n",
    "s3 = boto3.client(\n",
    "    service_name='s3',\n",
    "    aws_access_key_id='test',\n",
    "    aws_secret_access_key='test',\n",
    "    endpoint_url='http://localhost:4566',\n",
    ")"
   ]
  },
  {
   "cell_type": "markdown",
   "metadata": {},
   "source": [
    "### 🛠️ Create new buckets\n",
    "Below is the code snippet to create new buckets using the Boto3 library"
   ]
  },
  {
   "cell_type": "code",
   "execution_count": 3,
   "metadata": {
    "ExecuteTime": {
     "end_time": "2024-04-13T01:46:57.870207400Z",
     "start_time": "2024-04-13T01:46:57.805457900Z"
    }
   },
   "outputs": [
    {
     "data": {
      "text/plain": "{'ResponseMetadata': {'RequestId': 'a0edefeb-68bc-4a99-a9b0-ed3b64ba6ad3',\n  'HostId': 's9lzHYrFp76ZVxRcpX9+5cjAnEH2ROuNkd2BHfIa6UkFVdtjf5mKR3/eTPFvsiP/XV/VLi31234=',\n  'HTTPStatusCode': 200,\n  'HTTPHeaders': {'content-type': 'application/xml',\n   'access-control-allow-origin': '*',\n   'access-control-allow-methods': 'HEAD,GET,PUT,POST,DELETE,OPTIONS,PATCH',\n   'access-control-allow-headers': 'authorization,cache-control,content-length,content-md5,content-type,etag,location,x-amz-acl,x-amz-content-sha256,x-amz-date,x-amz-request-id,x-amz-security-token,x-amz-tagging,x-amz-target,x-amz-user-agent,x-amz-version-id,x-amzn-requestid,x-localstack-target,amz-sdk-invocation-id,amz-sdk-request',\n   'access-control-expose-headers': 'etag,x-amz-version-id',\n   'vary': 'Origin',\n   'location': '/news-config',\n   'x-amz-request-id': 'a0edefeb-68bc-4a99-a9b0-ed3b64ba6ad3',\n   'x-amz-id-2': 's9lzHYrFp76ZVxRcpX9+5cjAnEH2ROuNkd2BHfIa6UkFVdtjf5mKR3/eTPFvsiP/XV/VLi31234=',\n   'connection': 'close',\n   'content-length': '0',\n   'date': 'Sat, 13 Apr 2024 01:46:57 GMT',\n   'server': 'hypercorn-h11'},\n  'RetryAttempts': 0},\n 'Location': '/news-config'}"
     },
     "execution_count": 3,
     "metadata": {},
     "output_type": "execute_result"
    }
   ],
   "source": [
    "# create buckets\n",
    "bucket_name_news = 'news'\n",
    "bucket_name_config = 'news-config'\n",
    "\n",
    "s3.create_bucket(Bucket=bucket_name_news)\n",
    "s3.create_bucket(Bucket=bucket_name_config)"
   ]
  },
  {
   "cell_type": "markdown",
   "metadata": {},
   "source": [
    "### 📋 List all buckets\n",
    "After creating a bucket, you can use the following code to list all the buckets available at your endpoint."
   ]
  },
  {
   "cell_type": "code",
   "execution_count": 24,
   "metadata": {
    "ExecuteTime": {
     "end_time": "2024-04-13T02:00:36.181588800Z",
     "start_time": "2024-04-13T02:00:36.141260100Z"
    }
   },
   "outputs": [
    {
     "data": {
      "text/plain": "[{'Name': 'news',\n  'CreationDate': datetime.datetime(2024, 4, 13, 1, 46, 57, tzinfo=tzutc())},\n {'Name': 'news-config',\n  'CreationDate': datetime.datetime(2024, 4, 13, 1, 46, 57, tzinfo=tzutc())}]"
     },
     "execution_count": 24,
     "metadata": {},
     "output_type": "execute_result"
    }
   ],
   "source": [
    "# List all buckets\n",
    "response = s3.list_buckets()\n",
    "response['Buckets']\n",
    "# pd.json_normalize(response['Buckets'])"
   ]
  },
  {
   "cell_type": "markdown",
   "metadata": {},
   "source": [
    "### 📤 Upload the JSON file to s3\n",
    "Once we extract data from the API to gather information about news topics, the following code generates a JSON file and uploads it to the S3 bucket previously created."
   ]
  },
  {
   "cell_type": "code",
   "execution_count": 5,
   "metadata": {
    "ExecuteTime": {
     "end_time": "2024-04-13T01:47:35.910964800Z",
     "start_time": "2024-04-13T01:47:35.122158600Z"
    }
   },
   "outputs": [
    {
     "name": "stdout",
     "output_type": "stream",
     "text": [
      "data ['US', 'World', 'Business', 'Technology', 'Entertainment', 'Sports', 'Science', 'Health']\n"
     ]
    }
   ],
   "source": [
    "# invoke the config news\n",
    "url = 'https://ok.surf/api/v1/cors/news-section-names' \n",
    "response = requests.get(url)\n",
    "if response.status_code==200:\n",
    "    data = response.json()\n",
    "    # ad json file to s3\n",
    "    print('data', data)\n",
    "    # upload the data to s3\n",
    "    s3.put_object(Bucket=bucket_name_config, Key='news-section/data_config.json', Body=json.dumps(data))\n",
    "\n"
   ]
  },
  {
   "cell_type": "markdown",
   "metadata": {},
   "source": [
    "### 📋 List all objects\n",
    "Now, let's list all the objects stored in our bucket. Since we might have stored a JSON file in the previous step, we'll include code to retrieve all objects from the bucket."
   ]
  },
  {
   "cell_type": "code",
   "execution_count": 6,
   "metadata": {
    "ExecuteTime": {
     "end_time": "2024-04-13T01:47:50.566103800Z",
     "start_time": "2024-04-13T01:47:50.551324300Z"
    }
   },
   "outputs": [],
   "source": [
    "def list_objects(bucket_name):\n",
    "    response = s3.list_objects(Bucket=bucket_name)\n",
    "    return pd.json_normalize(response['Contents'])"
   ]
  },
  {
   "cell_type": "code",
   "execution_count": 7,
   "metadata": {
    "ExecuteTime": {
     "end_time": "2024-04-13T01:47:51.833841200Z",
     "start_time": "2024-04-13T01:47:51.794174800Z"
    }
   },
   "outputs": [
    {
     "data": {
      "text/plain": "                             Key              LastModified  \\\n0  news-section/data_config.json 2024-04-13 01:47:35+00:00   \n\n                                 ETag  Size StorageClass Owner.DisplayName  \\\n0  \"d61029b184d21dae1febcb46062216d3\"    89     STANDARD           webfile   \n\n                                            Owner.ID  \n0  75aa57f09aa0c8caeab4f8c24e99d10f8e7faeebf76c07...  ",
      "text/html": "<div>\n<style scoped>\n    .dataframe tbody tr th:only-of-type {\n        vertical-align: middle;\n    }\n\n    .dataframe tbody tr th {\n        vertical-align: top;\n    }\n\n    .dataframe thead th {\n        text-align: right;\n    }\n</style>\n<table border=\"1\" class=\"dataframe\">\n  <thead>\n    <tr style=\"text-align: right;\">\n      <th></th>\n      <th>Key</th>\n      <th>LastModified</th>\n      <th>ETag</th>\n      <th>Size</th>\n      <th>StorageClass</th>\n      <th>Owner.DisplayName</th>\n      <th>Owner.ID</th>\n    </tr>\n  </thead>\n  <tbody>\n    <tr>\n      <th>0</th>\n      <td>news-section/data_config.json</td>\n      <td>2024-04-13 01:47:35+00:00</td>\n      <td>\"d61029b184d21dae1febcb46062216d3\"</td>\n      <td>89</td>\n      <td>STANDARD</td>\n      <td>webfile</td>\n      <td>75aa57f09aa0c8caeab4f8c24e99d10f8e7faeebf76c07...</td>\n    </tr>\n  </tbody>\n</table>\n</div>"
     },
     "execution_count": 7,
     "metadata": {},
     "output_type": "execute_result"
    }
   ],
   "source": [
    "# list all objects in the bucket\n",
    "list_objects(bucket_name=bucket_name_config)"
   ]
  },
  {
   "cell_type": "code",
   "outputs": [
    {
     "data": {
      "text/plain": "               0\n0             US\n1          World\n2       Business\n3     Technology\n4  Entertainment\n5         Sports\n6        Science\n7         Health",
      "text/html": "<div>\n<style scoped>\n    .dataframe tbody tr th:only-of-type {\n        vertical-align: middle;\n    }\n\n    .dataframe tbody tr th {\n        vertical-align: top;\n    }\n\n    .dataframe thead th {\n        text-align: right;\n    }\n</style>\n<table border=\"1\" class=\"dataframe\">\n  <thead>\n    <tr style=\"text-align: right;\">\n      <th></th>\n      <th>0</th>\n    </tr>\n  </thead>\n  <tbody>\n    <tr>\n      <th>0</th>\n      <td>US</td>\n    </tr>\n    <tr>\n      <th>1</th>\n      <td>World</td>\n    </tr>\n    <tr>\n      <th>2</th>\n      <td>Business</td>\n    </tr>\n    <tr>\n      <th>3</th>\n      <td>Technology</td>\n    </tr>\n    <tr>\n      <th>4</th>\n      <td>Entertainment</td>\n    </tr>\n    <tr>\n      <th>5</th>\n      <td>Sports</td>\n    </tr>\n    <tr>\n      <th>6</th>\n      <td>Science</td>\n    </tr>\n    <tr>\n      <th>7</th>\n      <td>Health</td>\n    </tr>\n  </tbody>\n</table>\n</div>"
     },
     "execution_count": 33,
     "metadata": {},
     "output_type": "execute_result"
    }
   ],
   "source": [
    "obj = s3.get_object(Bucket=bucket_name_config, Key='news-section/data_config.json')\n",
    "# data = pd.read_csv(obj['Body'])\n",
    "# \n",
    "# data\n",
    "pd.read_json(obj['Body'])"
   ],
   "metadata": {
    "collapsed": false,
    "ExecuteTime": {
     "end_time": "2024-04-13T02:06:08.778786400Z",
     "start_time": "2024-04-13T02:06:08.725993Z"
    }
   },
   "execution_count": 33
  },
  {
   "cell_type": "markdown",
   "metadata": {},
   "source": [
    "###  📄 Upload multiple CSV files to s3 \n",
    "In the following code snippet, we will request another method from the API to extract news for each topic. Subsequently, we will create different folders in the bucket to save CSV files containing the news for each topic. This code enables you to save multiple files in the same bucket while organizing them into folders based on the topic and the date of the data request."
   ]
  },
  {
   "cell_type": "code",
   "execution_count": 8,
   "metadata": {
    "ExecuteTime": {
     "end_time": "2024-04-13T01:48:20.618360300Z",
     "start_time": "2024-04-13T01:48:18.743649Z"
    }
   },
   "outputs": [],
   "source": [
    "# Request the news feed API Method\n",
    "url = 'https://ok.surf/api/v1/news-feed' \n",
    "response = requests.get(url)\n",
    "if response.status_code==200:\n",
    "    data = response.json()\n",
    "\n",
    "# Add the json file to s3\n",
    "folder_dt =  f'dt={datetime.now().strftime(\"%Y%m%d\")}'\n",
    "\n",
    "for item in data.keys():\n",
    "    tmp = pd.json_normalize(data[item])\n",
    "    tmp['section'] = item   \n",
    "    tmp['download_date'] = datetime.now()\n",
    "    tmp['date'] = pd.to_datetime(tmp['download_date']).dt.date\n",
    "    path = f\"s3://{bucket_name_news}/{item}/{folder_dt}/data_{item}_news.csv\"\n",
    "\n",
    "    # upload multiple files to s3\n",
    "    bytes_io = io.BytesIO()\n",
    "    tmp.to_csv(bytes_io, index=False)\n",
    "    bytes_io.seek(0)\n",
    "    s3.put_object(Bucket=bucket_name_news, Key=path, Body=bytes_io)\n",
    "\n"
   ]
  },
  {
   "cell_type": "code",
   "execution_count": 9,
   "metadata": {
    "ExecuteTime": {
     "end_time": "2024-04-13T01:48:23.203606500Z",
     "start_time": "2024-04-13T01:48:23.165156400Z"
    }
   },
   "outputs": [
    {
     "data": {
      "text/plain": "                                                 Key  \\\n0  s3://news/Business/dt=20240413/data_Business_n...   \n1  s3://news/Entertainment/dt=20240413/data_Enter...   \n2  s3://news/Health/dt=20240413/data_Health_news.csv   \n3  s3://news/Science/dt=20240413/data_Science_new...   \n4  s3://news/Sports/dt=20240413/data_Sports_news.csv   \n5  s3://news/Technology/dt=20240413/data_Technolo...   \n6          s3://news/US/dt=20240413/data_US_news.csv   \n7    s3://news/World/dt=20240413/data_World_news.csv   \n\n               LastModified                                ETag   Size  \\\n0 2024-04-13 01:48:20+00:00  \"873759a57a6264c23629c43828f31bd1\"  45494   \n1 2024-04-13 01:48:20+00:00  \"08f05fabba3cbbb1757c7b67646987b5\"  30073   \n2 2024-04-13 01:48:20+00:00  \"47d4d5bbee7068d65077ff3fc5bc4ced\"  46359   \n3 2024-04-13 01:48:20+00:00  \"f07c1171a09d3af9986d018f92468c23\"  40602   \n4 2024-04-13 01:48:20+00:00  \"f0a1650ea910e8d5abdacdc50a8d0b48\"  32605   \n5 2024-04-13 01:48:20+00:00  \"d2246d0cb227bfd605ca40e310d012db\"  33489   \n6 2024-04-13 01:48:20+00:00  \"8d9833295672d26c3e41328abf8c3631\"  48913   \n7 2024-04-13 01:48:20+00:00  \"6bc04bb9461f48332ce02bf177c2bf82\"  32001   \n\n  StorageClass Owner.DisplayName  \\\n0     STANDARD           webfile   \n1     STANDARD           webfile   \n2     STANDARD           webfile   \n3     STANDARD           webfile   \n4     STANDARD           webfile   \n5     STANDARD           webfile   \n6     STANDARD           webfile   \n7     STANDARD           webfile   \n\n                                            Owner.ID  \n0  75aa57f09aa0c8caeab4f8c24e99d10f8e7faeebf76c07...  \n1  75aa57f09aa0c8caeab4f8c24e99d10f8e7faeebf76c07...  \n2  75aa57f09aa0c8caeab4f8c24e99d10f8e7faeebf76c07...  \n3  75aa57f09aa0c8caeab4f8c24e99d10f8e7faeebf76c07...  \n4  75aa57f09aa0c8caeab4f8c24e99d10f8e7faeebf76c07...  \n5  75aa57f09aa0c8caeab4f8c24e99d10f8e7faeebf76c07...  \n6  75aa57f09aa0c8caeab4f8c24e99d10f8e7faeebf76c07...  \n7  75aa57f09aa0c8caeab4f8c24e99d10f8e7faeebf76c07...  ",
      "text/html": "<div>\n<style scoped>\n    .dataframe tbody tr th:only-of-type {\n        vertical-align: middle;\n    }\n\n    .dataframe tbody tr th {\n        vertical-align: top;\n    }\n\n    .dataframe thead th {\n        text-align: right;\n    }\n</style>\n<table border=\"1\" class=\"dataframe\">\n  <thead>\n    <tr style=\"text-align: right;\">\n      <th></th>\n      <th>Key</th>\n      <th>LastModified</th>\n      <th>ETag</th>\n      <th>Size</th>\n      <th>StorageClass</th>\n      <th>Owner.DisplayName</th>\n      <th>Owner.ID</th>\n    </tr>\n  </thead>\n  <tbody>\n    <tr>\n      <th>0</th>\n      <td>s3://news/Business/dt=20240413/data_Business_n...</td>\n      <td>2024-04-13 01:48:20+00:00</td>\n      <td>\"873759a57a6264c23629c43828f31bd1\"</td>\n      <td>45494</td>\n      <td>STANDARD</td>\n      <td>webfile</td>\n      <td>75aa57f09aa0c8caeab4f8c24e99d10f8e7faeebf76c07...</td>\n    </tr>\n    <tr>\n      <th>1</th>\n      <td>s3://news/Entertainment/dt=20240413/data_Enter...</td>\n      <td>2024-04-13 01:48:20+00:00</td>\n      <td>\"08f05fabba3cbbb1757c7b67646987b5\"</td>\n      <td>30073</td>\n      <td>STANDARD</td>\n      <td>webfile</td>\n      <td>75aa57f09aa0c8caeab4f8c24e99d10f8e7faeebf76c07...</td>\n    </tr>\n    <tr>\n      <th>2</th>\n      <td>s3://news/Health/dt=20240413/data_Health_news.csv</td>\n      <td>2024-04-13 01:48:20+00:00</td>\n      <td>\"47d4d5bbee7068d65077ff3fc5bc4ced\"</td>\n      <td>46359</td>\n      <td>STANDARD</td>\n      <td>webfile</td>\n      <td>75aa57f09aa0c8caeab4f8c24e99d10f8e7faeebf76c07...</td>\n    </tr>\n    <tr>\n      <th>3</th>\n      <td>s3://news/Science/dt=20240413/data_Science_new...</td>\n      <td>2024-04-13 01:48:20+00:00</td>\n      <td>\"f07c1171a09d3af9986d018f92468c23\"</td>\n      <td>40602</td>\n      <td>STANDARD</td>\n      <td>webfile</td>\n      <td>75aa57f09aa0c8caeab4f8c24e99d10f8e7faeebf76c07...</td>\n    </tr>\n    <tr>\n      <th>4</th>\n      <td>s3://news/Sports/dt=20240413/data_Sports_news.csv</td>\n      <td>2024-04-13 01:48:20+00:00</td>\n      <td>\"f0a1650ea910e8d5abdacdc50a8d0b48\"</td>\n      <td>32605</td>\n      <td>STANDARD</td>\n      <td>webfile</td>\n      <td>75aa57f09aa0c8caeab4f8c24e99d10f8e7faeebf76c07...</td>\n    </tr>\n    <tr>\n      <th>5</th>\n      <td>s3://news/Technology/dt=20240413/data_Technolo...</td>\n      <td>2024-04-13 01:48:20+00:00</td>\n      <td>\"d2246d0cb227bfd605ca40e310d012db\"</td>\n      <td>33489</td>\n      <td>STANDARD</td>\n      <td>webfile</td>\n      <td>75aa57f09aa0c8caeab4f8c24e99d10f8e7faeebf76c07...</td>\n    </tr>\n    <tr>\n      <th>6</th>\n      <td>s3://news/US/dt=20240413/data_US_news.csv</td>\n      <td>2024-04-13 01:48:20+00:00</td>\n      <td>\"8d9833295672d26c3e41328abf8c3631\"</td>\n      <td>48913</td>\n      <td>STANDARD</td>\n      <td>webfile</td>\n      <td>75aa57f09aa0c8caeab4f8c24e99d10f8e7faeebf76c07...</td>\n    </tr>\n    <tr>\n      <th>7</th>\n      <td>s3://news/World/dt=20240413/data_World_news.csv</td>\n      <td>2024-04-13 01:48:20+00:00</td>\n      <td>\"6bc04bb9461f48332ce02bf177c2bf82\"</td>\n      <td>32001</td>\n      <td>STANDARD</td>\n      <td>webfile</td>\n      <td>75aa57f09aa0c8caeab4f8c24e99d10f8e7faeebf76c07...</td>\n    </tr>\n  </tbody>\n</table>\n</div>"
     },
     "execution_count": 9,
     "metadata": {},
     "output_type": "execute_result"
    }
   ],
   "source": [
    "# list all objects in the bucket\n",
    "list_objects(bucket_name=bucket_name_news)\n"
   ]
  },
  {
   "cell_type": "markdown",
   "metadata": {},
   "source": [
    "###  📄 Read csv file from s3 \n",
    "In this section, we aim to read a file containing news about technology topics from S3. To accomplish this, we first retrieve the name of the file in the bucket. Then, we read this file and print the contents as a pandas dataframe."
   ]
  },
  {
   "cell_type": "code",
   "execution_count": 10,
   "metadata": {
    "ExecuteTime": {
     "end_time": "2024-04-13T01:50:00.123805800Z",
     "start_time": "2024-04-13T01:50:00.088787800Z"
    }
   },
   "outputs": [
    {
     "name": "stdout",
     "output_type": "stream",
     "text": [
      "file_name s3://news/Technology/dt=20240413/data_Technology_news.csv\n"
     ]
    }
   ],
   "source": [
    "# Get the technology file\n",
    "files = list_objects(bucket_name=bucket_name_news)\n",
    "technology_file = files[files['Key'].str.find('Technology')>=0]['Key'].values[0]\n",
    "print('file_name',technology_file)"
   ]
  },
  {
   "cell_type": "code",
   "execution_count": 11,
   "metadata": {
    "ExecuteTime": {
     "end_time": "2024-04-13T01:50:02.900566900Z",
     "start_time": "2024-04-13T01:50:02.865336100Z"
    }
   },
   "outputs": [
    {
     "data": {
      "text/plain": "                                                 link  \\\n0   https://news.google.com/articles/CBMiTmh0dHBzO...   \n1   https://news.google.com/articles/CBMiWmh0dHBzO...   \n2   https://news.google.com/articles/CBMiY2h0dHBzO...   \n3   https://news.google.com/articles/CBMiSWh0dHBzO...   \n4   https://news.google.com/articles/CBMiRmh0dHBzO...   \n5   https://news.google.com/articles/CBMiQmh0dHBzO...   \n6   https://news.google.com/articles/CBMiV2h0dHBzO...   \n7   https://news.google.com/articles/CBMie2h0dHBzO...   \n8   https://news.google.com/articles/CBMiK2h0dHBzO...   \n9   https://news.google.com/articles/CBMiVWh0dHBzO...   \n10  https://news.google.com/articles/CBMie2h0dHBzO...   \n11  https://news.google.com/articles/CBMiYWh0dHBzO...   \n12  https://news.google.com/articles/CBMiQWh0dHBzO...   \n13  https://news.google.com/articles/CBMiUmh0dHBzO...   \n14  https://news.google.com/articles/CBMiWGh0dHBzO...   \n15  https://news.google.com/articles/CBMicGh0dHBzO...   \n16  https://news.google.com/articles/CBMiV2h0dHBzO...   \n17  https://news.google.com/articles/CBMiOGh0dHBzO...   \n18  https://news.google.com/articles/CBMiVWh0dHBzO...   \n19  https://news.google.com/articles/CBMigwFodHRwc...   \n20  https://news.google.com/articles/CBMiP2h0dHBzO...   \n21  https://news.google.com/articles/CBMiVGh0dHBzO...   \n22  https://news.google.com/articles/CBMiTmh0dHBzO...   \n23  https://news.google.com/articles/CBMilwFodHRwc...   \n24  https://news.google.com/articles/CBMieWh0dHBzO...   \n25  https://news.google.com/articles/CBMiR2h0dHBzO...   \n26  https://news.google.com/articles/CBMid2h0dHBzO...   \n27  https://news.google.com/articles/CBMiUGh0dHBzO...   \n28  https://news.google.com/articles/CBMibWh0dHBzO...   \n29  https://news.google.com/articles/CBMiXmh0dHBzO...   \n30  https://news.google.com/articles/CBMiVGh0dHBzO...   \n31  https://news.google.com/articles/CBMiqgFodHRwc...   \n32  https://news.google.com/articles/CBMieWh0dHBzO...   \n33  https://news.google.com/articles/CBMifWh0dHBzO...   \n34  https://news.google.com/articles/CBMiZGh0dHBzO...   \n35  https://news.google.com/articles/CBMiVWh0dHBzO...   \n36  https://news.google.com/articles/CBMiVmh0dHBzO...   \n37  https://news.google.com/articles/CBMib2h0dHBzO...   \n38  https://news.google.com/articles/CBMiNmh0dHBzO...   \n39  https://news.google.com/articles/CBMiWmh0dHBzO...   \n40  https://news.google.com/articles/CBMiXGh0dHBzO...   \n41  https://news.google.com/articles/CBMivwFodHRwc...   \n42  https://news.google.com/articles/CBMiSGh0dHBzO...   \n43  https://news.google.com/articles/CBMiigFodHRwc...   \n44  https://news.google.com/articles/CBMiQ2h0dHBzO...   \n45  https://news.google.com/articles/CBMiaWh0dHBzO...   \n46  https://news.google.com/articles/CBMiSWh0dHBzO...   \n47  https://news.google.com/articles/CBMifWh0dHBzO...   \n48  https://news.google.com/articles/CBMiWGh0dHBzO...   \n49  https://news.google.com/articles/CBMiUGh0dHBzO...   \n50  https://news.google.com/articles/CBMiTGh0dHBzO...   \n51  https://news.google.com/articles/CBMiTmh0dHBzO...   \n\n                                                   og  \\\n0   https://encrypted-tbn0.gstatic.com/images?q=tb...   \n1   https://encrypted-tbn3.gstatic.com/images?q=tb...   \n2   https://encrypted-tbn2.gstatic.com/images?q=tb...   \n3   https://encrypted-tbn3.gstatic.com/images?q=tb...   \n4   https://encrypted-tbn0.gstatic.com/images?q=tb...   \n5   https://encrypted-tbn3.gstatic.com/images?q=tb...   \n6   https://encrypted-tbn2.gstatic.com/images?q=tb...   \n7   https://encrypted-tbn0.gstatic.com/images?q=tb...   \n8   https://encrypted-tbn2.gstatic.com/images?q=tb...   \n9   https://encrypted-tbn2.gstatic.com/images?q=tb...   \n10  https://encrypted-tbn2.gstatic.com/images?q=tb...   \n11  https://encrypted-tbn3.gstatic.com/images?q=tb...   \n12  https://encrypted-tbn0.gstatic.com/images?q=tb...   \n13  https://encrypted-tbn2.gstatic.com/images?q=tb...   \n14  https://encrypted-tbn2.gstatic.com/images?q=tb...   \n15  https://encrypted-tbn2.gstatic.com/images?q=tb...   \n16  https://encrypted-tbn0.gstatic.com/images?q=tb...   \n17  https://encrypted-tbn3.gstatic.com/images?q=tb...   \n18  https://encrypted-tbn1.gstatic.com/images?q=tb...   \n19  https://encrypted-tbn0.gstatic.com/images?q=tb...   \n20  https://encrypted-tbn2.gstatic.com/images?q=tb...   \n21  https://encrypted-tbn1.gstatic.com/images?q=tb...   \n22  https://encrypted-tbn3.gstatic.com/images?q=tb...   \n23  https://encrypted-tbn3.gstatic.com/images?q=tb...   \n24  https://encrypted-tbn2.gstatic.com/images?q=tb...   \n25  https://encrypted-tbn3.gstatic.com/images?q=tb...   \n26  https://encrypted-tbn0.gstatic.com/images?q=tb...   \n27  https://encrypted-tbn3.gstatic.com/images?q=tb...   \n28  https://encrypted-tbn0.gstatic.com/images?q=tb...   \n29  https://encrypted-tbn1.gstatic.com/images?q=tb...   \n30  https://encrypted-tbn2.gstatic.com/images?q=tb...   \n31  https://encrypted-tbn2.gstatic.com/images?q=tb...   \n32  https://encrypted-tbn1.gstatic.com/images?q=tb...   \n33  https://encrypted-tbn3.gstatic.com/images?q=tb...   \n34  https://encrypted-tbn3.gstatic.com/images?q=tb...   \n35  https://encrypted-tbn1.gstatic.com/images?q=tb...   \n36  https://encrypted-tbn1.gstatic.com/images?q=tb...   \n37  https://encrypted-tbn0.gstatic.com/images?q=tb...   \n38  https://encrypted-tbn1.gstatic.com/images?q=tb...   \n39  https://encrypted-tbn3.gstatic.com/images?q=tb...   \n40  https://encrypted-tbn2.gstatic.com/images?q=tb...   \n41  https://encrypted-tbn0.gstatic.com/images?q=tb...   \n42  https://encrypted-tbn1.gstatic.com/images?q=tb...   \n43  https://encrypted-tbn2.gstatic.com/images?q=tb...   \n44  https://encrypted-tbn2.gstatic.com/images?q=tb...   \n45  https://encrypted-tbn3.gstatic.com/images?q=tb...   \n46  https://encrypted-tbn3.gstatic.com/images?q=tb...   \n47  https://encrypted-tbn1.gstatic.com/images?q=tb...   \n48  https://encrypted-tbn0.gstatic.com/images?q=tb...   \n49  https://encrypted-tbn1.gstatic.com/images?q=tb...   \n50  https://encrypted-tbn3.gstatic.com/images?q=tb...   \n51  https://encrypted-tbn3.gstatic.com/images?q=tb...   \n\n                       source  \\\n0                   MacRumors   \n1            Business Insider   \n2                   The Verge   \n3   Investor's Business Daily   \n4                     9to5Mac   \n5                  9to5Google   \n6                     Variety   \n7               Yahoo Finance   \n8                     9to5Mac   \n9                    Engadget   \n10                Push Square   \n11                       CNET   \n12                 9to5Google   \n13                        IGN   \n14                 TechCrunch   \n15                     Forbes   \n16                  The Verge   \n17                    9to5Mac   \n18                     Kotaku   \n19                   Engadget   \n20                    9to5Mac   \n21                     Kotaku   \n22             Android Police   \n23                      ZDNet   \n24               Ars Technica   \n25                  The Verge   \n26                   Engadget   \n27                     Kotaku   \n28                       CNET   \n29                  The Verge   \n30             XDA Developers   \n31          Notebookcheck.net   \n32                    Gematsu   \n33                     Forbes   \n34                GAMINGbible   \n35                  The Verge   \n36         Rock Paper Shotgun   \n37                Push Square   \n38                   Defector   \n39               ScienceAlert   \n40                    Gematsu   \n41                 Gamesradar   \n42                    Gizmodo   \n43          Chicago Sun-Times   \n44                      WIRED   \n45                  PetaPixel   \n46                  MacRumors   \n47                   GameSpot   \n48               The Autopian   \n49                     Kotaku   \n50                  EventHubs   \n51                  TheStreet   \n\n                                          source_icon  \\\n0   https://encrypted-tbn1.gstatic.com/faviconV2?u...   \n1   https://encrypted-tbn3.gstatic.com/faviconV2?u...   \n2   https://encrypted-tbn2.gstatic.com/faviconV2?u...   \n3   https://encrypted-tbn0.gstatic.com/faviconV2?u...   \n4   https://encrypted-tbn0.gstatic.com/faviconV2?u...   \n5   https://encrypted-tbn3.gstatic.com/faviconV2?u...   \n6   https://encrypted-tbn1.gstatic.com/faviconV2?u...   \n7   https://encrypted-tbn1.gstatic.com/faviconV2?u...   \n8   https://encrypted-tbn0.gstatic.com/faviconV2?u...   \n9   https://encrypted-tbn1.gstatic.com/faviconV2?u...   \n10  https://encrypted-tbn2.gstatic.com/faviconV2?u...   \n11  https://encrypted-tbn3.gstatic.com/faviconV2?u...   \n12  https://encrypted-tbn3.gstatic.com/faviconV2?u...   \n13  https://encrypted-tbn1.gstatic.com/faviconV2?u...   \n14  https://encrypted-tbn1.gstatic.com/faviconV2?u...   \n15  https://encrypted-tbn2.gstatic.com/faviconV2?u...   \n16  https://encrypted-tbn2.gstatic.com/faviconV2?u...   \n17  https://encrypted-tbn0.gstatic.com/faviconV2?u...   \n18  https://encrypted-tbn3.gstatic.com/faviconV2?u...   \n19  https://encrypted-tbn1.gstatic.com/faviconV2?u...   \n20  https://encrypted-tbn0.gstatic.com/faviconV2?u...   \n21  https://encrypted-tbn3.gstatic.com/faviconV2?u...   \n22  https://encrypted-tbn1.gstatic.com/faviconV2?u...   \n23  https://encrypted-tbn3.gstatic.com/faviconV2?u...   \n24  https://encrypted-tbn0.gstatic.com/faviconV2?u...   \n25  https://encrypted-tbn2.gstatic.com/faviconV2?u...   \n26  https://encrypted-tbn1.gstatic.com/faviconV2?u...   \n27  https://encrypted-tbn3.gstatic.com/faviconV2?u...   \n28  https://encrypted-tbn3.gstatic.com/faviconV2?u...   \n29  https://encrypted-tbn2.gstatic.com/faviconV2?u...   \n30  https://encrypted-tbn3.gstatic.com/faviconV2?u...   \n31  https://encrypted-tbn3.gstatic.com/faviconV2?u...   \n32  https://encrypted-tbn0.gstatic.com/faviconV2?u...   \n33  https://encrypted-tbn2.gstatic.com/faviconV2?u...   \n34  https://encrypted-tbn3.gstatic.com/faviconV2?u...   \n35  https://encrypted-tbn2.gstatic.com/faviconV2?u...   \n36  https://encrypted-tbn3.gstatic.com/faviconV2?u...   \n37  https://encrypted-tbn2.gstatic.com/faviconV2?u...   \n38  https://encrypted-tbn0.gstatic.com/faviconV2?u...   \n39  https://encrypted-tbn2.gstatic.com/faviconV2?u...   \n40  https://encrypted-tbn0.gstatic.com/faviconV2?u...   \n41  https://encrypted-tbn3.gstatic.com/faviconV2?u...   \n42  https://encrypted-tbn1.gstatic.com/faviconV2?u...   \n43  https://encrypted-tbn3.gstatic.com/faviconV2?u...   \n44  https://encrypted-tbn2.gstatic.com/faviconV2?u...   \n45  https://encrypted-tbn2.gstatic.com/faviconV2?u...   \n46  https://encrypted-tbn1.gstatic.com/faviconV2?u...   \n47  https://encrypted-tbn1.gstatic.com/faviconV2?u...   \n48  https://encrypted-tbn3.gstatic.com/faviconV2?u...   \n49  https://encrypted-tbn3.gstatic.com/faviconV2?u...   \n50  https://encrypted-tbn2.gstatic.com/faviconV2?u...   \n51  https://encrypted-tbn1.gstatic.com/faviconV2?u...   \n\n                                                title     section  \\\n0         Google One VPN to Shut Down Later This Year  Technology   \n1   Humane Engineer Admits Ai Pin Can Be 'Frustrat...  Technology   \n2   Microsoft starts testing ads in the Windows 11...  Technology   \n3                  Apple Stock Rises On AI Mac Report  Technology   \n4   Apple's John Ternus defends iPhone parts pairi...  Technology   \n5   Android 15 Beta 1 and the curious case of 'Pix...  Technology   \n6   ‘Fallout 76’ Is Now Free For New Prime Members...  Technology   \n7   Google seeks to monetize AI investments with A...  Technology   \n8   iOS 18 Siri: Three clues about what it may be ...  Technology   \n9       Paid ChatGPT users can now access GPT-4 Turbo  Technology   \n10  Stellar Blade's Demo Had Way More Daily Active...  Technology   \n11  Best Buy Drops New 3-Day Sale With Massive Sav...  Technology   \n12  Samsung bringing Galaxy AI features to S22, S2...  Technology   \n13  Nintendo Switch Online Gets Three SNES Classic...  Technology   \n14  Meta is testing an AI-powered search bar in In...  Technology   \n15  Apple Issues New Spyware Attack Warning To iPh...  Technology   \n16  Japanese man arrested for allegedly hacking Po...  Technology   \n17  Four things to expect from the next-generation...  Technology   \n18  Game Studio Shuts Down Before Shipping A Game,...  Technology   \n19  Apple's MacBook Air M2 returns to an all-time ...  Technology   \n20  Apple Watch 'ghost touch' problem continues to...  Technology   \n21  Overwatch 2's New Season Reimagines Its Heroes...  Technology   \n22       Google is launching a paid version of Chrome  Technology   \n23  Samsung will give you a free 65-inch 4K TV rig...  Technology   \n24  Google mocks Epic's proposed reforms to end An...  Technology   \n25  Google's Pixel 8A leaks in all colors — includ...  Technology   \n26  Ubisoft is deleting The Crew from players' lib...  Technology   \n27  Discord Is Taking Out Nintendo Switch Emulator...  Technology   \n28  Google Will Open Its Magic Editor AI Photo Too...  Technology   \n29  4TB SD cards are arriving in 2025 for your cam...  Technology   \n30  iPhone 15 Pro Max vs Xiaomi 14 Ultra camera sh...  Technology   \n31  Sony WH-ULT900N: New Sony over-ear wireless he...  Technology   \n32  Shin Megami Tensei V: Vengeance details new Na...  Technology   \n33  Destiny 2’s ‘Shiny’ Weapons Are Its Best Loot ...  Technology   \n34  GTA 6 fans uncover one hour of gameplay footag...  Technology   \n35        TikTok may add AI avatars that can make ads  Technology   \n36  Bethesda update Fallout 4 for your \"next-gener...  Technology   \n37  Japan Sales Charts: Rise of the Ronin Rides Ag...  Technology   \n38                 If You Love Podcasts, Dump Spotify  Technology   \n39  NASA Is Set to Launch Its Next-Gen Solar Sail ...  Technology   \n40  Visions of Mana 'Continue Your Life with Mana'...  Technology   \n41  The Helldivers 2 dev asked players about its n...  Technology   \n42        How to Use Android's Find My Device Network  Technology   \n43  Gail Wise bought the first Ford Mustang sold i...  Technology   \n44  San Francisco's Train System Still Uses Floppy...  Technology   \n45  Adobe Will Buy Your Videos for Up to $7.25 Per...  Technology   \n46  DuckDuckGo Launches 3-in-1 'Privacy Pro' Subsc...  Technology   \n47  Destiny 2 Is Finally Fixing An Issue That Has ...  Technology   \n48  The Corvette ZR1 Is Coming And It Could Be The...  Technology   \n49  Women Valorant Players Are Still Facing Harass...  Technology   \n50  Big issue arises in Super Smash Bros. for 3DS ...  Technology   \n51         Roku is planning a change users won't like  Technology   \n\n                 download_date        date  \n0   2024-04-13 04:48:20.415173  2024-04-13  \n1   2024-04-13 04:48:20.415173  2024-04-13  \n2   2024-04-13 04:48:20.415173  2024-04-13  \n3   2024-04-13 04:48:20.415173  2024-04-13  \n4   2024-04-13 04:48:20.415173  2024-04-13  \n5   2024-04-13 04:48:20.415173  2024-04-13  \n6   2024-04-13 04:48:20.415173  2024-04-13  \n7   2024-04-13 04:48:20.415173  2024-04-13  \n8   2024-04-13 04:48:20.415173  2024-04-13  \n9   2024-04-13 04:48:20.415173  2024-04-13  \n10  2024-04-13 04:48:20.415173  2024-04-13  \n11  2024-04-13 04:48:20.415173  2024-04-13  \n12  2024-04-13 04:48:20.415173  2024-04-13  \n13  2024-04-13 04:48:20.415173  2024-04-13  \n14  2024-04-13 04:48:20.415173  2024-04-13  \n15  2024-04-13 04:48:20.415173  2024-04-13  \n16  2024-04-13 04:48:20.415173  2024-04-13  \n17  2024-04-13 04:48:20.415173  2024-04-13  \n18  2024-04-13 04:48:20.415173  2024-04-13  \n19  2024-04-13 04:48:20.415173  2024-04-13  \n20  2024-04-13 04:48:20.415173  2024-04-13  \n21  2024-04-13 04:48:20.415173  2024-04-13  \n22  2024-04-13 04:48:20.415173  2024-04-13  \n23  2024-04-13 04:48:20.415173  2024-04-13  \n24  2024-04-13 04:48:20.415173  2024-04-13  \n25  2024-04-13 04:48:20.415173  2024-04-13  \n26  2024-04-13 04:48:20.415173  2024-04-13  \n27  2024-04-13 04:48:20.415173  2024-04-13  \n28  2024-04-13 04:48:20.415173  2024-04-13  \n29  2024-04-13 04:48:20.415173  2024-04-13  \n30  2024-04-13 04:48:20.415173  2024-04-13  \n31  2024-04-13 04:48:20.415173  2024-04-13  \n32  2024-04-13 04:48:20.415173  2024-04-13  \n33  2024-04-13 04:48:20.415173  2024-04-13  \n34  2024-04-13 04:48:20.415173  2024-04-13  \n35  2024-04-13 04:48:20.415173  2024-04-13  \n36  2024-04-13 04:48:20.415173  2024-04-13  \n37  2024-04-13 04:48:20.415173  2024-04-13  \n38  2024-04-13 04:48:20.415173  2024-04-13  \n39  2024-04-13 04:48:20.415173  2024-04-13  \n40  2024-04-13 04:48:20.415173  2024-04-13  \n41  2024-04-13 04:48:20.415173  2024-04-13  \n42  2024-04-13 04:48:20.415173  2024-04-13  \n43  2024-04-13 04:48:20.415173  2024-04-13  \n44  2024-04-13 04:48:20.415173  2024-04-13  \n45  2024-04-13 04:48:20.415173  2024-04-13  \n46  2024-04-13 04:48:20.415173  2024-04-13  \n47  2024-04-13 04:48:20.415173  2024-04-13  \n48  2024-04-13 04:48:20.415173  2024-04-13  \n49  2024-04-13 04:48:20.415173  2024-04-13  \n50  2024-04-13 04:48:20.415173  2024-04-13  \n51  2024-04-13 04:48:20.415173  2024-04-13  ",
      "text/html": "<div>\n<style scoped>\n    .dataframe tbody tr th:only-of-type {\n        vertical-align: middle;\n    }\n\n    .dataframe tbody tr th {\n        vertical-align: top;\n    }\n\n    .dataframe thead th {\n        text-align: right;\n    }\n</style>\n<table border=\"1\" class=\"dataframe\">\n  <thead>\n    <tr style=\"text-align: right;\">\n      <th></th>\n      <th>link</th>\n      <th>og</th>\n      <th>source</th>\n      <th>source_icon</th>\n      <th>title</th>\n      <th>section</th>\n      <th>download_date</th>\n      <th>date</th>\n    </tr>\n  </thead>\n  <tbody>\n    <tr>\n      <th>0</th>\n      <td>https://news.google.com/articles/CBMiTmh0dHBzO...</td>\n      <td>https://encrypted-tbn0.gstatic.com/images?q=tb...</td>\n      <td>MacRumors</td>\n      <td>https://encrypted-tbn1.gstatic.com/faviconV2?u...</td>\n      <td>Google One VPN to Shut Down Later This Year</td>\n      <td>Technology</td>\n      <td>2024-04-13 04:48:20.415173</td>\n      <td>2024-04-13</td>\n    </tr>\n    <tr>\n      <th>1</th>\n      <td>https://news.google.com/articles/CBMiWmh0dHBzO...</td>\n      <td>https://encrypted-tbn3.gstatic.com/images?q=tb...</td>\n      <td>Business Insider</td>\n      <td>https://encrypted-tbn3.gstatic.com/faviconV2?u...</td>\n      <td>Humane Engineer Admits Ai Pin Can Be 'Frustrat...</td>\n      <td>Technology</td>\n      <td>2024-04-13 04:48:20.415173</td>\n      <td>2024-04-13</td>\n    </tr>\n    <tr>\n      <th>2</th>\n      <td>https://news.google.com/articles/CBMiY2h0dHBzO...</td>\n      <td>https://encrypted-tbn2.gstatic.com/images?q=tb...</td>\n      <td>The Verge</td>\n      <td>https://encrypted-tbn2.gstatic.com/faviconV2?u...</td>\n      <td>Microsoft starts testing ads in the Windows 11...</td>\n      <td>Technology</td>\n      <td>2024-04-13 04:48:20.415173</td>\n      <td>2024-04-13</td>\n    </tr>\n    <tr>\n      <th>3</th>\n      <td>https://news.google.com/articles/CBMiSWh0dHBzO...</td>\n      <td>https://encrypted-tbn3.gstatic.com/images?q=tb...</td>\n      <td>Investor's Business Daily</td>\n      <td>https://encrypted-tbn0.gstatic.com/faviconV2?u...</td>\n      <td>Apple Stock Rises On AI Mac Report</td>\n      <td>Technology</td>\n      <td>2024-04-13 04:48:20.415173</td>\n      <td>2024-04-13</td>\n    </tr>\n    <tr>\n      <th>4</th>\n      <td>https://news.google.com/articles/CBMiRmh0dHBzO...</td>\n      <td>https://encrypted-tbn0.gstatic.com/images?q=tb...</td>\n      <td>9to5Mac</td>\n      <td>https://encrypted-tbn0.gstatic.com/faviconV2?u...</td>\n      <td>Apple's John Ternus defends iPhone parts pairi...</td>\n      <td>Technology</td>\n      <td>2024-04-13 04:48:20.415173</td>\n      <td>2024-04-13</td>\n    </tr>\n    <tr>\n      <th>5</th>\n      <td>https://news.google.com/articles/CBMiQmh0dHBzO...</td>\n      <td>https://encrypted-tbn3.gstatic.com/images?q=tb...</td>\n      <td>9to5Google</td>\n      <td>https://encrypted-tbn3.gstatic.com/faviconV2?u...</td>\n      <td>Android 15 Beta 1 and the curious case of 'Pix...</td>\n      <td>Technology</td>\n      <td>2024-04-13 04:48:20.415173</td>\n      <td>2024-04-13</td>\n    </tr>\n    <tr>\n      <th>6</th>\n      <td>https://news.google.com/articles/CBMiV2h0dHBzO...</td>\n      <td>https://encrypted-tbn2.gstatic.com/images?q=tb...</td>\n      <td>Variety</td>\n      <td>https://encrypted-tbn1.gstatic.com/faviconV2?u...</td>\n      <td>‘Fallout 76’ Is Now Free For New Prime Members...</td>\n      <td>Technology</td>\n      <td>2024-04-13 04:48:20.415173</td>\n      <td>2024-04-13</td>\n    </tr>\n    <tr>\n      <th>7</th>\n      <td>https://news.google.com/articles/CBMie2h0dHBzO...</td>\n      <td>https://encrypted-tbn0.gstatic.com/images?q=tb...</td>\n      <td>Yahoo Finance</td>\n      <td>https://encrypted-tbn1.gstatic.com/faviconV2?u...</td>\n      <td>Google seeks to monetize AI investments with A...</td>\n      <td>Technology</td>\n      <td>2024-04-13 04:48:20.415173</td>\n      <td>2024-04-13</td>\n    </tr>\n    <tr>\n      <th>8</th>\n      <td>https://news.google.com/articles/CBMiK2h0dHBzO...</td>\n      <td>https://encrypted-tbn2.gstatic.com/images?q=tb...</td>\n      <td>9to5Mac</td>\n      <td>https://encrypted-tbn0.gstatic.com/faviconV2?u...</td>\n      <td>iOS 18 Siri: Three clues about what it may be ...</td>\n      <td>Technology</td>\n      <td>2024-04-13 04:48:20.415173</td>\n      <td>2024-04-13</td>\n    </tr>\n    <tr>\n      <th>9</th>\n      <td>https://news.google.com/articles/CBMiVWh0dHBzO...</td>\n      <td>https://encrypted-tbn2.gstatic.com/images?q=tb...</td>\n      <td>Engadget</td>\n      <td>https://encrypted-tbn1.gstatic.com/faviconV2?u...</td>\n      <td>Paid ChatGPT users can now access GPT-4 Turbo</td>\n      <td>Technology</td>\n      <td>2024-04-13 04:48:20.415173</td>\n      <td>2024-04-13</td>\n    </tr>\n    <tr>\n      <th>10</th>\n      <td>https://news.google.com/articles/CBMie2h0dHBzO...</td>\n      <td>https://encrypted-tbn2.gstatic.com/images?q=tb...</td>\n      <td>Push Square</td>\n      <td>https://encrypted-tbn2.gstatic.com/faviconV2?u...</td>\n      <td>Stellar Blade's Demo Had Way More Daily Active...</td>\n      <td>Technology</td>\n      <td>2024-04-13 04:48:20.415173</td>\n      <td>2024-04-13</td>\n    </tr>\n    <tr>\n      <th>11</th>\n      <td>https://news.google.com/articles/CBMiYWh0dHBzO...</td>\n      <td>https://encrypted-tbn3.gstatic.com/images?q=tb...</td>\n      <td>CNET</td>\n      <td>https://encrypted-tbn3.gstatic.com/faviconV2?u...</td>\n      <td>Best Buy Drops New 3-Day Sale With Massive Sav...</td>\n      <td>Technology</td>\n      <td>2024-04-13 04:48:20.415173</td>\n      <td>2024-04-13</td>\n    </tr>\n    <tr>\n      <th>12</th>\n      <td>https://news.google.com/articles/CBMiQWh0dHBzO...</td>\n      <td>https://encrypted-tbn0.gstatic.com/images?q=tb...</td>\n      <td>9to5Google</td>\n      <td>https://encrypted-tbn3.gstatic.com/faviconV2?u...</td>\n      <td>Samsung bringing Galaxy AI features to S22, S2...</td>\n      <td>Technology</td>\n      <td>2024-04-13 04:48:20.415173</td>\n      <td>2024-04-13</td>\n    </tr>\n    <tr>\n      <th>13</th>\n      <td>https://news.google.com/articles/CBMiUmh0dHBzO...</td>\n      <td>https://encrypted-tbn2.gstatic.com/images?q=tb...</td>\n      <td>IGN</td>\n      <td>https://encrypted-tbn1.gstatic.com/faviconV2?u...</td>\n      <td>Nintendo Switch Online Gets Three SNES Classic...</td>\n      <td>Technology</td>\n      <td>2024-04-13 04:48:20.415173</td>\n      <td>2024-04-13</td>\n    </tr>\n    <tr>\n      <th>14</th>\n      <td>https://news.google.com/articles/CBMiWGh0dHBzO...</td>\n      <td>https://encrypted-tbn2.gstatic.com/images?q=tb...</td>\n      <td>TechCrunch</td>\n      <td>https://encrypted-tbn1.gstatic.com/faviconV2?u...</td>\n      <td>Meta is testing an AI-powered search bar in In...</td>\n      <td>Technology</td>\n      <td>2024-04-13 04:48:20.415173</td>\n      <td>2024-04-13</td>\n    </tr>\n    <tr>\n      <th>15</th>\n      <td>https://news.google.com/articles/CBMicGh0dHBzO...</td>\n      <td>https://encrypted-tbn2.gstatic.com/images?q=tb...</td>\n      <td>Forbes</td>\n      <td>https://encrypted-tbn2.gstatic.com/faviconV2?u...</td>\n      <td>Apple Issues New Spyware Attack Warning To iPh...</td>\n      <td>Technology</td>\n      <td>2024-04-13 04:48:20.415173</td>\n      <td>2024-04-13</td>\n    </tr>\n    <tr>\n      <th>16</th>\n      <td>https://news.google.com/articles/CBMiV2h0dHBzO...</td>\n      <td>https://encrypted-tbn0.gstatic.com/images?q=tb...</td>\n      <td>The Verge</td>\n      <td>https://encrypted-tbn2.gstatic.com/faviconV2?u...</td>\n      <td>Japanese man arrested for allegedly hacking Po...</td>\n      <td>Technology</td>\n      <td>2024-04-13 04:48:20.415173</td>\n      <td>2024-04-13</td>\n    </tr>\n    <tr>\n      <th>17</th>\n      <td>https://news.google.com/articles/CBMiOGh0dHBzO...</td>\n      <td>https://encrypted-tbn3.gstatic.com/images?q=tb...</td>\n      <td>9to5Mac</td>\n      <td>https://encrypted-tbn0.gstatic.com/faviconV2?u...</td>\n      <td>Four things to expect from the next-generation...</td>\n      <td>Technology</td>\n      <td>2024-04-13 04:48:20.415173</td>\n      <td>2024-04-13</td>\n    </tr>\n    <tr>\n      <th>18</th>\n      <td>https://news.google.com/articles/CBMiVWh0dHBzO...</td>\n      <td>https://encrypted-tbn1.gstatic.com/images?q=tb...</td>\n      <td>Kotaku</td>\n      <td>https://encrypted-tbn3.gstatic.com/faviconV2?u...</td>\n      <td>Game Studio Shuts Down Before Shipping A Game,...</td>\n      <td>Technology</td>\n      <td>2024-04-13 04:48:20.415173</td>\n      <td>2024-04-13</td>\n    </tr>\n    <tr>\n      <th>19</th>\n      <td>https://news.google.com/articles/CBMigwFodHRwc...</td>\n      <td>https://encrypted-tbn0.gstatic.com/images?q=tb...</td>\n      <td>Engadget</td>\n      <td>https://encrypted-tbn1.gstatic.com/faviconV2?u...</td>\n      <td>Apple's MacBook Air M2 returns to an all-time ...</td>\n      <td>Technology</td>\n      <td>2024-04-13 04:48:20.415173</td>\n      <td>2024-04-13</td>\n    </tr>\n    <tr>\n      <th>20</th>\n      <td>https://news.google.com/articles/CBMiP2h0dHBzO...</td>\n      <td>https://encrypted-tbn2.gstatic.com/images?q=tb...</td>\n      <td>9to5Mac</td>\n      <td>https://encrypted-tbn0.gstatic.com/faviconV2?u...</td>\n      <td>Apple Watch 'ghost touch' problem continues to...</td>\n      <td>Technology</td>\n      <td>2024-04-13 04:48:20.415173</td>\n      <td>2024-04-13</td>\n    </tr>\n    <tr>\n      <th>21</th>\n      <td>https://news.google.com/articles/CBMiVGh0dHBzO...</td>\n      <td>https://encrypted-tbn1.gstatic.com/images?q=tb...</td>\n      <td>Kotaku</td>\n      <td>https://encrypted-tbn3.gstatic.com/faviconV2?u...</td>\n      <td>Overwatch 2's New Season Reimagines Its Heroes...</td>\n      <td>Technology</td>\n      <td>2024-04-13 04:48:20.415173</td>\n      <td>2024-04-13</td>\n    </tr>\n    <tr>\n      <th>22</th>\n      <td>https://news.google.com/articles/CBMiTmh0dHBzO...</td>\n      <td>https://encrypted-tbn3.gstatic.com/images?q=tb...</td>\n      <td>Android Police</td>\n      <td>https://encrypted-tbn1.gstatic.com/faviconV2?u...</td>\n      <td>Google is launching a paid version of Chrome</td>\n      <td>Technology</td>\n      <td>2024-04-13 04:48:20.415173</td>\n      <td>2024-04-13</td>\n    </tr>\n    <tr>\n      <th>23</th>\n      <td>https://news.google.com/articles/CBMilwFodHRwc...</td>\n      <td>https://encrypted-tbn3.gstatic.com/images?q=tb...</td>\n      <td>ZDNet</td>\n      <td>https://encrypted-tbn3.gstatic.com/faviconV2?u...</td>\n      <td>Samsung will give you a free 65-inch 4K TV rig...</td>\n      <td>Technology</td>\n      <td>2024-04-13 04:48:20.415173</td>\n      <td>2024-04-13</td>\n    </tr>\n    <tr>\n      <th>24</th>\n      <td>https://news.google.com/articles/CBMieWh0dHBzO...</td>\n      <td>https://encrypted-tbn2.gstatic.com/images?q=tb...</td>\n      <td>Ars Technica</td>\n      <td>https://encrypted-tbn0.gstatic.com/faviconV2?u...</td>\n      <td>Google mocks Epic's proposed reforms to end An...</td>\n      <td>Technology</td>\n      <td>2024-04-13 04:48:20.415173</td>\n      <td>2024-04-13</td>\n    </tr>\n    <tr>\n      <th>25</th>\n      <td>https://news.google.com/articles/CBMiR2h0dHBzO...</td>\n      <td>https://encrypted-tbn3.gstatic.com/images?q=tb...</td>\n      <td>The Verge</td>\n      <td>https://encrypted-tbn2.gstatic.com/faviconV2?u...</td>\n      <td>Google's Pixel 8A leaks in all colors — includ...</td>\n      <td>Technology</td>\n      <td>2024-04-13 04:48:20.415173</td>\n      <td>2024-04-13</td>\n    </tr>\n    <tr>\n      <th>26</th>\n      <td>https://news.google.com/articles/CBMid2h0dHBzO...</td>\n      <td>https://encrypted-tbn0.gstatic.com/images?q=tb...</td>\n      <td>Engadget</td>\n      <td>https://encrypted-tbn1.gstatic.com/faviconV2?u...</td>\n      <td>Ubisoft is deleting The Crew from players' lib...</td>\n      <td>Technology</td>\n      <td>2024-04-13 04:48:20.415173</td>\n      <td>2024-04-13</td>\n    </tr>\n    <tr>\n      <th>27</th>\n      <td>https://news.google.com/articles/CBMiUGh0dHBzO...</td>\n      <td>https://encrypted-tbn3.gstatic.com/images?q=tb...</td>\n      <td>Kotaku</td>\n      <td>https://encrypted-tbn3.gstatic.com/faviconV2?u...</td>\n      <td>Discord Is Taking Out Nintendo Switch Emulator...</td>\n      <td>Technology</td>\n      <td>2024-04-13 04:48:20.415173</td>\n      <td>2024-04-13</td>\n    </tr>\n    <tr>\n      <th>28</th>\n      <td>https://news.google.com/articles/CBMibWh0dHBzO...</td>\n      <td>https://encrypted-tbn0.gstatic.com/images?q=tb...</td>\n      <td>CNET</td>\n      <td>https://encrypted-tbn3.gstatic.com/faviconV2?u...</td>\n      <td>Google Will Open Its Magic Editor AI Photo Too...</td>\n      <td>Technology</td>\n      <td>2024-04-13 04:48:20.415173</td>\n      <td>2024-04-13</td>\n    </tr>\n    <tr>\n      <th>29</th>\n      <td>https://news.google.com/articles/CBMiXmh0dHBzO...</td>\n      <td>https://encrypted-tbn1.gstatic.com/images?q=tb...</td>\n      <td>The Verge</td>\n      <td>https://encrypted-tbn2.gstatic.com/faviconV2?u...</td>\n      <td>4TB SD cards are arriving in 2025 for your cam...</td>\n      <td>Technology</td>\n      <td>2024-04-13 04:48:20.415173</td>\n      <td>2024-04-13</td>\n    </tr>\n    <tr>\n      <th>30</th>\n      <td>https://news.google.com/articles/CBMiVGh0dHBzO...</td>\n      <td>https://encrypted-tbn2.gstatic.com/images?q=tb...</td>\n      <td>XDA Developers</td>\n      <td>https://encrypted-tbn3.gstatic.com/faviconV2?u...</td>\n      <td>iPhone 15 Pro Max vs Xiaomi 14 Ultra camera sh...</td>\n      <td>Technology</td>\n      <td>2024-04-13 04:48:20.415173</td>\n      <td>2024-04-13</td>\n    </tr>\n    <tr>\n      <th>31</th>\n      <td>https://news.google.com/articles/CBMiqgFodHRwc...</td>\n      <td>https://encrypted-tbn2.gstatic.com/images?q=tb...</td>\n      <td>Notebookcheck.net</td>\n      <td>https://encrypted-tbn3.gstatic.com/faviconV2?u...</td>\n      <td>Sony WH-ULT900N: New Sony over-ear wireless he...</td>\n      <td>Technology</td>\n      <td>2024-04-13 04:48:20.415173</td>\n      <td>2024-04-13</td>\n    </tr>\n    <tr>\n      <th>32</th>\n      <td>https://news.google.com/articles/CBMieWh0dHBzO...</td>\n      <td>https://encrypted-tbn1.gstatic.com/images?q=tb...</td>\n      <td>Gematsu</td>\n      <td>https://encrypted-tbn0.gstatic.com/faviconV2?u...</td>\n      <td>Shin Megami Tensei V: Vengeance details new Na...</td>\n      <td>Technology</td>\n      <td>2024-04-13 04:48:20.415173</td>\n      <td>2024-04-13</td>\n    </tr>\n    <tr>\n      <th>33</th>\n      <td>https://news.google.com/articles/CBMifWh0dHBzO...</td>\n      <td>https://encrypted-tbn3.gstatic.com/images?q=tb...</td>\n      <td>Forbes</td>\n      <td>https://encrypted-tbn2.gstatic.com/faviconV2?u...</td>\n      <td>Destiny 2’s ‘Shiny’ Weapons Are Its Best Loot ...</td>\n      <td>Technology</td>\n      <td>2024-04-13 04:48:20.415173</td>\n      <td>2024-04-13</td>\n    </tr>\n    <tr>\n      <th>34</th>\n      <td>https://news.google.com/articles/CBMiZGh0dHBzO...</td>\n      <td>https://encrypted-tbn3.gstatic.com/images?q=tb...</td>\n      <td>GAMINGbible</td>\n      <td>https://encrypted-tbn3.gstatic.com/faviconV2?u...</td>\n      <td>GTA 6 fans uncover one hour of gameplay footag...</td>\n      <td>Technology</td>\n      <td>2024-04-13 04:48:20.415173</td>\n      <td>2024-04-13</td>\n    </tr>\n    <tr>\n      <th>35</th>\n      <td>https://news.google.com/articles/CBMiVWh0dHBzO...</td>\n      <td>https://encrypted-tbn1.gstatic.com/images?q=tb...</td>\n      <td>The Verge</td>\n      <td>https://encrypted-tbn2.gstatic.com/faviconV2?u...</td>\n      <td>TikTok may add AI avatars that can make ads</td>\n      <td>Technology</td>\n      <td>2024-04-13 04:48:20.415173</td>\n      <td>2024-04-13</td>\n    </tr>\n    <tr>\n      <th>36</th>\n      <td>https://news.google.com/articles/CBMiVmh0dHBzO...</td>\n      <td>https://encrypted-tbn1.gstatic.com/images?q=tb...</td>\n      <td>Rock Paper Shotgun</td>\n      <td>https://encrypted-tbn3.gstatic.com/faviconV2?u...</td>\n      <td>Bethesda update Fallout 4 for your \"next-gener...</td>\n      <td>Technology</td>\n      <td>2024-04-13 04:48:20.415173</td>\n      <td>2024-04-13</td>\n    </tr>\n    <tr>\n      <th>37</th>\n      <td>https://news.google.com/articles/CBMib2h0dHBzO...</td>\n      <td>https://encrypted-tbn0.gstatic.com/images?q=tb...</td>\n      <td>Push Square</td>\n      <td>https://encrypted-tbn2.gstatic.com/faviconV2?u...</td>\n      <td>Japan Sales Charts: Rise of the Ronin Rides Ag...</td>\n      <td>Technology</td>\n      <td>2024-04-13 04:48:20.415173</td>\n      <td>2024-04-13</td>\n    </tr>\n    <tr>\n      <th>38</th>\n      <td>https://news.google.com/articles/CBMiNmh0dHBzO...</td>\n      <td>https://encrypted-tbn1.gstatic.com/images?q=tb...</td>\n      <td>Defector</td>\n      <td>https://encrypted-tbn0.gstatic.com/faviconV2?u...</td>\n      <td>If You Love Podcasts, Dump Spotify</td>\n      <td>Technology</td>\n      <td>2024-04-13 04:48:20.415173</td>\n      <td>2024-04-13</td>\n    </tr>\n    <tr>\n      <th>39</th>\n      <td>https://news.google.com/articles/CBMiWmh0dHBzO...</td>\n      <td>https://encrypted-tbn3.gstatic.com/images?q=tb...</td>\n      <td>ScienceAlert</td>\n      <td>https://encrypted-tbn2.gstatic.com/faviconV2?u...</td>\n      <td>NASA Is Set to Launch Its Next-Gen Solar Sail ...</td>\n      <td>Technology</td>\n      <td>2024-04-13 04:48:20.415173</td>\n      <td>2024-04-13</td>\n    </tr>\n    <tr>\n      <th>40</th>\n      <td>https://news.google.com/articles/CBMiXGh0dHBzO...</td>\n      <td>https://encrypted-tbn2.gstatic.com/images?q=tb...</td>\n      <td>Gematsu</td>\n      <td>https://encrypted-tbn0.gstatic.com/faviconV2?u...</td>\n      <td>Visions of Mana 'Continue Your Life with Mana'...</td>\n      <td>Technology</td>\n      <td>2024-04-13 04:48:20.415173</td>\n      <td>2024-04-13</td>\n    </tr>\n    <tr>\n      <th>41</th>\n      <td>https://news.google.com/articles/CBMivwFodHRwc...</td>\n      <td>https://encrypted-tbn0.gstatic.com/images?q=tb...</td>\n      <td>Gamesradar</td>\n      <td>https://encrypted-tbn3.gstatic.com/faviconV2?u...</td>\n      <td>The Helldivers 2 dev asked players about its n...</td>\n      <td>Technology</td>\n      <td>2024-04-13 04:48:20.415173</td>\n      <td>2024-04-13</td>\n    </tr>\n    <tr>\n      <th>42</th>\n      <td>https://news.google.com/articles/CBMiSGh0dHBzO...</td>\n      <td>https://encrypted-tbn1.gstatic.com/images?q=tb...</td>\n      <td>Gizmodo</td>\n      <td>https://encrypted-tbn1.gstatic.com/faviconV2?u...</td>\n      <td>How to Use Android's Find My Device Network</td>\n      <td>Technology</td>\n      <td>2024-04-13 04:48:20.415173</td>\n      <td>2024-04-13</td>\n    </tr>\n    <tr>\n      <th>43</th>\n      <td>https://news.google.com/articles/CBMiigFodHRwc...</td>\n      <td>https://encrypted-tbn2.gstatic.com/images?q=tb...</td>\n      <td>Chicago Sun-Times</td>\n      <td>https://encrypted-tbn3.gstatic.com/faviconV2?u...</td>\n      <td>Gail Wise bought the first Ford Mustang sold i...</td>\n      <td>Technology</td>\n      <td>2024-04-13 04:48:20.415173</td>\n      <td>2024-04-13</td>\n    </tr>\n    <tr>\n      <th>44</th>\n      <td>https://news.google.com/articles/CBMiQ2h0dHBzO...</td>\n      <td>https://encrypted-tbn2.gstatic.com/images?q=tb...</td>\n      <td>WIRED</td>\n      <td>https://encrypted-tbn2.gstatic.com/faviconV2?u...</td>\n      <td>San Francisco's Train System Still Uses Floppy...</td>\n      <td>Technology</td>\n      <td>2024-04-13 04:48:20.415173</td>\n      <td>2024-04-13</td>\n    </tr>\n    <tr>\n      <th>45</th>\n      <td>https://news.google.com/articles/CBMiaWh0dHBzO...</td>\n      <td>https://encrypted-tbn3.gstatic.com/images?q=tb...</td>\n      <td>PetaPixel</td>\n      <td>https://encrypted-tbn2.gstatic.com/faviconV2?u...</td>\n      <td>Adobe Will Buy Your Videos for Up to $7.25 Per...</td>\n      <td>Technology</td>\n      <td>2024-04-13 04:48:20.415173</td>\n      <td>2024-04-13</td>\n    </tr>\n    <tr>\n      <th>46</th>\n      <td>https://news.google.com/articles/CBMiSWh0dHBzO...</td>\n      <td>https://encrypted-tbn3.gstatic.com/images?q=tb...</td>\n      <td>MacRumors</td>\n      <td>https://encrypted-tbn1.gstatic.com/faviconV2?u...</td>\n      <td>DuckDuckGo Launches 3-in-1 'Privacy Pro' Subsc...</td>\n      <td>Technology</td>\n      <td>2024-04-13 04:48:20.415173</td>\n      <td>2024-04-13</td>\n    </tr>\n    <tr>\n      <th>47</th>\n      <td>https://news.google.com/articles/CBMifWh0dHBzO...</td>\n      <td>https://encrypted-tbn1.gstatic.com/images?q=tb...</td>\n      <td>GameSpot</td>\n      <td>https://encrypted-tbn1.gstatic.com/faviconV2?u...</td>\n      <td>Destiny 2 Is Finally Fixing An Issue That Has ...</td>\n      <td>Technology</td>\n      <td>2024-04-13 04:48:20.415173</td>\n      <td>2024-04-13</td>\n    </tr>\n    <tr>\n      <th>48</th>\n      <td>https://news.google.com/articles/CBMiWGh0dHBzO...</td>\n      <td>https://encrypted-tbn0.gstatic.com/images?q=tb...</td>\n      <td>The Autopian</td>\n      <td>https://encrypted-tbn3.gstatic.com/faviconV2?u...</td>\n      <td>The Corvette ZR1 Is Coming And It Could Be The...</td>\n      <td>Technology</td>\n      <td>2024-04-13 04:48:20.415173</td>\n      <td>2024-04-13</td>\n    </tr>\n    <tr>\n      <th>49</th>\n      <td>https://news.google.com/articles/CBMiUGh0dHBzO...</td>\n      <td>https://encrypted-tbn1.gstatic.com/images?q=tb...</td>\n      <td>Kotaku</td>\n      <td>https://encrypted-tbn3.gstatic.com/faviconV2?u...</td>\n      <td>Women Valorant Players Are Still Facing Harass...</td>\n      <td>Technology</td>\n      <td>2024-04-13 04:48:20.415173</td>\n      <td>2024-04-13</td>\n    </tr>\n    <tr>\n      <th>50</th>\n      <td>https://news.google.com/articles/CBMiTGh0dHBzO...</td>\n      <td>https://encrypted-tbn3.gstatic.com/images?q=tb...</td>\n      <td>EventHubs</td>\n      <td>https://encrypted-tbn2.gstatic.com/faviconV2?u...</td>\n      <td>Big issue arises in Super Smash Bros. for 3DS ...</td>\n      <td>Technology</td>\n      <td>2024-04-13 04:48:20.415173</td>\n      <td>2024-04-13</td>\n    </tr>\n    <tr>\n      <th>51</th>\n      <td>https://news.google.com/articles/CBMiTmh0dHBzO...</td>\n      <td>https://encrypted-tbn3.gstatic.com/images?q=tb...</td>\n      <td>TheStreet</td>\n      <td>https://encrypted-tbn1.gstatic.com/faviconV2?u...</td>\n      <td>Roku is planning a change users won't like</td>\n      <td>Technology</td>\n      <td>2024-04-13 04:48:20.415173</td>\n      <td>2024-04-13</td>\n    </tr>\n  </tbody>\n</table>\n</div>"
     },
     "execution_count": 11,
     "metadata": {},
     "output_type": "execute_result"
    }
   ],
   "source": [
    "# get the file from s3 using boto3\n",
    "obj = s3.get_object(Bucket=bucket_name_news, Key=technology_file)\n",
    "data_tech = pd.read_csv(obj['Body'])\n",
    "\n",
    "data_tech"
   ]
  },
  {
   "cell_type": "markdown",
   "metadata": {},
   "source": [
    " ### 🏷️ Add tags to the bucket\n",
    " When creating a resource in the cloud, it is considered a best practice to add tags for organizing resources, controlling costs, or applying security policies based on these labels. The following code demonstrates how to add tags to a bucket using a method from the boto3 library."
   ]
  },
  {
   "cell_type": "code",
   "execution_count": 44,
   "metadata": {
    "ExecuteTime": {
     "end_time": "2024-04-13T02:14:33.364016100Z",
     "start_time": "2024-04-13T02:14:33.328629600Z"
    }
   },
   "outputs": [
    {
     "data": {
      "text/plain": "{'ResponseMetadata': {'RequestId': '5dfb755a-63e5-46ac-be27-0dae93100cef',\n  'HostId': 's9lzHYrFp76ZVxRcpX9+5cjAnEH2ROuNkd2BHfIa6UkFVdtjf5mKR3/eTPFvsiP/XV/VLi31234=',\n  'HTTPStatusCode': 204,\n  'HTTPHeaders': {'content-type': 'application/xml',\n   'x-amz-request-id': '5dfb755a-63e5-46ac-be27-0dae93100cef',\n   'x-amz-id-2': 's9lzHYrFp76ZVxRcpX9+5cjAnEH2ROuNkd2BHfIa6UkFVdtjf5mKR3/eTPFvsiP/XV/VLi31234=',\n   'connection': 'close',\n   'date': 'Sat, 13 Apr 2024 02:14:33 GMT',\n   'server': 'hypercorn-h11'},\n  'RetryAttempts': 0}}"
     },
     "execution_count": 44,
     "metadata": {},
     "output_type": "execute_result"
    }
   ],
   "source": [
    "s3.put_bucket_tagging(\n",
    "    Bucket=bucket_name_news,\n",
    "    Tagging={\n",
    "        'TagSet': [\n",
    "            {\n",
    "                'Key': 'Environment',\n",
    "                'Value': 'Test'\n",
    "            },\n",
    "            {\n",
    "                'Key': 'Project',\n",
    "                'Value': 'Localstack+Boto3'\n",
    "            }\n",
    "        ]\n",
    "    }\n",
    ")"
   ]
  },
  {
   "cell_type": "code",
   "execution_count": 13,
   "metadata": {
    "ExecuteTime": {
     "end_time": "2024-04-13T01:50:37.418709500Z",
     "start_time": "2024-04-13T01:50:37.382801200Z"
    }
   },
   "outputs": [
    {
     "data": {
      "text/plain": "           Key             Value\n0  Environment              Test\n1      Project  Localstack+Boto3",
      "text/html": "<div>\n<style scoped>\n    .dataframe tbody tr th:only-of-type {\n        vertical-align: middle;\n    }\n\n    .dataframe tbody tr th {\n        vertical-align: top;\n    }\n\n    .dataframe thead th {\n        text-align: right;\n    }\n</style>\n<table border=\"1\" class=\"dataframe\">\n  <thead>\n    <tr style=\"text-align: right;\">\n      <th></th>\n      <th>Key</th>\n      <th>Value</th>\n    </tr>\n  </thead>\n  <tbody>\n    <tr>\n      <th>0</th>\n      <td>Environment</td>\n      <td>Test</td>\n    </tr>\n    <tr>\n      <th>1</th>\n      <td>Project</td>\n      <td>Localstack+Boto3</td>\n    </tr>\n  </tbody>\n</table>\n</div>"
     },
     "execution_count": 13,
     "metadata": {},
     "output_type": "execute_result"
    }
   ],
   "source": [
    "# get the tagging\n",
    "pd.json_normalize(s3.get_bucket_tagging(Bucket=bucket_name_news)['TagSet'])"
   ]
  },
  {
   "cell_type": "code",
   "outputs": [
    {
     "data": {
      "text/plain": "                                                 Key  \\\n0                                      inventory.csv   \n1  s3://news/Business/dt=20240413/data_Business_n...   \n2  s3://news/Entertainment/dt=20240413/data_Enter...   \n3  s3://news/Health/dt=20240413/data_Health_news.csv   \n4  s3://news/Science/dt=20240413/data_Science_new...   \n5  s3://news/Sports/dt=20240413/data_Sports_news.csv   \n6  s3://news/Technology/dt=20240413/data_Technolo...   \n7          s3://news/US/dt=20240413/data_US_news.csv   \n8    s3://news/World/dt=20240413/data_World_news.csv   \n\n               LastModified                                ETag   Size  \\\n0 2024-04-13 01:50:42+00:00  \"d41d8cd98f00b204e9800998ecf8427e\"      0   \n1 2024-04-13 01:48:20+00:00  \"873759a57a6264c23629c43828f31bd1\"  45494   \n2 2024-04-13 01:48:20+00:00  \"08f05fabba3cbbb1757c7b67646987b5\"  30073   \n3 2024-04-13 01:48:20+00:00  \"47d4d5bbee7068d65077ff3fc5bc4ced\"  46359   \n4 2024-04-13 01:48:20+00:00  \"f07c1171a09d3af9986d018f92468c23\"  40602   \n5 2024-04-13 01:48:20+00:00  \"f0a1650ea910e8d5abdacdc50a8d0b48\"  32605   \n6 2024-04-13 01:48:20+00:00  \"d2246d0cb227bfd605ca40e310d012db\"  33489   \n7 2024-04-13 01:48:20+00:00  \"8d9833295672d26c3e41328abf8c3631\"  48913   \n8 2024-04-13 01:48:20+00:00  \"6bc04bb9461f48332ce02bf177c2bf82\"  32001   \n\n  StorageClass Owner.DisplayName  \\\n0     STANDARD           webfile   \n1     STANDARD           webfile   \n2     STANDARD           webfile   \n3     STANDARD           webfile   \n4     STANDARD           webfile   \n5     STANDARD           webfile   \n6     STANDARD           webfile   \n7     STANDARD           webfile   \n8     STANDARD           webfile   \n\n                                            Owner.ID  \n0  75aa57f09aa0c8caeab4f8c24e99d10f8e7faeebf76c07...  \n1  75aa57f09aa0c8caeab4f8c24e99d10f8e7faeebf76c07...  \n2  75aa57f09aa0c8caeab4f8c24e99d10f8e7faeebf76c07...  \n3  75aa57f09aa0c8caeab4f8c24e99d10f8e7faeebf76c07...  \n4  75aa57f09aa0c8caeab4f8c24e99d10f8e7faeebf76c07...  \n5  75aa57f09aa0c8caeab4f8c24e99d10f8e7faeebf76c07...  \n6  75aa57f09aa0c8caeab4f8c24e99d10f8e7faeebf76c07...  \n7  75aa57f09aa0c8caeab4f8c24e99d10f8e7faeebf76c07...  \n8  75aa57f09aa0c8caeab4f8c24e99d10f8e7faeebf76c07...  ",
      "text/html": "<div>\n<style scoped>\n    .dataframe tbody tr th:only-of-type {\n        vertical-align: middle;\n    }\n\n    .dataframe tbody tr th {\n        vertical-align: top;\n    }\n\n    .dataframe thead th {\n        text-align: right;\n    }\n</style>\n<table border=\"1\" class=\"dataframe\">\n  <thead>\n    <tr style=\"text-align: right;\">\n      <th></th>\n      <th>Key</th>\n      <th>LastModified</th>\n      <th>ETag</th>\n      <th>Size</th>\n      <th>StorageClass</th>\n      <th>Owner.DisplayName</th>\n      <th>Owner.ID</th>\n    </tr>\n  </thead>\n  <tbody>\n    <tr>\n      <th>0</th>\n      <td>inventory.csv</td>\n      <td>2024-04-13 01:50:42+00:00</td>\n      <td>\"d41d8cd98f00b204e9800998ecf8427e\"</td>\n      <td>0</td>\n      <td>STANDARD</td>\n      <td>webfile</td>\n      <td>75aa57f09aa0c8caeab4f8c24e99d10f8e7faeebf76c07...</td>\n    </tr>\n    <tr>\n      <th>1</th>\n      <td>s3://news/Business/dt=20240413/data_Business_n...</td>\n      <td>2024-04-13 01:48:20+00:00</td>\n      <td>\"873759a57a6264c23629c43828f31bd1\"</td>\n      <td>45494</td>\n      <td>STANDARD</td>\n      <td>webfile</td>\n      <td>75aa57f09aa0c8caeab4f8c24e99d10f8e7faeebf76c07...</td>\n    </tr>\n    <tr>\n      <th>2</th>\n      <td>s3://news/Entertainment/dt=20240413/data_Enter...</td>\n      <td>2024-04-13 01:48:20+00:00</td>\n      <td>\"08f05fabba3cbbb1757c7b67646987b5\"</td>\n      <td>30073</td>\n      <td>STANDARD</td>\n      <td>webfile</td>\n      <td>75aa57f09aa0c8caeab4f8c24e99d10f8e7faeebf76c07...</td>\n    </tr>\n    <tr>\n      <th>3</th>\n      <td>s3://news/Health/dt=20240413/data_Health_news.csv</td>\n      <td>2024-04-13 01:48:20+00:00</td>\n      <td>\"47d4d5bbee7068d65077ff3fc5bc4ced\"</td>\n      <td>46359</td>\n      <td>STANDARD</td>\n      <td>webfile</td>\n      <td>75aa57f09aa0c8caeab4f8c24e99d10f8e7faeebf76c07...</td>\n    </tr>\n    <tr>\n      <th>4</th>\n      <td>s3://news/Science/dt=20240413/data_Science_new...</td>\n      <td>2024-04-13 01:48:20+00:00</td>\n      <td>\"f07c1171a09d3af9986d018f92468c23\"</td>\n      <td>40602</td>\n      <td>STANDARD</td>\n      <td>webfile</td>\n      <td>75aa57f09aa0c8caeab4f8c24e99d10f8e7faeebf76c07...</td>\n    </tr>\n    <tr>\n      <th>5</th>\n      <td>s3://news/Sports/dt=20240413/data_Sports_news.csv</td>\n      <td>2024-04-13 01:48:20+00:00</td>\n      <td>\"f0a1650ea910e8d5abdacdc50a8d0b48\"</td>\n      <td>32605</td>\n      <td>STANDARD</td>\n      <td>webfile</td>\n      <td>75aa57f09aa0c8caeab4f8c24e99d10f8e7faeebf76c07...</td>\n    </tr>\n    <tr>\n      <th>6</th>\n      <td>s3://news/Technology/dt=20240413/data_Technolo...</td>\n      <td>2024-04-13 01:48:20+00:00</td>\n      <td>\"d2246d0cb227bfd605ca40e310d012db\"</td>\n      <td>33489</td>\n      <td>STANDARD</td>\n      <td>webfile</td>\n      <td>75aa57f09aa0c8caeab4f8c24e99d10f8e7faeebf76c07...</td>\n    </tr>\n    <tr>\n      <th>7</th>\n      <td>s3://news/US/dt=20240413/data_US_news.csv</td>\n      <td>2024-04-13 01:48:20+00:00</td>\n      <td>\"8d9833295672d26c3e41328abf8c3631\"</td>\n      <td>48913</td>\n      <td>STANDARD</td>\n      <td>webfile</td>\n      <td>75aa57f09aa0c8caeab4f8c24e99d10f8e7faeebf76c07...</td>\n    </tr>\n    <tr>\n      <th>8</th>\n      <td>s3://news/World/dt=20240413/data_World_news.csv</td>\n      <td>2024-04-13 01:48:20+00:00</td>\n      <td>\"6bc04bb9461f48332ce02bf177c2bf82\"</td>\n      <td>32001</td>\n      <td>STANDARD</td>\n      <td>webfile</td>\n      <td>75aa57f09aa0c8caeab4f8c24e99d10f8e7faeebf76c07...</td>\n    </tr>\n  </tbody>\n</table>\n</div>"
     },
     "execution_count": 49,
     "metadata": {},
     "output_type": "execute_result"
    }
   ],
   "source": [
    "# list_objects(bucket_name_news)\n",
    "pd.json_normalize(s3.list_objects(Bucket=bucket_name_news)['Contents'])"
   ],
   "metadata": {
    "collapsed": false,
    "ExecuteTime": {
     "end_time": "2024-04-13T02:16:44.305754100Z",
     "start_time": "2024-04-13T02:16:44.242925800Z"
    }
   },
   "execution_count": 49
  },
  {
   "cell_type": "markdown",
   "metadata": {},
   "source": [
    "### 🔄 Versioning in the bucket\n",
    "Another good practice to apply is enabling versioning for your bucket. Versioning provides a way to recover and keep different versions of the same object. In the following code, we will create a file with the inventory of objects in the bucket and save the file twice. "
   ]
  },
  {
   "cell_type": "code",
   "execution_count": 50,
   "metadata": {
    "ExecuteTime": {
     "end_time": "2024-04-13T02:17:37.713534700Z",
     "start_time": "2024-04-13T02:17:37.644470Z"
    }
   },
   "outputs": [
    {
     "data": {
      "text/plain": "{'ResponseMetadata': {'RequestId': '04b98ec5-8049-44dd-913a-23f9e38618db',\n  'HostId': 's9lzHYrFp76ZVxRcpX9+5cjAnEH2ROuNkd2BHfIa6UkFVdtjf5mKR3/eTPFvsiP/XV/VLi31234=',\n  'HTTPStatusCode': 200,\n  'HTTPHeaders': {'content-type': 'application/xml',\n   'x-amz-request-id': '04b98ec5-8049-44dd-913a-23f9e38618db',\n   'x-amz-id-2': 's9lzHYrFp76ZVxRcpX9+5cjAnEH2ROuNkd2BHfIa6UkFVdtjf5mKR3/eTPFvsiP/XV/VLi31234=',\n   'connection': 'close',\n   'content-length': '0',\n   'date': 'Sat, 13 Apr 2024 02:17:37 GMT',\n   'server': 'hypercorn-h11'},\n  'RetryAttempts': 0}}"
     },
     "execution_count": 50,
     "metadata": {},
     "output_type": "execute_result"
    }
   ],
   "source": [
    "\n",
    "# allow versioning in the bucket\n",
    "s3.put_bucket_versioning(\n",
    "    Bucket=bucket_name_news,\n",
    "    VersioningConfiguration={\n",
    "        'Status': 'Enabled'\n",
    "    }\n",
    ")\n",
    "\n"
   ]
  },
  {
   "cell_type": "code",
   "execution_count": 51,
   "metadata": {
    "ExecuteTime": {
     "end_time": "2024-04-13T02:17:40.429215100Z",
     "start_time": "2024-04-13T02:17:40.383508600Z"
    }
   },
   "outputs": [
    {
     "data": {
      "text/plain": "{'ResponseMetadata': {'RequestId': '8d604fd7-f555-48ef-b255-5de6c344e3be',\n  'HostId': 's9lzHYrFp76ZVxRcpX9+5cjAnEH2ROuNkd2BHfIa6UkFVdtjf5mKR3/eTPFvsiP/XV/VLi31234=',\n  'HTTPStatusCode': 200,\n  'HTTPHeaders': {'content-type': 'application/xml',\n   'etag': '\"22c466efcf97baf493631fa3091e58d6\"',\n   'x-amz-server-side-encryption': 'AES256',\n   'x-amz-version-id': 'J8l83iJGGKrFVuxFX6xrhQ',\n   'x-amz-request-id': '8d604fd7-f555-48ef-b255-5de6c344e3be',\n   'x-amz-id-2': 's9lzHYrFp76ZVxRcpX9+5cjAnEH2ROuNkd2BHfIa6UkFVdtjf5mKR3/eTPFvsiP/XV/VLi31234=',\n   'connection': 'close',\n   'content-length': '0',\n   'date': 'Sat, 13 Apr 2024 02:17:40 GMT',\n   'server': 'hypercorn-h11'},\n  'RetryAttempts': 0},\n 'ETag': '\"22c466efcf97baf493631fa3091e58d6\"',\n 'ServerSideEncryption': 'AES256',\n 'VersionId': 'J8l83iJGGKrFVuxFX6xrhQ'}"
     },
     "execution_count": 51,
     "metadata": {},
     "output_type": "execute_result"
    }
   ],
   "source": [
    "# Add new file to the bucket\n",
    "\n",
    "# file name\n",
    "file_name = 'inventory.csv'\n",
    "\n",
    "# list all objects in the bucket\n",
    "files = list_objects(bucket_name=bucket_name_news)\n",
    "bytes_io = io.BytesIO()\n",
    "files.to_csv(bytes_io, index=False)\n",
    "bytes_io.seek(0)\n",
    "# upload the data to s3\n",
    "s3.put_object(Bucket=bucket_name_news, Key=file_name, Body=bytes_io)\n",
    "\n"
   ]
  },
  {
   "cell_type": "code",
   "outputs": [
    {
     "data": {
      "text/plain": "                                                 Key  \\\n0                                      inventory.csv   \n1  s3://news/Business/dt=20240413/data_Business_n...   \n2  s3://news/Entertainment/dt=20240413/data_Enter...   \n3  s3://news/Health/dt=20240413/data_Health_news.csv   \n4  s3://news/Science/dt=20240413/data_Science_new...   \n5  s3://news/Sports/dt=20240413/data_Sports_news.csv   \n6  s3://news/Technology/dt=20240413/data_Technolo...   \n7          s3://news/US/dt=20240413/data_US_news.csv   \n8    s3://news/World/dt=20240413/data_World_news.csv   \n\n                LastModified                                ETag   Size  \\\n0  2024-04-13 01:50:42+00:00  \"d41d8cd98f00b204e9800998ecf8427e\"      0   \n1  2024-04-13 01:48:20+00:00  \"873759a57a6264c23629c43828f31bd1\"  45494   \n2  2024-04-13 01:48:20+00:00  \"08f05fabba3cbbb1757c7b67646987b5\"  30073   \n3  2024-04-13 01:48:20+00:00  \"47d4d5bbee7068d65077ff3fc5bc4ced\"  46359   \n4  2024-04-13 01:48:20+00:00  \"f07c1171a09d3af9986d018f92468c23\"  40602   \n5  2024-04-13 01:48:20+00:00  \"f0a1650ea910e8d5abdacdc50a8d0b48\"  32605   \n6  2024-04-13 01:48:20+00:00  \"d2246d0cb227bfd605ca40e310d012db\"  33489   \n7  2024-04-13 01:48:20+00:00  \"8d9833295672d26c3e41328abf8c3631\"  48913   \n8  2024-04-13 01:48:20+00:00  \"6bc04bb9461f48332ce02bf177c2bf82\"  32001   \n\n  StorageClass Owner.DisplayName  \\\n0     STANDARD           webfile   \n1     STANDARD           webfile   \n2     STANDARD           webfile   \n3     STANDARD           webfile   \n4     STANDARD           webfile   \n5     STANDARD           webfile   \n6     STANDARD           webfile   \n7     STANDARD           webfile   \n8     STANDARD           webfile   \n\n                                            Owner.ID  \n0  75aa57f09aa0c8caeab4f8c24e99d10f8e7faeebf76c07...  \n1  75aa57f09aa0c8caeab4f8c24e99d10f8e7faeebf76c07...  \n2  75aa57f09aa0c8caeab4f8c24e99d10f8e7faeebf76c07...  \n3  75aa57f09aa0c8caeab4f8c24e99d10f8e7faeebf76c07...  \n4  75aa57f09aa0c8caeab4f8c24e99d10f8e7faeebf76c07...  \n5  75aa57f09aa0c8caeab4f8c24e99d10f8e7faeebf76c07...  \n6  75aa57f09aa0c8caeab4f8c24e99d10f8e7faeebf76c07...  \n7  75aa57f09aa0c8caeab4f8c24e99d10f8e7faeebf76c07...  \n8  75aa57f09aa0c8caeab4f8c24e99d10f8e7faeebf76c07...  ",
      "text/html": "<div>\n<style scoped>\n    .dataframe tbody tr th:only-of-type {\n        vertical-align: middle;\n    }\n\n    .dataframe tbody tr th {\n        vertical-align: top;\n    }\n\n    .dataframe thead th {\n        text-align: right;\n    }\n</style>\n<table border=\"1\" class=\"dataframe\">\n  <thead>\n    <tr style=\"text-align: right;\">\n      <th></th>\n      <th>Key</th>\n      <th>LastModified</th>\n      <th>ETag</th>\n      <th>Size</th>\n      <th>StorageClass</th>\n      <th>Owner.DisplayName</th>\n      <th>Owner.ID</th>\n    </tr>\n  </thead>\n  <tbody>\n    <tr>\n      <th>0</th>\n      <td>inventory.csv</td>\n      <td>2024-04-13 01:50:42+00:00</td>\n      <td>\"d41d8cd98f00b204e9800998ecf8427e\"</td>\n      <td>0</td>\n      <td>STANDARD</td>\n      <td>webfile</td>\n      <td>75aa57f09aa0c8caeab4f8c24e99d10f8e7faeebf76c07...</td>\n    </tr>\n    <tr>\n      <th>1</th>\n      <td>s3://news/Business/dt=20240413/data_Business_n...</td>\n      <td>2024-04-13 01:48:20+00:00</td>\n      <td>\"873759a57a6264c23629c43828f31bd1\"</td>\n      <td>45494</td>\n      <td>STANDARD</td>\n      <td>webfile</td>\n      <td>75aa57f09aa0c8caeab4f8c24e99d10f8e7faeebf76c07...</td>\n    </tr>\n    <tr>\n      <th>2</th>\n      <td>s3://news/Entertainment/dt=20240413/data_Enter...</td>\n      <td>2024-04-13 01:48:20+00:00</td>\n      <td>\"08f05fabba3cbbb1757c7b67646987b5\"</td>\n      <td>30073</td>\n      <td>STANDARD</td>\n      <td>webfile</td>\n      <td>75aa57f09aa0c8caeab4f8c24e99d10f8e7faeebf76c07...</td>\n    </tr>\n    <tr>\n      <th>3</th>\n      <td>s3://news/Health/dt=20240413/data_Health_news.csv</td>\n      <td>2024-04-13 01:48:20+00:00</td>\n      <td>\"47d4d5bbee7068d65077ff3fc5bc4ced\"</td>\n      <td>46359</td>\n      <td>STANDARD</td>\n      <td>webfile</td>\n      <td>75aa57f09aa0c8caeab4f8c24e99d10f8e7faeebf76c07...</td>\n    </tr>\n    <tr>\n      <th>4</th>\n      <td>s3://news/Science/dt=20240413/data_Science_new...</td>\n      <td>2024-04-13 01:48:20+00:00</td>\n      <td>\"f07c1171a09d3af9986d018f92468c23\"</td>\n      <td>40602</td>\n      <td>STANDARD</td>\n      <td>webfile</td>\n      <td>75aa57f09aa0c8caeab4f8c24e99d10f8e7faeebf76c07...</td>\n    </tr>\n    <tr>\n      <th>5</th>\n      <td>s3://news/Sports/dt=20240413/data_Sports_news.csv</td>\n      <td>2024-04-13 01:48:20+00:00</td>\n      <td>\"f0a1650ea910e8d5abdacdc50a8d0b48\"</td>\n      <td>32605</td>\n      <td>STANDARD</td>\n      <td>webfile</td>\n      <td>75aa57f09aa0c8caeab4f8c24e99d10f8e7faeebf76c07...</td>\n    </tr>\n    <tr>\n      <th>6</th>\n      <td>s3://news/Technology/dt=20240413/data_Technolo...</td>\n      <td>2024-04-13 01:48:20+00:00</td>\n      <td>\"d2246d0cb227bfd605ca40e310d012db\"</td>\n      <td>33489</td>\n      <td>STANDARD</td>\n      <td>webfile</td>\n      <td>75aa57f09aa0c8caeab4f8c24e99d10f8e7faeebf76c07...</td>\n    </tr>\n    <tr>\n      <th>7</th>\n      <td>s3://news/US/dt=20240413/data_US_news.csv</td>\n      <td>2024-04-13 01:48:20+00:00</td>\n      <td>\"8d9833295672d26c3e41328abf8c3631\"</td>\n      <td>48913</td>\n      <td>STANDARD</td>\n      <td>webfile</td>\n      <td>75aa57f09aa0c8caeab4f8c24e99d10f8e7faeebf76c07...</td>\n    </tr>\n    <tr>\n      <th>8</th>\n      <td>s3://news/World/dt=20240413/data_World_news.csv</td>\n      <td>2024-04-13 01:48:20+00:00</td>\n      <td>\"6bc04bb9461f48332ce02bf177c2bf82\"</td>\n      <td>32001</td>\n      <td>STANDARD</td>\n      <td>webfile</td>\n      <td>75aa57f09aa0c8caeab4f8c24e99d10f8e7faeebf76c07...</td>\n    </tr>\n  </tbody>\n</table>\n</div>"
     },
     "execution_count": 54,
     "metadata": {},
     "output_type": "execute_result"
    }
   ],
   "source": [
    "pd.read_csv(s3.get_object(Bucket=bucket_name_news, Key='inventory.csv')['Body'])"
   ],
   "metadata": {
    "collapsed": false,
    "ExecuteTime": {
     "end_time": "2024-04-13T02:18:28.081489100Z",
     "start_time": "2024-04-13T02:18:28.039882900Z"
    }
   },
   "execution_count": 54
  },
  {
   "cell_type": "code",
   "execution_count": 55,
   "metadata": {
    "ExecuteTime": {
     "end_time": "2024-04-13T02:19:12.556908600Z",
     "start_time": "2024-04-13T02:19:12.543533600Z"
    }
   },
   "outputs": [
    {
     "data": {
      "text/plain": "{'ResponseMetadata': {'RequestId': 'bc18b0a5-a394-4d70-b8eb-c338a88d8bbe',\n  'HostId': 's9lzHYrFp76ZVxRcpX9+5cjAnEH2ROuNkd2BHfIa6UkFVdtjf5mKR3/eTPFvsiP/XV/VLi31234=',\n  'HTTPStatusCode': 200,\n  'HTTPHeaders': {'content-type': 'application/xml',\n   'etag': '\"d41d8cd98f00b204e9800998ecf8427e\"',\n   'x-amz-server-side-encryption': 'AES256',\n   'x-amz-version-id': 'KolE_hrerMa45CkTHkbgCQ',\n   'x-amz-request-id': 'bc18b0a5-a394-4d70-b8eb-c338a88d8bbe',\n   'x-amz-id-2': 's9lzHYrFp76ZVxRcpX9+5cjAnEH2ROuNkd2BHfIa6UkFVdtjf5mKR3/eTPFvsiP/XV/VLi31234=',\n   'connection': 'close',\n   'content-length': '0',\n   'date': 'Sat, 13 Apr 2024 02:19:12 GMT',\n   'server': 'hypercorn-h11'},\n  'RetryAttempts': 0},\n 'ETag': '\"d41d8cd98f00b204e9800998ecf8427e\"',\n 'ServerSideEncryption': 'AES256',\n 'VersionId': 'KolE_hrerMa45CkTHkbgCQ'}"
     },
     "execution_count": 55,
     "metadata": {},
     "output_type": "execute_result"
    }
   ],
   "source": [
    "# add again the same file\n",
    "s3.put_object(Bucket=bucket_name_news, Key=file_name, Body=bytes_io)"
   ]
  },
  {
   "cell_type": "code",
   "execution_count": 56,
   "metadata": {
    "ExecuteTime": {
     "end_time": "2024-04-13T02:19:15.562914700Z",
     "start_time": "2024-04-13T02:19:15.530090200Z"
    }
   },
   "outputs": [
    {
     "data": {
      "text/plain": "                                 ETag  Size StorageClass            Key  \\\n0  \"d41d8cd98f00b204e9800998ecf8427e\"     0     STANDARD  inventory.csv   \n1  \"22c466efcf97baf493631fa3091e58d6\"  1882     STANDARD  inventory.csv   \n2  \"d41d8cd98f00b204e9800998ecf8427e\"     0     STANDARD  inventory.csv   \n3  \"4815f399930a25a8fa086608721b49dc\"  1718     STANDARD  inventory.csv   \n\n                VersionId  IsLatest              LastModified  \\\n0  KolE_hrerMa45CkTHkbgCQ      True 2024-04-13 02:19:12+00:00   \n1  J8l83iJGGKrFVuxFX6xrhQ     False 2024-04-13 02:17:40+00:00   \n2  NDVVQrVMvJ1fHwRF2GeeBQ     False 2024-04-13 01:50:42+00:00   \n3  h-dD7_1tE4Ul16FS1FxZLw     False 2024-04-13 01:50:40+00:00   \n\n  Owner.DisplayName                                           Owner.ID  \n0           webfile  75aa57f09aa0c8caeab4f8c24e99d10f8e7faeebf76c07...  \n1           webfile  75aa57f09aa0c8caeab4f8c24e99d10f8e7faeebf76c07...  \n2           webfile  75aa57f09aa0c8caeab4f8c24e99d10f8e7faeebf76c07...  \n3           webfile  75aa57f09aa0c8caeab4f8c24e99d10f8e7faeebf76c07...  ",
      "text/html": "<div>\n<style scoped>\n    .dataframe tbody tr th:only-of-type {\n        vertical-align: middle;\n    }\n\n    .dataframe tbody tr th {\n        vertical-align: top;\n    }\n\n    .dataframe thead th {\n        text-align: right;\n    }\n</style>\n<table border=\"1\" class=\"dataframe\">\n  <thead>\n    <tr style=\"text-align: right;\">\n      <th></th>\n      <th>ETag</th>\n      <th>Size</th>\n      <th>StorageClass</th>\n      <th>Key</th>\n      <th>VersionId</th>\n      <th>IsLatest</th>\n      <th>LastModified</th>\n      <th>Owner.DisplayName</th>\n      <th>Owner.ID</th>\n    </tr>\n  </thead>\n  <tbody>\n    <tr>\n      <th>0</th>\n      <td>\"d41d8cd98f00b204e9800998ecf8427e\"</td>\n      <td>0</td>\n      <td>STANDARD</td>\n      <td>inventory.csv</td>\n      <td>KolE_hrerMa45CkTHkbgCQ</td>\n      <td>True</td>\n      <td>2024-04-13 02:19:12+00:00</td>\n      <td>webfile</td>\n      <td>75aa57f09aa0c8caeab4f8c24e99d10f8e7faeebf76c07...</td>\n    </tr>\n    <tr>\n      <th>1</th>\n      <td>\"22c466efcf97baf493631fa3091e58d6\"</td>\n      <td>1882</td>\n      <td>STANDARD</td>\n      <td>inventory.csv</td>\n      <td>J8l83iJGGKrFVuxFX6xrhQ</td>\n      <td>False</td>\n      <td>2024-04-13 02:17:40+00:00</td>\n      <td>webfile</td>\n      <td>75aa57f09aa0c8caeab4f8c24e99d10f8e7faeebf76c07...</td>\n    </tr>\n    <tr>\n      <th>2</th>\n      <td>\"d41d8cd98f00b204e9800998ecf8427e\"</td>\n      <td>0</td>\n      <td>STANDARD</td>\n      <td>inventory.csv</td>\n      <td>NDVVQrVMvJ1fHwRF2GeeBQ</td>\n      <td>False</td>\n      <td>2024-04-13 01:50:42+00:00</td>\n      <td>webfile</td>\n      <td>75aa57f09aa0c8caeab4f8c24e99d10f8e7faeebf76c07...</td>\n    </tr>\n    <tr>\n      <th>3</th>\n      <td>\"4815f399930a25a8fa086608721b49dc\"</td>\n      <td>1718</td>\n      <td>STANDARD</td>\n      <td>inventory.csv</td>\n      <td>h-dD7_1tE4Ul16FS1FxZLw</td>\n      <td>False</td>\n      <td>2024-04-13 01:50:40+00:00</td>\n      <td>webfile</td>\n      <td>75aa57f09aa0c8caeab4f8c24e99d10f8e7faeebf76c07...</td>\n    </tr>\n  </tbody>\n</table>\n</div>"
     },
     "execution_count": 56,
     "metadata": {},
     "output_type": "execute_result"
    }
   ],
   "source": [
    "# List all the version of the object\n",
    "versions = s3.list_object_versions(Bucket=bucket_name_news, Prefix=file_name)\n",
    "\n",
    "pd.json_normalize(versions['Versions'])"
   ]
  },
  {
   "cell_type": "markdown",
   "metadata": {},
   "source": [
    "### 🗑️ Create a static site using s3 bucket\n",
    "\n",
    "In this section, we need to utilize a different command, which requires prior installation of the `awscli-local` tool specifically designed for use with **LocalStack**.\n",
    "\n",
    "The `awscli-local` tool facilitates developers in seamlessly engaging with the **LocalStack** instance, because you can automatically redirecting commands to local endpoints instead of real AWS endpoints."
   ]
  },
  {
   "cell_type": "code",
   "execution_count": 57,
   "metadata": {
    "ExecuteTime": {
     "end_time": "2024-04-13T02:20:39.491252800Z",
     "start_time": "2024-04-13T02:20:17.672455800Z"
    }
   },
   "outputs": [
    {
     "name": "stdout",
     "output_type": "stream",
     "text": [
      "Collecting awscli-local\n",
      "  Using cached awscli-local-0.22.0.tar.gz (11 kB)\n",
      "  Installing build dependencies: started\n",
      "  Installing build dependencies: finished with status 'done'\n",
      "  Getting requirements to build wheel: started\n",
      "  Getting requirements to build wheel: finished with status 'done'\n",
      "  Installing backend dependencies: started\n",
      "  Installing backend dependencies: finished with status 'done'\n",
      "  Preparing metadata (pyproject.toml): started\n",
      "  Preparing metadata (pyproject.toml): finished with status 'done'\n",
      "Collecting localstack-client (from awscli-local)\n",
      "  Using cached localstack-client-2.5.tar.gz (10 kB)\n",
      "  Installing build dependencies: started\n",
      "  Installing build dependencies: finished with status 'done'\n",
      "  Getting requirements to build wheel: started\n",
      "  Getting requirements to build wheel: finished with status 'done'\n",
      "  Installing backend dependencies: started\n",
      "  Installing backend dependencies: finished with status 'done'\n",
      "  Preparing metadata (pyproject.toml): started\n",
      "  Preparing metadata (pyproject.toml): finished with status 'done'\n",
      "Requirement already satisfied: boto3 in c:\\users\\zvina\\pycharmprojects\\bigdata\\venv\\lib\\site-packages (from localstack-client->awscli-local) (1.34.84)\n",
      "Requirement already satisfied: botocore<1.35.0,>=1.34.84 in c:\\users\\zvina\\pycharmprojects\\bigdata\\venv\\lib\\site-packages (from boto3->localstack-client->awscli-local) (1.34.84)\n",
      "Requirement already satisfied: jmespath<2.0.0,>=0.7.1 in c:\\users\\zvina\\pycharmprojects\\bigdata\\venv\\lib\\site-packages (from boto3->localstack-client->awscli-local) (1.0.1)\n",
      "Requirement already satisfied: s3transfer<0.11.0,>=0.10.0 in c:\\users\\zvina\\pycharmprojects\\bigdata\\venv\\lib\\site-packages (from boto3->localstack-client->awscli-local) (0.10.1)\n",
      "Requirement already satisfied: python-dateutil<3.0.0,>=2.1 in c:\\users\\zvina\\pycharmprojects\\bigdata\\venv\\lib\\site-packages (from botocore<1.35.0,>=1.34.84->boto3->localstack-client->awscli-local) (2.9.0.post0)\n",
      "Requirement already satisfied: urllib3!=2.2.0,<3,>=1.25.4 in c:\\users\\zvina\\pycharmprojects\\bigdata\\venv\\lib\\site-packages (from botocore<1.35.0,>=1.34.84->boto3->localstack-client->awscli-local) (2.2.1)\n",
      "Requirement already satisfied: six>=1.5 in c:\\users\\zvina\\pycharmprojects\\bigdata\\venv\\lib\\site-packages (from python-dateutil<3.0.0,>=2.1->botocore<1.35.0,>=1.34.84->boto3->localstack-client->awscli-local) (1.16.0)\n",
      "Building wheels for collected packages: awscli-local, localstack-client\n",
      "  Building wheel for awscli-local (pyproject.toml): started\n",
      "  Building wheel for awscli-local (pyproject.toml): finished with status 'done'\n",
      "  Created wheel for awscli-local: filename=awscli_local-0.22.0-py3-none-any.whl size=12037 sha256=a88630b8847a6a79f9d1a223feadf9694128dc3dab3ad22140c3783d6a7b3d5a\n",
      "  Stored in directory: c:\\users\\zvina\\appdata\\local\\pip\\cache\\wheels\\b2\\a2\\77\\12b5ea9831f7d27bc9575bc2e5bd8f0e1a8376eeef4fc1acbf\n",
      "  Building wheel for localstack-client (pyproject.toml): started\n",
      "  Building wheel for localstack-client (pyproject.toml): finished with status 'done'\n",
      "  Created wheel for localstack-client: filename=localstack_client-2.5-py3-none-any.whl size=10238 sha256=26b346b51f42c6c6afdfea2278df0be959f1fb034e0964b2b997905fdec0b383\n",
      "  Stored in directory: c:\\users\\zvina\\appdata\\local\\pip\\cache\\wheels\\45\\05\\a0\\e121d13d299236f49af3b325a1d336ae2636e61d808b8842d0\n",
      "Successfully built awscli-local localstack-client\n",
      "Installing collected packages: localstack-client, awscli-local\n",
      "Successfully installed awscli-local-0.22.0 localstack-client-2.5\n"
     ]
    }
   ],
   "source": [
    "# install awslocal to use the cli to interact with localstack\n",
    "!pip3.12 install awscli-local"
   ]
  },
  {
   "cell_type": "code",
   "execution_count": 60,
   "metadata": {
    "ExecuteTime": {
     "end_time": "2024-04-13T02:21:50.088631900Z",
     "start_time": "2024-04-13T02:21:48.454796400Z"
    }
   },
   "outputs": [
    {
     "name": "stderr",
     "output_type": "stream",
     "text": [
      "Traceback (most recent call last):\n",
      "  File \"C:\\Users\\zvina\\PycharmProjects\\BigData\\venv\\Scripts\\\\awslocal\", line 87, in main\n",
      "    import awscli.clidriver  # noqa: F401\n",
      "    ^^^^^^^^^^^^^^^^^^^^^^^\n",
      "ModuleNotFoundError: No module named 'awscli'\n",
      "\n",
      "During handling of the above exception, another exception occurred:\n",
      "\n",
      "Traceback (most recent call last):\n",
      "  File \"C:\\Users\\zvina\\PycharmProjects\\BigData\\venv\\Scripts\\\\awslocal\", line 268, in <module>\n",
      "    main()\n",
      "  File \"C:\\Users\\zvina\\PycharmProjects\\BigData\\venv\\Scripts\\\\awslocal\", line 89, in main\n",
      "    return run_as_separate_process()\n",
      "           ^^^^^^^^^^^^^^^^^^^^^^^^^\n",
      "  File \"C:\\Users\\zvina\\PycharmProjects\\BigData\\venv\\Scripts\\\\awslocal\", line 158, in run_as_separate_process\n",
      "    run(cmd_args, env_dict)\n",
      "  File \"C:\\Users\\zvina\\PycharmProjects\\BigData\\venv\\Scripts\\\\awslocal\", line 68, in run\n",
      "    os.execvpe(cmd[0], cmd, env)\n",
      "  File \"<frozen os>\", line 589, in execvpe\n",
      "  File \"<frozen os>\", line 622, in _execvpe\n",
      "  File \"<frozen os>\", line 613, in _execvpe\n",
      "FileNotFoundError: [Errno 2] No such file or directory: 'C:\\\\Users\\\\zvina\\\\.dotnet\\\\tools\\\\aws'\n",
      "Traceback (most recent call last):\n",
      "  File \"C:\\Users\\zvina\\PycharmProjects\\BigData\\venv\\Scripts\\\\awslocal\", line 87, in main\n",
      "    import awscli.clidriver  # noqa: F401\n",
      "    ^^^^^^^^^^^^^^^^^^^^^^^\n",
      "ModuleNotFoundError: No module named 'awscli'\n",
      "\n",
      "During handling of the above exception, another exception occurred:\n",
      "\n",
      "Traceback (most recent call last):\n",
      "  File \"C:\\Users\\zvina\\PycharmProjects\\BigData\\venv\\Scripts\\\\awslocal\", line 268, in <module>\n",
      "    main()\n",
      "  File \"C:\\Users\\zvina\\PycharmProjects\\BigData\\venv\\Scripts\\\\awslocal\", line 89, in main\n",
      "    return run_as_separate_process()\n",
      "           ^^^^^^^^^^^^^^^^^^^^^^^^^\n",
      "  File \"C:\\Users\\zvina\\PycharmProjects\\BigData\\venv\\Scripts\\\\awslocal\", line 158, in run_as_separate_process\n",
      "    run(cmd_args, env_dict)\n",
      "  File \"C:\\Users\\zvina\\PycharmProjects\\BigData\\venv\\Scripts\\\\awslocal\", line 68, in run\n",
      "    os.execvpe(cmd[0], cmd, env)\n",
      "  File \"<frozen os>\", line 589, in execvpe\n",
      "  File \"<frozen os>\", line 622, in _execvpe\n",
      "  File \"<frozen os>\", line 613, in _execvpe\n",
      "FileNotFoundError: [Errno 2] No such file or directory: 'C:\\\\Users\\\\zvina\\\\.dotnet\\\\tools\\\\aws'\n",
      "Traceback (most recent call last):\n",
      "  File \"C:\\Users\\zvina\\PycharmProjects\\BigData\\venv\\Scripts\\\\awslocal\", line 87, in main\n",
      "    import awscli.clidriver  # noqa: F401\n",
      "    ^^^^^^^^^^^^^^^^^^^^^^^\n",
      "ModuleNotFoundError: No module named 'awscli'\n",
      "\n",
      "During handling of the above exception, another exception occurred:\n",
      "\n",
      "Traceback (most recent call last):\n",
      "  File \"C:\\Users\\zvina\\PycharmProjects\\BigData\\venv\\Scripts\\\\awslocal\", line 268, in <module>\n",
      "    main()\n",
      "  File \"C:\\Users\\zvina\\PycharmProjects\\BigData\\venv\\Scripts\\\\awslocal\", line 89, in main\n",
      "    return run_as_separate_process()\n",
      "           ^^^^^^^^^^^^^^^^^^^^^^^^^\n",
      "  File \"C:\\Users\\zvina\\PycharmProjects\\BigData\\venv\\Scripts\\\\awslocal\", line 158, in run_as_separate_process\n",
      "    run(cmd_args, env_dict)\n",
      "  File \"C:\\Users\\zvina\\PycharmProjects\\BigData\\venv\\Scripts\\\\awslocal\", line 68, in run\n",
      "    os.execvpe(cmd[0], cmd, env)\n",
      "  File \"<frozen os>\", line 589, in execvpe\n",
      "  File \"<frozen os>\", line 622, in _execvpe\n",
      "  File \"<frozen os>\", line 613, in _execvpe\n",
      "FileNotFoundError: [Errno 2] No such file or directory: 'C:\\\\Users\\\\zvina\\\\.dotnet\\\\tools\\\\aws'\n"
     ]
    }
   ],
   "source": [
    "# the following command creates a static website in s3\n",
    "!awslocal s3api create-bucket --bucket docs-web\n",
    "# add the website configuration\n",
    "!awslocal s3 website s3://docs-web/ --index-document index.html --error-document error.html\n",
    "# syncronize the static site with the s3 bucket\n",
    "!awslocal s3 sync static-site s3://docs-web\n",
    "\n",
    "#------------------------------------------------------------------------------------------\n",
    "\n",
    "# If you are using localstack, you can access the website using the following url\n",
    "#  http://docs-web.s3-website.localhost.localstack.cloud:4566/\n",
    "\n",
    "\n",
    "#------------------------------------------------------------------------------------------"
   ]
  },
  {
   "cell_type": "markdown",
   "metadata": {},
   "source": [
    "Url Site: http://docs-web.s3-website.localhost.localstack.cloud:4566/\n",
    "\n",
    "![](img/localstack-static-site.png)"
   ]
  },
  {
   "cell_type": "markdown",
   "metadata": {},
   "source": [
    "# 📚 References\n",
    "If you want to learn...\n",
    "\n",
    "* [AWS Boto3](https://boto3.amazonaws.com/v1/documentation/api/latest/guide/quickstart.html#installation)\n",
    "* [LocalStack](https://docs.localstack.cloud/overview/)\n",
    "* [API:OkSurf News](https://ok.surf/#endpoints)"
   ]
  }
 ],
 "metadata": {
  "kernelspec": {
   "display_name": "Python 3",
   "language": "python",
   "name": "python3"
  },
  "language_info": {
   "codemirror_mode": {
    "name": "ipython",
    "version": 3
   },
   "file_extension": ".py",
   "mimetype": "text/x-python",
   "name": "python",
   "nbconvert_exporter": "python",
   "pygments_lexer": "ipython3",
   "version": "3.11.6"
  }
 },
 "nbformat": 4,
 "nbformat_minor": 2
}
