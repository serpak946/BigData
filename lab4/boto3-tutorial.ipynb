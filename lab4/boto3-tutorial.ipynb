{
 "cells": [
  {
   "cell_type": "markdown",
   "metadata": {},
   "source": [
    "# Boto3 & LocalStudio\n",
    "\n",
    "![Boto3 & LocalStudio image](img/s3-10.png)\n",
    "\n",
    "\n",
    "## 🏠 What is localstack?\n",
    "\n",
    "**Localstack** is a platform that provides a local version of several cloud services, allowing you to simulate a development environment with AWS services. This allows you to debug and refine your code before deploying it to a production environment. For this reason, Localstack is a valuable tool for emulating essential AWS services such as object storage and message queues, among others.\n",
    "\n",
    "Also, **Localstack** serves as an effective tool for learning to implement and deploy services using a Docker container without the need for an AWS account or the use of your credit card. \n",
    "In this tutorial, we create a Localstack container to implement the main functionalities of S3 services.\n",
    "\n",
    "---\n",
    "\n",
    "## What is boto3?\n",
    "\n",
    "**`Boto3`** is a 🐍 Python library that allows the integration with AWS services, facilitating various tasks such as creation, management, and configuration of these services.\n",
    "\n",
    "There are two primary implementations within Boto3: \n",
    "* **Resource implementation**: provides a higher-level, object-oriented interface, abstracting away low-level details and offering simplified interactions with AWS services. \n",
    "* **Client implementation**: offers a lower-level, service-oriented interface, providing more granular control and flexibility for interacting with AWS services directly.\n",
    "\n",
    "\n",
    "---\n",
    "\n",
    "## Prerequisites\n",
    "Before you begin, ensure that you have the following installed:\n",
    "\n",
    "* 🐳 Docker\n",
    "* 🐙 Docker Compose\n",
    "\n",
    "\n",
    "---\n",
    "\n",
    "### 🚀 Build and run the Docker Compose environment\n",
    "\n",
    "#### 1. Clone the repository\n",
    " ```bash\n",
    "   git clone https://github.com/r0mymendez/LocalStack-boto3.git\n",
    "   cd LocalStack-boto3\n",
    "```\n",
    "#### 2. Build an run the docker compose \n",
    "  \n",
    "`docker-compose -f docker-compose.yaml up --build`\n",
    "\n",
    "---\n",
    "\n",
    "### 🚀 Using LocalStack with Boto3: A Step-by-Step Guide\n",
    "### 🛠️ Install Boto3\n",
    "\n",
    "```!pip install boto3```\n",
    "\n",
    "\n"
   ]
  },
  {
   "cell_type": "code",
   "execution_count": 2,
   "metadata": {
    "ExecuteTime": {
     "end_time": "2024-04-13T08:35:34.752678Z",
     "start_time": "2024-04-13T08:35:31.581085Z"
    }
   },
   "outputs": [],
   "source": [
    "import boto3\n",
    "import json \n",
    "import requests\n",
    "import pandas as pd\n",
    "from datetime import datetime\n",
    "import io\n",
    "import os"
   ]
  },
  {
   "cell_type": "markdown",
   "metadata": {},
   "source": [
    "### 🛠️ Create a session using the localstack endpoint\n",
    "The following code snippet initializes a client for accessing the S3 service using the LocalStack endpoint."
   ]
  },
  {
   "cell_type": "code",
   "execution_count": 3,
   "metadata": {
    "ExecuteTime": {
     "end_time": "2024-04-13T08:35:43.289117300Z",
     "start_time": "2024-04-13T08:35:37.331493100Z"
    }
   },
   "outputs": [],
   "source": [
    "\n",
    "s3 = boto3.client(\n",
    "    service_name='s3',\n",
    "    aws_access_key_id='test',\n",
    "    aws_secret_access_key='test',\n",
    "    endpoint_url='http://localhost:4566',\n",
    ")"
   ]
  },
  {
   "cell_type": "markdown",
   "metadata": {},
   "source": [
    "### 🛠️ Create new buckets\n",
    "Below is the code snippet to create new buckets using the Boto3 library"
   ]
  },
  {
   "cell_type": "code",
   "execution_count": 4,
   "metadata": {
    "ExecuteTime": {
     "end_time": "2024-04-13T08:36:09.298108500Z",
     "start_time": "2024-04-13T08:35:54.349393300Z"
    }
   },
   "outputs": [
    {
     "data": {
      "text/plain": "{'ResponseMetadata': {'RequestId': '0aa0f792-c5e3-4167-b5c2-bcb930198276',\n  'HostId': 's9lzHYrFp76ZVxRcpX9+5cjAnEH2ROuNkd2BHfIa6UkFVdtjf5mKR3/eTPFvsiP/XV/VLi31234=',\n  'HTTPStatusCode': 200,\n  'HTTPHeaders': {'content-type': 'application/xml',\n   'access-control-allow-origin': '*',\n   'access-control-allow-methods': 'HEAD,GET,PUT,POST,DELETE,OPTIONS,PATCH',\n   'access-control-allow-headers': 'authorization,cache-control,content-length,content-md5,content-type,etag,location,x-amz-acl,x-amz-content-sha256,x-amz-date,x-amz-request-id,x-amz-security-token,x-amz-tagging,x-amz-target,x-amz-user-agent,x-amz-version-id,x-amzn-requestid,x-localstack-target,amz-sdk-invocation-id,amz-sdk-request',\n   'access-control-expose-headers': 'etag,x-amz-version-id',\n   'vary': 'Origin',\n   'location': '/news-config',\n   'x-amz-request-id': '0aa0f792-c5e3-4167-b5c2-bcb930198276',\n   'x-amz-id-2': 's9lzHYrFp76ZVxRcpX9+5cjAnEH2ROuNkd2BHfIa6UkFVdtjf5mKR3/eTPFvsiP/XV/VLi31234=',\n   'connection': 'close',\n   'content-length': '0',\n   'date': 'Sat, 13 Apr 2024 08:36:09 GMT',\n   'server': 'hypercorn-h11'},\n  'RetryAttempts': 0},\n 'Location': '/news-config'}"
     },
     "execution_count": 4,
     "metadata": {},
     "output_type": "execute_result"
    }
   ],
   "source": [
    "# create buckets\n",
    "bucket_name_news = 'news'\n",
    "bucket_name_config = 'news-config'\n",
    "\n",
    "s3.create_bucket(Bucket=bucket_name_news)\n",
    "s3.create_bucket(Bucket=bucket_name_config)"
   ]
  },
  {
   "cell_type": "markdown",
   "metadata": {},
   "source": [
    "### 📋 List all buckets\n",
    "After creating a bucket, you can use the following code to list all the buckets available at your endpoint."
   ]
  },
  {
   "cell_type": "code",
   "execution_count": 5,
   "metadata": {
    "ExecuteTime": {
     "end_time": "2024-04-13T08:36:16.371316700Z",
     "start_time": "2024-04-13T08:36:16.303619300Z"
    }
   },
   "outputs": [
    {
     "data": {
      "text/plain": "[{'Name': 'news',\n  'CreationDate': datetime.datetime(2024, 4, 13, 8, 36, 9, tzinfo=tzutc())},\n {'Name': 'news-config',\n  'CreationDate': datetime.datetime(2024, 4, 13, 8, 36, 9, tzinfo=tzutc())}]"
     },
     "execution_count": 5,
     "metadata": {},
     "output_type": "execute_result"
    }
   ],
   "source": [
    "# List all buckets\n",
    "response = s3.list_buckets()\n",
    "response['Buckets']\n",
    "# pd.json_normalize(response['Buckets'])"
   ]
  },
  {
   "cell_type": "markdown",
   "metadata": {},
   "source": [
    "### 📤 Upload the JSON file to s3\n",
    "Once we extract data from the API to gather information about news topics, the following code generates a JSON file and uploads it to the S3 bucket previously created."
   ]
  },
  {
   "cell_type": "code",
   "execution_count": 6,
   "metadata": {
    "ExecuteTime": {
     "end_time": "2024-04-13T08:36:21.285220700Z",
     "start_time": "2024-04-13T08:36:19.330578200Z"
    }
   },
   "outputs": [
    {
     "name": "stdout",
     "output_type": "stream",
     "text": [
      "data ['US', 'World', 'Business', 'Technology', 'Entertainment', 'Sports', 'Science', 'Health']\n"
     ]
    }
   ],
   "source": [
    "# invoke the config news\n",
    "url = 'https://ok.surf/api/v1/cors/news-section-names' \n",
    "response = requests.get(url)\n",
    "if response.status_code==200:\n",
    "    data = response.json()\n",
    "    # ad json file to s3\n",
    "    print('data', data)\n",
    "    # upload the data to s3\n",
    "    s3.put_object(Bucket=bucket_name_config, Key='news-section/data_config.json', Body=json.dumps(data))\n",
    "\n"
   ]
  },
  {
   "cell_type": "markdown",
   "metadata": {},
   "source": [
    "### 📋 List all objects\n",
    "Now, let's list all the objects stored in our bucket. Since we might have stored a JSON file in the previous step, we'll include code to retrieve all objects from the bucket."
   ]
  },
  {
   "cell_type": "code",
   "execution_count": 7,
   "metadata": {
    "ExecuteTime": {
     "end_time": "2024-04-13T08:36:25.107522700Z",
     "start_time": "2024-04-13T08:36:25.079145200Z"
    }
   },
   "outputs": [],
   "source": [
    "def list_objects(bucket_name):\n",
    "    response = s3.list_objects(Bucket=bucket_name)\n",
    "    return pd.json_normalize(response['Contents'])"
   ]
  },
  {
   "cell_type": "code",
   "execution_count": 8,
   "metadata": {
    "ExecuteTime": {
     "end_time": "2024-04-13T08:36:27.249770200Z",
     "start_time": "2024-04-13T08:36:26.773969600Z"
    }
   },
   "outputs": [
    {
     "data": {
      "text/plain": "                             Key              LastModified  \\\n0  news-section/data_config.json 2024-04-13 08:36:21+00:00   \n\n                                 ETag  Size StorageClass Owner.DisplayName  \\\n0  \"d61029b184d21dae1febcb46062216d3\"    89     STANDARD           webfile   \n\n                                            Owner.ID  \n0  75aa57f09aa0c8caeab4f8c24e99d10f8e7faeebf76c07...  ",
      "text/html": "<div>\n<style scoped>\n    .dataframe tbody tr th:only-of-type {\n        vertical-align: middle;\n    }\n\n    .dataframe tbody tr th {\n        vertical-align: top;\n    }\n\n    .dataframe thead th {\n        text-align: right;\n    }\n</style>\n<table border=\"1\" class=\"dataframe\">\n  <thead>\n    <tr style=\"text-align: right;\">\n      <th></th>\n      <th>Key</th>\n      <th>LastModified</th>\n      <th>ETag</th>\n      <th>Size</th>\n      <th>StorageClass</th>\n      <th>Owner.DisplayName</th>\n      <th>Owner.ID</th>\n    </tr>\n  </thead>\n  <tbody>\n    <tr>\n      <th>0</th>\n      <td>news-section/data_config.json</td>\n      <td>2024-04-13 08:36:21+00:00</td>\n      <td>\"d61029b184d21dae1febcb46062216d3\"</td>\n      <td>89</td>\n      <td>STANDARD</td>\n      <td>webfile</td>\n      <td>75aa57f09aa0c8caeab4f8c24e99d10f8e7faeebf76c07...</td>\n    </tr>\n  </tbody>\n</table>\n</div>"
     },
     "execution_count": 8,
     "metadata": {},
     "output_type": "execute_result"
    }
   ],
   "source": [
    "# list all objects in the bucket\n",
    "list_objects(bucket_name=bucket_name_config)"
   ]
  },
  {
   "cell_type": "code",
   "outputs": [
    {
     "data": {
      "text/plain": "               0\n0             US\n1          World\n2       Business\n3     Technology\n4  Entertainment\n5         Sports\n6        Science\n7         Health",
      "text/html": "<div>\n<style scoped>\n    .dataframe tbody tr th:only-of-type {\n        vertical-align: middle;\n    }\n\n    .dataframe tbody tr th {\n        vertical-align: top;\n    }\n\n    .dataframe thead th {\n        text-align: right;\n    }\n</style>\n<table border=\"1\" class=\"dataframe\">\n  <thead>\n    <tr style=\"text-align: right;\">\n      <th></th>\n      <th>0</th>\n    </tr>\n  </thead>\n  <tbody>\n    <tr>\n      <th>0</th>\n      <td>US</td>\n    </tr>\n    <tr>\n      <th>1</th>\n      <td>World</td>\n    </tr>\n    <tr>\n      <th>2</th>\n      <td>Business</td>\n    </tr>\n    <tr>\n      <th>3</th>\n      <td>Technology</td>\n    </tr>\n    <tr>\n      <th>4</th>\n      <td>Entertainment</td>\n    </tr>\n    <tr>\n      <th>5</th>\n      <td>Sports</td>\n    </tr>\n    <tr>\n      <th>6</th>\n      <td>Science</td>\n    </tr>\n    <tr>\n      <th>7</th>\n      <td>Health</td>\n    </tr>\n  </tbody>\n</table>\n</div>"
     },
     "execution_count": 9,
     "metadata": {},
     "output_type": "execute_result"
    }
   ],
   "source": [
    "obj = s3.get_object(Bucket=bucket_name_config, Key='news-section/data_config.json')\n",
    "# data = pd.read_csv(obj['Body'])\n",
    "# \n",
    "# data\n",
    "pd.read_json(obj['Body'])"
   ],
   "metadata": {
    "collapsed": false,
    "ExecuteTime": {
     "end_time": "2024-04-13T08:36:29.766732900Z",
     "start_time": "2024-04-13T08:36:29.679723100Z"
    }
   },
   "execution_count": 9
  },
  {
   "cell_type": "markdown",
   "metadata": {},
   "source": [
    "###  📄 Upload multiple CSV files to s3 \n",
    "In the following code snippet, we will request another method from the API to extract news for each topic. Subsequently, we will create different folders in the bucket to save CSV files containing the news for each topic. This code enables you to save multiple files in the same bucket while organizing them into folders based on the topic and the date of the data request."
   ]
  },
  {
   "cell_type": "code",
   "execution_count": 10,
   "metadata": {
    "ExecuteTime": {
     "end_time": "2024-04-13T08:36:36.073230600Z",
     "start_time": "2024-04-13T08:36:33.528058100Z"
    }
   },
   "outputs": [],
   "source": [
    "# Request the news feed API Method\n",
    "url = 'https://ok.surf/api/v1/news-feed' \n",
    "response = requests.get(url)\n",
    "if response.status_code==200:\n",
    "    data = response.json()\n",
    "\n",
    "# Add the json file to s3\n",
    "folder_dt =  f'dt={datetime.now().strftime(\"%Y%m%d\")}'\n",
    "\n",
    "for item in data.keys():\n",
    "    tmp = pd.json_normalize(data[item])\n",
    "    tmp['section'] = item   \n",
    "    tmp['download_date'] = datetime.now()\n",
    "    tmp['date'] = pd.to_datetime(tmp['download_date']).dt.date\n",
    "    path = f\"s3://{bucket_name_news}/{item}/{folder_dt}/data_{item}_news.csv\"\n",
    "\n",
    "    # upload multiple files to s3\n",
    "    bytes_io = io.BytesIO()\n",
    "    tmp.to_csv(bytes_io, index=False)\n",
    "    bytes_io.seek(0)\n",
    "    s3.put_object(Bucket=bucket_name_news, Key=path, Body=bytes_io)\n",
    "\n"
   ]
  },
  {
   "cell_type": "code",
   "execution_count": 11,
   "metadata": {
    "ExecuteTime": {
     "end_time": "2024-04-13T08:36:37.896981400Z",
     "start_time": "2024-04-13T08:36:37.814614800Z"
    }
   },
   "outputs": [
    {
     "data": {
      "text/plain": "                                                 Key  \\\n0  s3://news/Business/dt=20240413/data_Business_n...   \n1  s3://news/Entertainment/dt=20240413/data_Enter...   \n2  s3://news/Health/dt=20240413/data_Health_news.csv   \n3  s3://news/Science/dt=20240413/data_Science_new...   \n4  s3://news/Sports/dt=20240413/data_Sports_news.csv   \n5  s3://news/Technology/dt=20240413/data_Technolo...   \n6          s3://news/US/dt=20240413/data_US_news.csv   \n7    s3://news/World/dt=20240413/data_World_news.csv   \n\n               LastModified                                ETag   Size  \\\n0 2024-04-13 08:36:35+00:00  \"dde88c71110a9c2702dea3f0664104ad\"  44450   \n1 2024-04-13 08:36:35+00:00  \"6208fcf0acc5fd4194e104aa75d6f0ab\"  20884   \n2 2024-04-13 08:36:35+00:00  \"7ee0751cd44a6fd2288d9e60c437ed18\"  47526   \n3 2024-04-13 08:36:35+00:00  \"ddce3cced04a91878d95f4be0c14d833\"  43407   \n4 2024-04-13 08:36:35+00:00  \"83c357ae6a767471f5497f2428853249\"  30624   \n5 2024-04-13 08:36:35+00:00  \"3ef519c3d6d503512ffb055a46188a3f\"  31218   \n6 2024-04-13 08:36:35+00:00  \"59c27a6bc7bba8a7de2e2d0dd6bc6871\"  37360   \n7 2024-04-13 08:36:36+00:00  \"17472b76f0644abc5726db0ae4b6dfb4\"  30499   \n\n  StorageClass Owner.DisplayName  \\\n0     STANDARD           webfile   \n1     STANDARD           webfile   \n2     STANDARD           webfile   \n3     STANDARD           webfile   \n4     STANDARD           webfile   \n5     STANDARD           webfile   \n6     STANDARD           webfile   \n7     STANDARD           webfile   \n\n                                            Owner.ID  \n0  75aa57f09aa0c8caeab4f8c24e99d10f8e7faeebf76c07...  \n1  75aa57f09aa0c8caeab4f8c24e99d10f8e7faeebf76c07...  \n2  75aa57f09aa0c8caeab4f8c24e99d10f8e7faeebf76c07...  \n3  75aa57f09aa0c8caeab4f8c24e99d10f8e7faeebf76c07...  \n4  75aa57f09aa0c8caeab4f8c24e99d10f8e7faeebf76c07...  \n5  75aa57f09aa0c8caeab4f8c24e99d10f8e7faeebf76c07...  \n6  75aa57f09aa0c8caeab4f8c24e99d10f8e7faeebf76c07...  \n7  75aa57f09aa0c8caeab4f8c24e99d10f8e7faeebf76c07...  ",
      "text/html": "<div>\n<style scoped>\n    .dataframe tbody tr th:only-of-type {\n        vertical-align: middle;\n    }\n\n    .dataframe tbody tr th {\n        vertical-align: top;\n    }\n\n    .dataframe thead th {\n        text-align: right;\n    }\n</style>\n<table border=\"1\" class=\"dataframe\">\n  <thead>\n    <tr style=\"text-align: right;\">\n      <th></th>\n      <th>Key</th>\n      <th>LastModified</th>\n      <th>ETag</th>\n      <th>Size</th>\n      <th>StorageClass</th>\n      <th>Owner.DisplayName</th>\n      <th>Owner.ID</th>\n    </tr>\n  </thead>\n  <tbody>\n    <tr>\n      <th>0</th>\n      <td>s3://news/Business/dt=20240413/data_Business_n...</td>\n      <td>2024-04-13 08:36:35+00:00</td>\n      <td>\"dde88c71110a9c2702dea3f0664104ad\"</td>\n      <td>44450</td>\n      <td>STANDARD</td>\n      <td>webfile</td>\n      <td>75aa57f09aa0c8caeab4f8c24e99d10f8e7faeebf76c07...</td>\n    </tr>\n    <tr>\n      <th>1</th>\n      <td>s3://news/Entertainment/dt=20240413/data_Enter...</td>\n      <td>2024-04-13 08:36:35+00:00</td>\n      <td>\"6208fcf0acc5fd4194e104aa75d6f0ab\"</td>\n      <td>20884</td>\n      <td>STANDARD</td>\n      <td>webfile</td>\n      <td>75aa57f09aa0c8caeab4f8c24e99d10f8e7faeebf76c07...</td>\n    </tr>\n    <tr>\n      <th>2</th>\n      <td>s3://news/Health/dt=20240413/data_Health_news.csv</td>\n      <td>2024-04-13 08:36:35+00:00</td>\n      <td>\"7ee0751cd44a6fd2288d9e60c437ed18\"</td>\n      <td>47526</td>\n      <td>STANDARD</td>\n      <td>webfile</td>\n      <td>75aa57f09aa0c8caeab4f8c24e99d10f8e7faeebf76c07...</td>\n    </tr>\n    <tr>\n      <th>3</th>\n      <td>s3://news/Science/dt=20240413/data_Science_new...</td>\n      <td>2024-04-13 08:36:35+00:00</td>\n      <td>\"ddce3cced04a91878d95f4be0c14d833\"</td>\n      <td>43407</td>\n      <td>STANDARD</td>\n      <td>webfile</td>\n      <td>75aa57f09aa0c8caeab4f8c24e99d10f8e7faeebf76c07...</td>\n    </tr>\n    <tr>\n      <th>4</th>\n      <td>s3://news/Sports/dt=20240413/data_Sports_news.csv</td>\n      <td>2024-04-13 08:36:35+00:00</td>\n      <td>\"83c357ae6a767471f5497f2428853249\"</td>\n      <td>30624</td>\n      <td>STANDARD</td>\n      <td>webfile</td>\n      <td>75aa57f09aa0c8caeab4f8c24e99d10f8e7faeebf76c07...</td>\n    </tr>\n    <tr>\n      <th>5</th>\n      <td>s3://news/Technology/dt=20240413/data_Technolo...</td>\n      <td>2024-04-13 08:36:35+00:00</td>\n      <td>\"3ef519c3d6d503512ffb055a46188a3f\"</td>\n      <td>31218</td>\n      <td>STANDARD</td>\n      <td>webfile</td>\n      <td>75aa57f09aa0c8caeab4f8c24e99d10f8e7faeebf76c07...</td>\n    </tr>\n    <tr>\n      <th>6</th>\n      <td>s3://news/US/dt=20240413/data_US_news.csv</td>\n      <td>2024-04-13 08:36:35+00:00</td>\n      <td>\"59c27a6bc7bba8a7de2e2d0dd6bc6871\"</td>\n      <td>37360</td>\n      <td>STANDARD</td>\n      <td>webfile</td>\n      <td>75aa57f09aa0c8caeab4f8c24e99d10f8e7faeebf76c07...</td>\n    </tr>\n    <tr>\n      <th>7</th>\n      <td>s3://news/World/dt=20240413/data_World_news.csv</td>\n      <td>2024-04-13 08:36:36+00:00</td>\n      <td>\"17472b76f0644abc5726db0ae4b6dfb4\"</td>\n      <td>30499</td>\n      <td>STANDARD</td>\n      <td>webfile</td>\n      <td>75aa57f09aa0c8caeab4f8c24e99d10f8e7faeebf76c07...</td>\n    </tr>\n  </tbody>\n</table>\n</div>"
     },
     "execution_count": 11,
     "metadata": {},
     "output_type": "execute_result"
    }
   ],
   "source": [
    "# list all objects in the bucket\n",
    "list_objects(bucket_name=bucket_name_news)\n"
   ]
  },
  {
   "cell_type": "markdown",
   "metadata": {},
   "source": [
    "###  📄 Read csv file from s3 \n",
    "In this section, we aim to read a file containing news about technology topics from S3. To accomplish this, we first retrieve the name of the file in the bucket. Then, we read this file and print the contents as a pandas dataframe."
   ]
  },
  {
   "cell_type": "code",
   "execution_count": 12,
   "metadata": {
    "ExecuteTime": {
     "end_time": "2024-04-13T08:36:41.177271800Z",
     "start_time": "2024-04-13T08:36:41.118871800Z"
    }
   },
   "outputs": [
    {
     "name": "stdout",
     "output_type": "stream",
     "text": [
      "file_name s3://news/Technology/dt=20240413/data_Technology_news.csv\n"
     ]
    }
   ],
   "source": [
    "# Get the technology file\n",
    "files = list_objects(bucket_name=bucket_name_news)\n",
    "technology_file = files[files['Key'].str.find('Technology')>=0]['Key'].values[0]\n",
    "print('file_name',technology_file)"
   ]
  },
  {
   "cell_type": "code",
   "execution_count": 13,
   "metadata": {
    "ExecuteTime": {
     "end_time": "2024-04-13T08:36:42.975301100Z",
     "start_time": "2024-04-13T08:36:42.785279500Z"
    }
   },
   "outputs": [
    {
     "data": {
      "text/plain": "                                                 link  \\\n0   https://news.google.com/articles/CBMiQmh0dHBzO...   \n1   https://news.google.com/articles/CBMiOGh0dHBzO...   \n2   https://news.google.com/articles/CBMiWmh0dHBzO...   \n3   https://news.google.com/articles/CBMiPGh0dHBzO...   \n4   https://news.google.com/articles/CBMiT2h0dHBzO...   \n5   https://news.google.com/articles/CBMiV2h0dHBzO...   \n6   https://news.google.com/articles/CBMiSWh0dHBzO...   \n7   https://news.google.com/articles/CBMiY2h0dHBzO...   \n8   https://news.google.com/articles/CBMiamh0dHBzO...   \n9   https://news.google.com/articles/CBMiWWh0dHBzO...   \n10  https://news.google.com/articles/CBMiK2h0dHBzO...   \n11  https://news.google.com/articles/CBMie2h0dHBzO...   \n12  https://news.google.com/articles/CBMiVWh0dHBzO...   \n13  https://news.google.com/articles/CBMiXGh0dHBzO...   \n14  https://news.google.com/articles/CBMiWGh0dHBzO...   \n15  https://news.google.com/articles/CBMiX2h0dHBzO...   \n16  https://news.google.com/articles/CBMiVGh0dHBzO...   \n17  https://news.google.com/articles/CBMicGh0dHBzO...   \n18  https://news.google.com/articles/CBMiYGh0dHBzO...   \n19  https://news.google.com/articles/CBMiWmh0dHBzO...   \n20  https://news.google.com/articles/CBMifGh0dHBzO...   \n21  https://news.google.com/articles/CBMiVGh0dHBzO...   \n22  https://news.google.com/articles/CBMieWh0dHBzO...   \n23  https://news.google.com/articles/CBMiQGh0dHBzO...   \n24  https://news.google.com/articles/CBMibWh0dHBzO...   \n25  https://news.google.com/articles/CBMilwFodHRwc...   \n26  https://news.google.com/articles/CBMiU2h0dHBzO...   \n27  https://news.google.com/articles/CBMiXmh0dHBzO...   \n28  https://news.google.com/articles/CBMiqgFodHRwc...   \n29  https://news.google.com/articles/CBMiVGh0dHBzO...   \n30  https://news.google.com/articles/CBMigwFodHRwc...   \n31  https://news.google.com/articles/CBMiP2h0dHBzO...   \n32  https://news.google.com/articles/CBMiZGh0dHBzO...   \n33  https://news.google.com/articles/CBMiXGh0dHBzO...   \n34  https://news.google.com/articles/CBMib2h0dHBzO...   \n35  https://news.google.com/articles/CBMivQFodHRwc...   \n36  https://news.google.com/articles/CBMibWh0dHBzO...   \n37  https://news.google.com/articles/CBMiQ2h0dHBzO...   \n38  https://news.google.com/articles/CBMiNmh0dHBzO...   \n39  https://news.google.com/articles/CBMiTGh0dHBzO...   \n40  https://news.google.com/articles/CBMivwFodHRwc...   \n41  https://news.google.com/articles/CBMiVmh0dHBzO...   \n42  https://news.google.com/articles/CBMifmh0dHBzO...   \n43  https://news.google.com/articles/CBMifWh0dHBzO...   \n44  https://news.google.com/articles/CBMiX2h0dHBzO...   \n45  https://news.google.com/articles/CBMiTmh0dHBzO...   \n46  https://news.google.com/articles/CBMiugFodHRwc...   \n\n                                                   og  \\\n0   https://encrypted-tbn3.gstatic.com/images?q=tb...   \n1   https://encrypted-tbn3.gstatic.com/images?q=tb...   \n2   https://encrypted-tbn2.gstatic.com/images?q=tb...   \n3   https://encrypted-tbn3.gstatic.com/images?q=tb...   \n4   https://encrypted-tbn1.gstatic.com/images?q=tb...   \n5   https://encrypted-tbn2.gstatic.com/images?q=tb...   \n6   https://encrypted-tbn2.gstatic.com/images?q=tb...   \n7   https://encrypted-tbn2.gstatic.com/images?q=tb...   \n8   https://encrypted-tbn2.gstatic.com/images?q=tb...   \n9   https://encrypted-tbn1.gstatic.com/images?q=tb...   \n10  https://encrypted-tbn2.gstatic.com/images?q=tb...   \n11  https://encrypted-tbn2.gstatic.com/images?q=tb...   \n12  https://encrypted-tbn2.gstatic.com/images?q=tb...   \n13  https://encrypted-tbn3.gstatic.com/images?q=tb...   \n14  https://encrypted-tbn2.gstatic.com/images?q=tb...   \n15  https://encrypted-tbn3.gstatic.com/images?q=tb...   \n16  https://encrypted-tbn1.gstatic.com/images?q=tb...   \n17  https://encrypted-tbn2.gstatic.com/images?q=tb...   \n18  https://encrypted-tbn1.gstatic.com/images?q=tb...   \n19  https://encrypted-tbn1.gstatic.com/images?q=tb...   \n20  https://encrypted-tbn0.gstatic.com/images?q=tb...   \n21  https://encrypted-tbn1.gstatic.com/images?q=tb...   \n22  https://encrypted-tbn1.gstatic.com/images?q=tb...   \n23  https://encrypted-tbn0.gstatic.com/images?q=tb...   \n24  https://encrypted-tbn0.gstatic.com/images?q=tb...   \n25  https://encrypted-tbn3.gstatic.com/images?q=tb...   \n26  https://encrypted-tbn1.gstatic.com/images?q=tb...   \n27  https://encrypted-tbn1.gstatic.com/images?q=tb...   \n28  https://encrypted-tbn2.gstatic.com/images?q=tb...   \n29  https://encrypted-tbn2.gstatic.com/images?q=tb...   \n30  https://encrypted-tbn0.gstatic.com/images?q=tb...   \n31  https://encrypted-tbn0.gstatic.com/images?q=tb...   \n32  https://encrypted-tbn3.gstatic.com/images?q=tb...   \n33  https://encrypted-tbn2.gstatic.com/images?q=tb...   \n34  https://encrypted-tbn1.gstatic.com/images?q=tb...   \n35  https://encrypted-tbn0.gstatic.com/images?q=tb...   \n36  https://encrypted-tbn3.gstatic.com/images?q=tb...   \n37  https://encrypted-tbn2.gstatic.com/images?q=tb...   \n38  https://encrypted-tbn1.gstatic.com/images?q=tb...   \n39  https://encrypted-tbn1.gstatic.com/images?q=tb...   \n40  https://encrypted-tbn0.gstatic.com/images?q=tb...   \n41  https://encrypted-tbn1.gstatic.com/images?q=tb...   \n42  https://encrypted-tbn1.gstatic.com/images?q=tb...   \n43  https://encrypted-tbn1.gstatic.com/images?q=tb...   \n44  https://encrypted-tbn3.gstatic.com/images?q=tb...   \n45  https://encrypted-tbn0.gstatic.com/images?q=tb...   \n46  https://encrypted-tbn0.gstatic.com/images?q=tb...   \n\n                       source  \\\n0                  9to5Google   \n1                     9to5Mac   \n2            Business Insider   \n3                The Register   \n4               Yahoo Finance   \n5                     Variety   \n6   Investor's Business Daily   \n7                   The Verge   \n8             The Information   \n9                  9to5Google   \n10                    9to5Mac   \n11                Push Square   \n12                   Engadget   \n13                 Daily Mail   \n14                 TechCrunch   \n15                  TechRadar   \n16                     Kotaku   \n17                     Forbes   \n18             Pokémon GO Hub   \n19                   Engadget   \n20                 Gamesradar   \n21               GSMArena.com   \n22                    Gematsu   \n23                    Vulture   \n24               Ars Technica   \n25                      ZDNet   \n26                  SlashGear   \n27                  The Verge   \n28          Notebookcheck.net   \n29             XDA Developers   \n30                   Engadget   \n31                        IGN   \n32                GAMINGbible   \n33                    Gematsu   \n34                Newsshooter   \n35                 Gamesradar   \n36              Eurogamer.net   \n37                      WIRED   \n38                   Defector   \n39                  The Verge   \n40                 Gamesradar   \n41                   Jalopnik   \n42          Bloody Disgusting   \n43                   GameSpot   \n44             Game Developer   \n45                  TheStreet   \n46                 Gamesradar   \n\n                                          source_icon  \\\n0   https://encrypted-tbn3.gstatic.com/faviconV2?u...   \n1   https://encrypted-tbn0.gstatic.com/faviconV2?u...   \n2   https://encrypted-tbn3.gstatic.com/faviconV2?u...   \n3   https://encrypted-tbn1.gstatic.com/faviconV2?u...   \n4   https://encrypted-tbn1.gstatic.com/faviconV2?u...   \n5   https://encrypted-tbn1.gstatic.com/faviconV2?u...   \n6   https://encrypted-tbn0.gstatic.com/faviconV2?u...   \n7   https://encrypted-tbn2.gstatic.com/faviconV2?u...   \n8   https://encrypted-tbn3.gstatic.com/faviconV2?u...   \n9   https://encrypted-tbn3.gstatic.com/faviconV2?u...   \n10  https://encrypted-tbn0.gstatic.com/faviconV2?u...   \n11  https://encrypted-tbn2.gstatic.com/faviconV2?u...   \n12  https://encrypted-tbn1.gstatic.com/faviconV2?u...   \n13  https://encrypted-tbn1.gstatic.com/faviconV2?u...   \n14  https://encrypted-tbn1.gstatic.com/faviconV2?u...   \n15  https://encrypted-tbn2.gstatic.com/faviconV2?u...   \n16  https://encrypted-tbn3.gstatic.com/faviconV2?u...   \n17  https://encrypted-tbn2.gstatic.com/faviconV2?u...   \n18  https://encrypted-tbn1.gstatic.com/faviconV2?u...   \n19  https://encrypted-tbn1.gstatic.com/faviconV2?u...   \n20  https://encrypted-tbn3.gstatic.com/faviconV2?u...   \n21  https://encrypted-tbn1.gstatic.com/faviconV2?u...   \n22  https://encrypted-tbn0.gstatic.com/faviconV2?u...   \n23  https://encrypted-tbn1.gstatic.com/faviconV2?u...   \n24  https://encrypted-tbn0.gstatic.com/faviconV2?u...   \n25  https://encrypted-tbn3.gstatic.com/faviconV2?u...   \n26  https://encrypted-tbn0.gstatic.com/faviconV2?u...   \n27  https://encrypted-tbn2.gstatic.com/faviconV2?u...   \n28  https://encrypted-tbn3.gstatic.com/faviconV2?u...   \n29  https://encrypted-tbn3.gstatic.com/faviconV2?u...   \n30  https://encrypted-tbn1.gstatic.com/faviconV2?u...   \n31  https://encrypted-tbn1.gstatic.com/faviconV2?u...   \n32  https://encrypted-tbn3.gstatic.com/faviconV2?u...   \n33  https://encrypted-tbn0.gstatic.com/faviconV2?u...   \n34  https://encrypted-tbn0.gstatic.com/faviconV2?u...   \n35  https://encrypted-tbn3.gstatic.com/faviconV2?u...   \n36  https://encrypted-tbn0.gstatic.com/faviconV2?u...   \n37  https://encrypted-tbn2.gstatic.com/faviconV2?u...   \n38  https://encrypted-tbn0.gstatic.com/faviconV2?u...   \n39  https://encrypted-tbn2.gstatic.com/faviconV2?u...   \n40  https://encrypted-tbn3.gstatic.com/faviconV2?u...   \n41  https://encrypted-tbn0.gstatic.com/faviconV2?u...   \n42  https://encrypted-tbn0.gstatic.com/faviconV2?u...   \n43  https://encrypted-tbn1.gstatic.com/faviconV2?u...   \n44  https://encrypted-tbn3.gstatic.com/faviconV2?u...   \n45  https://encrypted-tbn1.gstatic.com/faviconV2?u...   \n46  https://encrypted-tbn3.gstatic.com/faviconV2?u...   \n\n                                                title     section  \\\n0   Android 15 Beta 1 and the curious case of 'Pix...  Technology   \n1   Four things to expect from the next-generation...  Technology   \n2   Humane engineer admits Ai pin can be 'frustrat...  Technology   \n3   Google One VPN axed for everyone but Pixel loy...  Technology   \n4   US lawmakers angry after Huawei unveils laptop...  Technology   \n5   ‘Fallout 76’ Is Now Free For New Prime Members...  Technology   \n6                  Apple Stock Rises On AI Mac Report  Technology   \n7   Galaxy AI features are coming to last-gen Sams...  Technology   \n8   At Google's Cloud Conference, Lofty AI Visions...  Technology   \n9   Microsoft is sticking ads in the Windows 11 St...  Technology   \n10  iOS 18 Siri: Three clues about what it may be ...  Technology   \n11  Stellar Blade's Demo Had Way More Daily Active...  Technology   \n12      Paid ChatGPT users can now access GPT-4 Turbo  Technology   \n13  Apple makes a major change that makes it signi...  Technology   \n14  Meta is testing an AI-powered search bar in In...  Technology   \n15  Huge weekend sale at Best Buy – shop the 14 be...  Technology   \n16  Overwatch 2's New Season Reimagines Its Heroes...  Technology   \n17  Apple Issues New Spyware Attack Warning To iPh...  Technology   \n18  Mega Heracross as a Bug-type and Fighting-type...  Technology   \n19  Epic wants to blow the Google Play Store wide ...  Technology   \n20  After 26 years stuck in Japan, Nintendo finall...  Technology   \n21  Here's the Google Pixel 8a in all four colors ...  Technology   \n22  Shin Megami Tensei V: Vengeance details new Na...  Technology   \n23  The Best 'Fallout' Game to Play After Watching...  Technology   \n24  Google Photos' AI editor goes freemium, hopes ...  Technology   \n25  Samsung will give you a free 65-inch 4K TV rig...  Technology   \n26  Your Android Is About To Serve Google's Device...  Technology   \n27  4TB SD cards are arriving in 2025 for your cam...  Technology   \n28  Sony WH-ULT900N: New Sony over-ear wireless he...  Technology   \n29  iPhone 15 Pro Max vs Xiaomi 14 Ultra camera sh...  Technology   \n30  Apple's MacBook Air M2 returns to an all-time ...  Technology   \n31      IGN Live Dates and Location Revealed for 2024  Technology   \n32  GTA 6 fans uncover one hour of gameplay footag...  Technology   \n33  Visions of Mana 'Continue Your Life with Mana'...  Technology   \n34  Blackmagic Design Introduces a New Box style B...  Technology   \n35  Louder for the shareholders in the back: Final...  Technology   \n36  Baldur's Gate 3 actors reveal the darker side ...  Technology   \n37  San Francisco's Train System Still Uses Floppy...  Technology   \n38                 If You Love Podcasts, Dump Spotify  Technology   \n39  Spotify's lossless audio could finally arrive ...  Technology   \n40  The Helldivers 2 dev asked players about its n...  Technology   \n41  Ford Will Paint Your Mustang For Free, So Long...  Technology   \n42  Bethesda Announces Free “Next-Gen Update” for ...  Technology   \n43  Destiny 2 Is Finally Fixing An Issue That Has ...  Technology   \n44  Slay the Spire devs followed through on abando...  Technology   \n45         Roku is planning a change users won't like  Technology   \n46  In Helldivers 2's clearest 'are we the baddies...  Technology   \n\n                 download_date        date  \n0   2024-04-13 11:36:35.837480  2024-04-13  \n1   2024-04-13 11:36:35.837480  2024-04-13  \n2   2024-04-13 11:36:35.837480  2024-04-13  \n3   2024-04-13 11:36:35.837480  2024-04-13  \n4   2024-04-13 11:36:35.837480  2024-04-13  \n5   2024-04-13 11:36:35.837480  2024-04-13  \n6   2024-04-13 11:36:35.837480  2024-04-13  \n7   2024-04-13 11:36:35.837480  2024-04-13  \n8   2024-04-13 11:36:35.837480  2024-04-13  \n9   2024-04-13 11:36:35.837480  2024-04-13  \n10  2024-04-13 11:36:35.837480  2024-04-13  \n11  2024-04-13 11:36:35.837480  2024-04-13  \n12  2024-04-13 11:36:35.837480  2024-04-13  \n13  2024-04-13 11:36:35.837480  2024-04-13  \n14  2024-04-13 11:36:35.837480  2024-04-13  \n15  2024-04-13 11:36:35.837480  2024-04-13  \n16  2024-04-13 11:36:35.837480  2024-04-13  \n17  2024-04-13 11:36:35.837480  2024-04-13  \n18  2024-04-13 11:36:35.837480  2024-04-13  \n19  2024-04-13 11:36:35.837480  2024-04-13  \n20  2024-04-13 11:36:35.837480  2024-04-13  \n21  2024-04-13 11:36:35.837480  2024-04-13  \n22  2024-04-13 11:36:35.837480  2024-04-13  \n23  2024-04-13 11:36:35.837480  2024-04-13  \n24  2024-04-13 11:36:35.837480  2024-04-13  \n25  2024-04-13 11:36:35.837480  2024-04-13  \n26  2024-04-13 11:36:35.837480  2024-04-13  \n27  2024-04-13 11:36:35.837480  2024-04-13  \n28  2024-04-13 11:36:35.837480  2024-04-13  \n29  2024-04-13 11:36:35.837480  2024-04-13  \n30  2024-04-13 11:36:35.837480  2024-04-13  \n31  2024-04-13 11:36:35.837480  2024-04-13  \n32  2024-04-13 11:36:35.837480  2024-04-13  \n33  2024-04-13 11:36:35.837480  2024-04-13  \n34  2024-04-13 11:36:35.837480  2024-04-13  \n35  2024-04-13 11:36:35.837480  2024-04-13  \n36  2024-04-13 11:36:35.837480  2024-04-13  \n37  2024-04-13 11:36:35.837480  2024-04-13  \n38  2024-04-13 11:36:35.837480  2024-04-13  \n39  2024-04-13 11:36:35.837480  2024-04-13  \n40  2024-04-13 11:36:35.837480  2024-04-13  \n41  2024-04-13 11:36:35.837480  2024-04-13  \n42  2024-04-13 11:36:35.837480  2024-04-13  \n43  2024-04-13 11:36:35.837480  2024-04-13  \n44  2024-04-13 11:36:35.837480  2024-04-13  \n45  2024-04-13 11:36:35.837480  2024-04-13  \n46  2024-04-13 11:36:35.837480  2024-04-13  ",
      "text/html": "<div>\n<style scoped>\n    .dataframe tbody tr th:only-of-type {\n        vertical-align: middle;\n    }\n\n    .dataframe tbody tr th {\n        vertical-align: top;\n    }\n\n    .dataframe thead th {\n        text-align: right;\n    }\n</style>\n<table border=\"1\" class=\"dataframe\">\n  <thead>\n    <tr style=\"text-align: right;\">\n      <th></th>\n      <th>link</th>\n      <th>og</th>\n      <th>source</th>\n      <th>source_icon</th>\n      <th>title</th>\n      <th>section</th>\n      <th>download_date</th>\n      <th>date</th>\n    </tr>\n  </thead>\n  <tbody>\n    <tr>\n      <th>0</th>\n      <td>https://news.google.com/articles/CBMiQmh0dHBzO...</td>\n      <td>https://encrypted-tbn3.gstatic.com/images?q=tb...</td>\n      <td>9to5Google</td>\n      <td>https://encrypted-tbn3.gstatic.com/faviconV2?u...</td>\n      <td>Android 15 Beta 1 and the curious case of 'Pix...</td>\n      <td>Technology</td>\n      <td>2024-04-13 11:36:35.837480</td>\n      <td>2024-04-13</td>\n    </tr>\n    <tr>\n      <th>1</th>\n      <td>https://news.google.com/articles/CBMiOGh0dHBzO...</td>\n      <td>https://encrypted-tbn3.gstatic.com/images?q=tb...</td>\n      <td>9to5Mac</td>\n      <td>https://encrypted-tbn0.gstatic.com/faviconV2?u...</td>\n      <td>Four things to expect from the next-generation...</td>\n      <td>Technology</td>\n      <td>2024-04-13 11:36:35.837480</td>\n      <td>2024-04-13</td>\n    </tr>\n    <tr>\n      <th>2</th>\n      <td>https://news.google.com/articles/CBMiWmh0dHBzO...</td>\n      <td>https://encrypted-tbn2.gstatic.com/images?q=tb...</td>\n      <td>Business Insider</td>\n      <td>https://encrypted-tbn3.gstatic.com/faviconV2?u...</td>\n      <td>Humane engineer admits Ai pin can be 'frustrat...</td>\n      <td>Technology</td>\n      <td>2024-04-13 11:36:35.837480</td>\n      <td>2024-04-13</td>\n    </tr>\n    <tr>\n      <th>3</th>\n      <td>https://news.google.com/articles/CBMiPGh0dHBzO...</td>\n      <td>https://encrypted-tbn3.gstatic.com/images?q=tb...</td>\n      <td>The Register</td>\n      <td>https://encrypted-tbn1.gstatic.com/faviconV2?u...</td>\n      <td>Google One VPN axed for everyone but Pixel loy...</td>\n      <td>Technology</td>\n      <td>2024-04-13 11:36:35.837480</td>\n      <td>2024-04-13</td>\n    </tr>\n    <tr>\n      <th>4</th>\n      <td>https://news.google.com/articles/CBMiT2h0dHBzO...</td>\n      <td>https://encrypted-tbn1.gstatic.com/images?q=tb...</td>\n      <td>Yahoo Finance</td>\n      <td>https://encrypted-tbn1.gstatic.com/faviconV2?u...</td>\n      <td>US lawmakers angry after Huawei unveils laptop...</td>\n      <td>Technology</td>\n      <td>2024-04-13 11:36:35.837480</td>\n      <td>2024-04-13</td>\n    </tr>\n    <tr>\n      <th>5</th>\n      <td>https://news.google.com/articles/CBMiV2h0dHBzO...</td>\n      <td>https://encrypted-tbn2.gstatic.com/images?q=tb...</td>\n      <td>Variety</td>\n      <td>https://encrypted-tbn1.gstatic.com/faviconV2?u...</td>\n      <td>‘Fallout 76’ Is Now Free For New Prime Members...</td>\n      <td>Technology</td>\n      <td>2024-04-13 11:36:35.837480</td>\n      <td>2024-04-13</td>\n    </tr>\n    <tr>\n      <th>6</th>\n      <td>https://news.google.com/articles/CBMiSWh0dHBzO...</td>\n      <td>https://encrypted-tbn2.gstatic.com/images?q=tb...</td>\n      <td>Investor's Business Daily</td>\n      <td>https://encrypted-tbn0.gstatic.com/faviconV2?u...</td>\n      <td>Apple Stock Rises On AI Mac Report</td>\n      <td>Technology</td>\n      <td>2024-04-13 11:36:35.837480</td>\n      <td>2024-04-13</td>\n    </tr>\n    <tr>\n      <th>7</th>\n      <td>https://news.google.com/articles/CBMiY2h0dHBzO...</td>\n      <td>https://encrypted-tbn2.gstatic.com/images?q=tb...</td>\n      <td>The Verge</td>\n      <td>https://encrypted-tbn2.gstatic.com/faviconV2?u...</td>\n      <td>Galaxy AI features are coming to last-gen Sams...</td>\n      <td>Technology</td>\n      <td>2024-04-13 11:36:35.837480</td>\n      <td>2024-04-13</td>\n    </tr>\n    <tr>\n      <th>8</th>\n      <td>https://news.google.com/articles/CBMiamh0dHBzO...</td>\n      <td>https://encrypted-tbn2.gstatic.com/images?q=tb...</td>\n      <td>The Information</td>\n      <td>https://encrypted-tbn3.gstatic.com/faviconV2?u...</td>\n      <td>At Google's Cloud Conference, Lofty AI Visions...</td>\n      <td>Technology</td>\n      <td>2024-04-13 11:36:35.837480</td>\n      <td>2024-04-13</td>\n    </tr>\n    <tr>\n      <th>9</th>\n      <td>https://news.google.com/articles/CBMiWWh0dHBzO...</td>\n      <td>https://encrypted-tbn1.gstatic.com/images?q=tb...</td>\n      <td>9to5Google</td>\n      <td>https://encrypted-tbn3.gstatic.com/faviconV2?u...</td>\n      <td>Microsoft is sticking ads in the Windows 11 St...</td>\n      <td>Technology</td>\n      <td>2024-04-13 11:36:35.837480</td>\n      <td>2024-04-13</td>\n    </tr>\n    <tr>\n      <th>10</th>\n      <td>https://news.google.com/articles/CBMiK2h0dHBzO...</td>\n      <td>https://encrypted-tbn2.gstatic.com/images?q=tb...</td>\n      <td>9to5Mac</td>\n      <td>https://encrypted-tbn0.gstatic.com/faviconV2?u...</td>\n      <td>iOS 18 Siri: Three clues about what it may be ...</td>\n      <td>Technology</td>\n      <td>2024-04-13 11:36:35.837480</td>\n      <td>2024-04-13</td>\n    </tr>\n    <tr>\n      <th>11</th>\n      <td>https://news.google.com/articles/CBMie2h0dHBzO...</td>\n      <td>https://encrypted-tbn2.gstatic.com/images?q=tb...</td>\n      <td>Push Square</td>\n      <td>https://encrypted-tbn2.gstatic.com/faviconV2?u...</td>\n      <td>Stellar Blade's Demo Had Way More Daily Active...</td>\n      <td>Technology</td>\n      <td>2024-04-13 11:36:35.837480</td>\n      <td>2024-04-13</td>\n    </tr>\n    <tr>\n      <th>12</th>\n      <td>https://news.google.com/articles/CBMiVWh0dHBzO...</td>\n      <td>https://encrypted-tbn2.gstatic.com/images?q=tb...</td>\n      <td>Engadget</td>\n      <td>https://encrypted-tbn1.gstatic.com/faviconV2?u...</td>\n      <td>Paid ChatGPT users can now access GPT-4 Turbo</td>\n      <td>Technology</td>\n      <td>2024-04-13 11:36:35.837480</td>\n      <td>2024-04-13</td>\n    </tr>\n    <tr>\n      <th>13</th>\n      <td>https://news.google.com/articles/CBMiXGh0dHBzO...</td>\n      <td>https://encrypted-tbn3.gstatic.com/images?q=tb...</td>\n      <td>Daily Mail</td>\n      <td>https://encrypted-tbn1.gstatic.com/faviconV2?u...</td>\n      <td>Apple makes a major change that makes it signi...</td>\n      <td>Technology</td>\n      <td>2024-04-13 11:36:35.837480</td>\n      <td>2024-04-13</td>\n    </tr>\n    <tr>\n      <th>14</th>\n      <td>https://news.google.com/articles/CBMiWGh0dHBzO...</td>\n      <td>https://encrypted-tbn2.gstatic.com/images?q=tb...</td>\n      <td>TechCrunch</td>\n      <td>https://encrypted-tbn1.gstatic.com/faviconV2?u...</td>\n      <td>Meta is testing an AI-powered search bar in In...</td>\n      <td>Technology</td>\n      <td>2024-04-13 11:36:35.837480</td>\n      <td>2024-04-13</td>\n    </tr>\n    <tr>\n      <th>15</th>\n      <td>https://news.google.com/articles/CBMiX2h0dHBzO...</td>\n      <td>https://encrypted-tbn3.gstatic.com/images?q=tb...</td>\n      <td>TechRadar</td>\n      <td>https://encrypted-tbn2.gstatic.com/faviconV2?u...</td>\n      <td>Huge weekend sale at Best Buy – shop the 14 be...</td>\n      <td>Technology</td>\n      <td>2024-04-13 11:36:35.837480</td>\n      <td>2024-04-13</td>\n    </tr>\n    <tr>\n      <th>16</th>\n      <td>https://news.google.com/articles/CBMiVGh0dHBzO...</td>\n      <td>https://encrypted-tbn1.gstatic.com/images?q=tb...</td>\n      <td>Kotaku</td>\n      <td>https://encrypted-tbn3.gstatic.com/faviconV2?u...</td>\n      <td>Overwatch 2's New Season Reimagines Its Heroes...</td>\n      <td>Technology</td>\n      <td>2024-04-13 11:36:35.837480</td>\n      <td>2024-04-13</td>\n    </tr>\n    <tr>\n      <th>17</th>\n      <td>https://news.google.com/articles/CBMicGh0dHBzO...</td>\n      <td>https://encrypted-tbn2.gstatic.com/images?q=tb...</td>\n      <td>Forbes</td>\n      <td>https://encrypted-tbn2.gstatic.com/faviconV2?u...</td>\n      <td>Apple Issues New Spyware Attack Warning To iPh...</td>\n      <td>Technology</td>\n      <td>2024-04-13 11:36:35.837480</td>\n      <td>2024-04-13</td>\n    </tr>\n    <tr>\n      <th>18</th>\n      <td>https://news.google.com/articles/CBMiYGh0dHBzO...</td>\n      <td>https://encrypted-tbn1.gstatic.com/images?q=tb...</td>\n      <td>Pokémon GO Hub</td>\n      <td>https://encrypted-tbn1.gstatic.com/faviconV2?u...</td>\n      <td>Mega Heracross as a Bug-type and Fighting-type...</td>\n      <td>Technology</td>\n      <td>2024-04-13 11:36:35.837480</td>\n      <td>2024-04-13</td>\n    </tr>\n    <tr>\n      <th>19</th>\n      <td>https://news.google.com/articles/CBMiWmh0dHBzO...</td>\n      <td>https://encrypted-tbn1.gstatic.com/images?q=tb...</td>\n      <td>Engadget</td>\n      <td>https://encrypted-tbn1.gstatic.com/faviconV2?u...</td>\n      <td>Epic wants to blow the Google Play Store wide ...</td>\n      <td>Technology</td>\n      <td>2024-04-13 11:36:35.837480</td>\n      <td>2024-04-13</td>\n    </tr>\n    <tr>\n      <th>20</th>\n      <td>https://news.google.com/articles/CBMifGh0dHBzO...</td>\n      <td>https://encrypted-tbn0.gstatic.com/images?q=tb...</td>\n      <td>Gamesradar</td>\n      <td>https://encrypted-tbn3.gstatic.com/faviconV2?u...</td>\n      <td>After 26 years stuck in Japan, Nintendo finall...</td>\n      <td>Technology</td>\n      <td>2024-04-13 11:36:35.837480</td>\n      <td>2024-04-13</td>\n    </tr>\n    <tr>\n      <th>21</th>\n      <td>https://news.google.com/articles/CBMiVGh0dHBzO...</td>\n      <td>https://encrypted-tbn1.gstatic.com/images?q=tb...</td>\n      <td>GSMArena.com</td>\n      <td>https://encrypted-tbn1.gstatic.com/faviconV2?u...</td>\n      <td>Here's the Google Pixel 8a in all four colors ...</td>\n      <td>Technology</td>\n      <td>2024-04-13 11:36:35.837480</td>\n      <td>2024-04-13</td>\n    </tr>\n    <tr>\n      <th>22</th>\n      <td>https://news.google.com/articles/CBMieWh0dHBzO...</td>\n      <td>https://encrypted-tbn1.gstatic.com/images?q=tb...</td>\n      <td>Gematsu</td>\n      <td>https://encrypted-tbn0.gstatic.com/faviconV2?u...</td>\n      <td>Shin Megami Tensei V: Vengeance details new Na...</td>\n      <td>Technology</td>\n      <td>2024-04-13 11:36:35.837480</td>\n      <td>2024-04-13</td>\n    </tr>\n    <tr>\n      <th>23</th>\n      <td>https://news.google.com/articles/CBMiQGh0dHBzO...</td>\n      <td>https://encrypted-tbn0.gstatic.com/images?q=tb...</td>\n      <td>Vulture</td>\n      <td>https://encrypted-tbn1.gstatic.com/faviconV2?u...</td>\n      <td>The Best 'Fallout' Game to Play After Watching...</td>\n      <td>Technology</td>\n      <td>2024-04-13 11:36:35.837480</td>\n      <td>2024-04-13</td>\n    </tr>\n    <tr>\n      <th>24</th>\n      <td>https://news.google.com/articles/CBMibWh0dHBzO...</td>\n      <td>https://encrypted-tbn0.gstatic.com/images?q=tb...</td>\n      <td>Ars Technica</td>\n      <td>https://encrypted-tbn0.gstatic.com/faviconV2?u...</td>\n      <td>Google Photos' AI editor goes freemium, hopes ...</td>\n      <td>Technology</td>\n      <td>2024-04-13 11:36:35.837480</td>\n      <td>2024-04-13</td>\n    </tr>\n    <tr>\n      <th>25</th>\n      <td>https://news.google.com/articles/CBMilwFodHRwc...</td>\n      <td>https://encrypted-tbn3.gstatic.com/images?q=tb...</td>\n      <td>ZDNet</td>\n      <td>https://encrypted-tbn3.gstatic.com/faviconV2?u...</td>\n      <td>Samsung will give you a free 65-inch 4K TV rig...</td>\n      <td>Technology</td>\n      <td>2024-04-13 11:36:35.837480</td>\n      <td>2024-04-13</td>\n    </tr>\n    <tr>\n      <th>26</th>\n      <td>https://news.google.com/articles/CBMiU2h0dHBzO...</td>\n      <td>https://encrypted-tbn1.gstatic.com/images?q=tb...</td>\n      <td>SlashGear</td>\n      <td>https://encrypted-tbn0.gstatic.com/faviconV2?u...</td>\n      <td>Your Android Is About To Serve Google's Device...</td>\n      <td>Technology</td>\n      <td>2024-04-13 11:36:35.837480</td>\n      <td>2024-04-13</td>\n    </tr>\n    <tr>\n      <th>27</th>\n      <td>https://news.google.com/articles/CBMiXmh0dHBzO...</td>\n      <td>https://encrypted-tbn1.gstatic.com/images?q=tb...</td>\n      <td>The Verge</td>\n      <td>https://encrypted-tbn2.gstatic.com/faviconV2?u...</td>\n      <td>4TB SD cards are arriving in 2025 for your cam...</td>\n      <td>Technology</td>\n      <td>2024-04-13 11:36:35.837480</td>\n      <td>2024-04-13</td>\n    </tr>\n    <tr>\n      <th>28</th>\n      <td>https://news.google.com/articles/CBMiqgFodHRwc...</td>\n      <td>https://encrypted-tbn2.gstatic.com/images?q=tb...</td>\n      <td>Notebookcheck.net</td>\n      <td>https://encrypted-tbn3.gstatic.com/faviconV2?u...</td>\n      <td>Sony WH-ULT900N: New Sony over-ear wireless he...</td>\n      <td>Technology</td>\n      <td>2024-04-13 11:36:35.837480</td>\n      <td>2024-04-13</td>\n    </tr>\n    <tr>\n      <th>29</th>\n      <td>https://news.google.com/articles/CBMiVGh0dHBzO...</td>\n      <td>https://encrypted-tbn2.gstatic.com/images?q=tb...</td>\n      <td>XDA Developers</td>\n      <td>https://encrypted-tbn3.gstatic.com/faviconV2?u...</td>\n      <td>iPhone 15 Pro Max vs Xiaomi 14 Ultra camera sh...</td>\n      <td>Technology</td>\n      <td>2024-04-13 11:36:35.837480</td>\n      <td>2024-04-13</td>\n    </tr>\n    <tr>\n      <th>30</th>\n      <td>https://news.google.com/articles/CBMigwFodHRwc...</td>\n      <td>https://encrypted-tbn0.gstatic.com/images?q=tb...</td>\n      <td>Engadget</td>\n      <td>https://encrypted-tbn1.gstatic.com/faviconV2?u...</td>\n      <td>Apple's MacBook Air M2 returns to an all-time ...</td>\n      <td>Technology</td>\n      <td>2024-04-13 11:36:35.837480</td>\n      <td>2024-04-13</td>\n    </tr>\n    <tr>\n      <th>31</th>\n      <td>https://news.google.com/articles/CBMiP2h0dHBzO...</td>\n      <td>https://encrypted-tbn0.gstatic.com/images?q=tb...</td>\n      <td>IGN</td>\n      <td>https://encrypted-tbn1.gstatic.com/faviconV2?u...</td>\n      <td>IGN Live Dates and Location Revealed for 2024</td>\n      <td>Technology</td>\n      <td>2024-04-13 11:36:35.837480</td>\n      <td>2024-04-13</td>\n    </tr>\n    <tr>\n      <th>32</th>\n      <td>https://news.google.com/articles/CBMiZGh0dHBzO...</td>\n      <td>https://encrypted-tbn3.gstatic.com/images?q=tb...</td>\n      <td>GAMINGbible</td>\n      <td>https://encrypted-tbn3.gstatic.com/faviconV2?u...</td>\n      <td>GTA 6 fans uncover one hour of gameplay footag...</td>\n      <td>Technology</td>\n      <td>2024-04-13 11:36:35.837480</td>\n      <td>2024-04-13</td>\n    </tr>\n    <tr>\n      <th>33</th>\n      <td>https://news.google.com/articles/CBMiXGh0dHBzO...</td>\n      <td>https://encrypted-tbn2.gstatic.com/images?q=tb...</td>\n      <td>Gematsu</td>\n      <td>https://encrypted-tbn0.gstatic.com/faviconV2?u...</td>\n      <td>Visions of Mana 'Continue Your Life with Mana'...</td>\n      <td>Technology</td>\n      <td>2024-04-13 11:36:35.837480</td>\n      <td>2024-04-13</td>\n    </tr>\n    <tr>\n      <th>34</th>\n      <td>https://news.google.com/articles/CBMib2h0dHBzO...</td>\n      <td>https://encrypted-tbn1.gstatic.com/images?q=tb...</td>\n      <td>Newsshooter</td>\n      <td>https://encrypted-tbn0.gstatic.com/faviconV2?u...</td>\n      <td>Blackmagic Design Introduces a New Box style B...</td>\n      <td>Technology</td>\n      <td>2024-04-13 11:36:35.837480</td>\n      <td>2024-04-13</td>\n    </tr>\n    <tr>\n      <th>35</th>\n      <td>https://news.google.com/articles/CBMivQFodHRwc...</td>\n      <td>https://encrypted-tbn0.gstatic.com/images?q=tb...</td>\n      <td>Gamesradar</td>\n      <td>https://encrypted-tbn3.gstatic.com/faviconV2?u...</td>\n      <td>Louder for the shareholders in the back: Final...</td>\n      <td>Technology</td>\n      <td>2024-04-13 11:36:35.837480</td>\n      <td>2024-04-13</td>\n    </tr>\n    <tr>\n      <th>36</th>\n      <td>https://news.google.com/articles/CBMibWh0dHBzO...</td>\n      <td>https://encrypted-tbn3.gstatic.com/images?q=tb...</td>\n      <td>Eurogamer.net</td>\n      <td>https://encrypted-tbn0.gstatic.com/faviconV2?u...</td>\n      <td>Baldur's Gate 3 actors reveal the darker side ...</td>\n      <td>Technology</td>\n      <td>2024-04-13 11:36:35.837480</td>\n      <td>2024-04-13</td>\n    </tr>\n    <tr>\n      <th>37</th>\n      <td>https://news.google.com/articles/CBMiQ2h0dHBzO...</td>\n      <td>https://encrypted-tbn2.gstatic.com/images?q=tb...</td>\n      <td>WIRED</td>\n      <td>https://encrypted-tbn2.gstatic.com/faviconV2?u...</td>\n      <td>San Francisco's Train System Still Uses Floppy...</td>\n      <td>Technology</td>\n      <td>2024-04-13 11:36:35.837480</td>\n      <td>2024-04-13</td>\n    </tr>\n    <tr>\n      <th>38</th>\n      <td>https://news.google.com/articles/CBMiNmh0dHBzO...</td>\n      <td>https://encrypted-tbn1.gstatic.com/images?q=tb...</td>\n      <td>Defector</td>\n      <td>https://encrypted-tbn0.gstatic.com/faviconV2?u...</td>\n      <td>If You Love Podcasts, Dump Spotify</td>\n      <td>Technology</td>\n      <td>2024-04-13 11:36:35.837480</td>\n      <td>2024-04-13</td>\n    </tr>\n    <tr>\n      <th>39</th>\n      <td>https://news.google.com/articles/CBMiTGh0dHBzO...</td>\n      <td>https://encrypted-tbn1.gstatic.com/images?q=tb...</td>\n      <td>The Verge</td>\n      <td>https://encrypted-tbn2.gstatic.com/faviconV2?u...</td>\n      <td>Spotify's lossless audio could finally arrive ...</td>\n      <td>Technology</td>\n      <td>2024-04-13 11:36:35.837480</td>\n      <td>2024-04-13</td>\n    </tr>\n    <tr>\n      <th>40</th>\n      <td>https://news.google.com/articles/CBMivwFodHRwc...</td>\n      <td>https://encrypted-tbn0.gstatic.com/images?q=tb...</td>\n      <td>Gamesradar</td>\n      <td>https://encrypted-tbn3.gstatic.com/faviconV2?u...</td>\n      <td>The Helldivers 2 dev asked players about its n...</td>\n      <td>Technology</td>\n      <td>2024-04-13 11:36:35.837480</td>\n      <td>2024-04-13</td>\n    </tr>\n    <tr>\n      <th>41</th>\n      <td>https://news.google.com/articles/CBMiVmh0dHBzO...</td>\n      <td>https://encrypted-tbn1.gstatic.com/images?q=tb...</td>\n      <td>Jalopnik</td>\n      <td>https://encrypted-tbn0.gstatic.com/faviconV2?u...</td>\n      <td>Ford Will Paint Your Mustang For Free, So Long...</td>\n      <td>Technology</td>\n      <td>2024-04-13 11:36:35.837480</td>\n      <td>2024-04-13</td>\n    </tr>\n    <tr>\n      <th>42</th>\n      <td>https://news.google.com/articles/CBMifmh0dHBzO...</td>\n      <td>https://encrypted-tbn1.gstatic.com/images?q=tb...</td>\n      <td>Bloody Disgusting</td>\n      <td>https://encrypted-tbn0.gstatic.com/faviconV2?u...</td>\n      <td>Bethesda Announces Free “Next-Gen Update” for ...</td>\n      <td>Technology</td>\n      <td>2024-04-13 11:36:35.837480</td>\n      <td>2024-04-13</td>\n    </tr>\n    <tr>\n      <th>43</th>\n      <td>https://news.google.com/articles/CBMifWh0dHBzO...</td>\n      <td>https://encrypted-tbn1.gstatic.com/images?q=tb...</td>\n      <td>GameSpot</td>\n      <td>https://encrypted-tbn1.gstatic.com/faviconV2?u...</td>\n      <td>Destiny 2 Is Finally Fixing An Issue That Has ...</td>\n      <td>Technology</td>\n      <td>2024-04-13 11:36:35.837480</td>\n      <td>2024-04-13</td>\n    </tr>\n    <tr>\n      <th>44</th>\n      <td>https://news.google.com/articles/CBMiX2h0dHBzO...</td>\n      <td>https://encrypted-tbn3.gstatic.com/images?q=tb...</td>\n      <td>Game Developer</td>\n      <td>https://encrypted-tbn3.gstatic.com/faviconV2?u...</td>\n      <td>Slay the Spire devs followed through on abando...</td>\n      <td>Technology</td>\n      <td>2024-04-13 11:36:35.837480</td>\n      <td>2024-04-13</td>\n    </tr>\n    <tr>\n      <th>45</th>\n      <td>https://news.google.com/articles/CBMiTmh0dHBzO...</td>\n      <td>https://encrypted-tbn0.gstatic.com/images?q=tb...</td>\n      <td>TheStreet</td>\n      <td>https://encrypted-tbn1.gstatic.com/faviconV2?u...</td>\n      <td>Roku is planning a change users won't like</td>\n      <td>Technology</td>\n      <td>2024-04-13 11:36:35.837480</td>\n      <td>2024-04-13</td>\n    </tr>\n    <tr>\n      <th>46</th>\n      <td>https://news.google.com/articles/CBMiugFodHRwc...</td>\n      <td>https://encrypted-tbn0.gstatic.com/images?q=tb...</td>\n      <td>Gamesradar</td>\n      <td>https://encrypted-tbn3.gstatic.com/faviconV2?u...</td>\n      <td>In Helldivers 2's clearest 'are we the baddies...</td>\n      <td>Technology</td>\n      <td>2024-04-13 11:36:35.837480</td>\n      <td>2024-04-13</td>\n    </tr>\n  </tbody>\n</table>\n</div>"
     },
     "execution_count": 13,
     "metadata": {},
     "output_type": "execute_result"
    }
   ],
   "source": [
    "# get the file from s3 using boto3\n",
    "obj = s3.get_object(Bucket=bucket_name_news, Key=technology_file)\n",
    "data_tech = pd.read_csv(obj['Body'])\n",
    "\n",
    "data_tech"
   ]
  },
  {
   "cell_type": "markdown",
   "metadata": {},
   "source": [
    " ### 🏷️ Add tags to the bucket\n",
    " When creating a resource in the cloud, it is considered a best practice to add tags for organizing resources, controlling costs, or applying security policies based on these labels. The following code demonstrates how to add tags to a bucket using a method from the boto3 library."
   ]
  },
  {
   "cell_type": "code",
   "execution_count": 14,
   "metadata": {
    "ExecuteTime": {
     "end_time": "2024-04-13T08:36:49.740645800Z",
     "start_time": "2024-04-13T08:36:49.671111500Z"
    }
   },
   "outputs": [
    {
     "data": {
      "text/plain": "{'ResponseMetadata': {'RequestId': '88d41332-3365-4d7b-be42-6a2104a2aea7',\n  'HostId': 's9lzHYrFp76ZVxRcpX9+5cjAnEH2ROuNkd2BHfIa6UkFVdtjf5mKR3/eTPFvsiP/XV/VLi31234=',\n  'HTTPStatusCode': 204,\n  'HTTPHeaders': {'content-type': 'application/xml',\n   'x-amz-request-id': '88d41332-3365-4d7b-be42-6a2104a2aea7',\n   'x-amz-id-2': 's9lzHYrFp76ZVxRcpX9+5cjAnEH2ROuNkd2BHfIa6UkFVdtjf5mKR3/eTPFvsiP/XV/VLi31234=',\n   'connection': 'close',\n   'date': 'Sat, 13 Apr 2024 08:36:49 GMT',\n   'server': 'hypercorn-h11'},\n  'RetryAttempts': 0}}"
     },
     "execution_count": 14,
     "metadata": {},
     "output_type": "execute_result"
    }
   ],
   "source": [
    "s3.put_bucket_tagging(\n",
    "    Bucket=bucket_name_news,\n",
    "    Tagging={\n",
    "        'TagSet': [\n",
    "            {\n",
    "                'Key': 'Environment',\n",
    "                'Value': 'Test'\n",
    "            },\n",
    "            {\n",
    "                'Key': 'Project',\n",
    "                'Value': 'Localstack+Boto3'\n",
    "            }\n",
    "        ]\n",
    "    }\n",
    ")"
   ]
  },
  {
   "cell_type": "code",
   "execution_count": 15,
   "metadata": {
    "ExecuteTime": {
     "end_time": "2024-04-13T08:36:52.764759Z",
     "start_time": "2024-04-13T08:36:52.663427300Z"
    }
   },
   "outputs": [
    {
     "data": {
      "text/plain": "           Key             Value\n0  Environment              Test\n1      Project  Localstack+Boto3",
      "text/html": "<div>\n<style scoped>\n    .dataframe tbody tr th:only-of-type {\n        vertical-align: middle;\n    }\n\n    .dataframe tbody tr th {\n        vertical-align: top;\n    }\n\n    .dataframe thead th {\n        text-align: right;\n    }\n</style>\n<table border=\"1\" class=\"dataframe\">\n  <thead>\n    <tr style=\"text-align: right;\">\n      <th></th>\n      <th>Key</th>\n      <th>Value</th>\n    </tr>\n  </thead>\n  <tbody>\n    <tr>\n      <th>0</th>\n      <td>Environment</td>\n      <td>Test</td>\n    </tr>\n    <tr>\n      <th>1</th>\n      <td>Project</td>\n      <td>Localstack+Boto3</td>\n    </tr>\n  </tbody>\n</table>\n</div>"
     },
     "execution_count": 15,
     "metadata": {},
     "output_type": "execute_result"
    }
   ],
   "source": [
    "# get the tagging\n",
    "pd.json_normalize(s3.get_bucket_tagging(Bucket=bucket_name_news)['TagSet'])"
   ]
  },
  {
   "cell_type": "code",
   "outputs": [
    {
     "data": {
      "text/plain": "                                                 Key  \\\n0  s3://news/Business/dt=20240413/data_Business_n...   \n1  s3://news/Entertainment/dt=20240413/data_Enter...   \n2  s3://news/Health/dt=20240413/data_Health_news.csv   \n3  s3://news/Science/dt=20240413/data_Science_new...   \n4  s3://news/Sports/dt=20240413/data_Sports_news.csv   \n5  s3://news/Technology/dt=20240413/data_Technolo...   \n6          s3://news/US/dt=20240413/data_US_news.csv   \n7    s3://news/World/dt=20240413/data_World_news.csv   \n\n               LastModified                                ETag   Size  \\\n0 2024-04-13 08:36:35+00:00  \"dde88c71110a9c2702dea3f0664104ad\"  44450   \n1 2024-04-13 08:36:35+00:00  \"6208fcf0acc5fd4194e104aa75d6f0ab\"  20884   \n2 2024-04-13 08:36:35+00:00  \"7ee0751cd44a6fd2288d9e60c437ed18\"  47526   \n3 2024-04-13 08:36:35+00:00  \"ddce3cced04a91878d95f4be0c14d833\"  43407   \n4 2024-04-13 08:36:35+00:00  \"83c357ae6a767471f5497f2428853249\"  30624   \n5 2024-04-13 08:36:35+00:00  \"3ef519c3d6d503512ffb055a46188a3f\"  31218   \n6 2024-04-13 08:36:35+00:00  \"59c27a6bc7bba8a7de2e2d0dd6bc6871\"  37360   \n7 2024-04-13 08:36:36+00:00  \"17472b76f0644abc5726db0ae4b6dfb4\"  30499   \n\n  StorageClass Owner.DisplayName  \\\n0     STANDARD           webfile   \n1     STANDARD           webfile   \n2     STANDARD           webfile   \n3     STANDARD           webfile   \n4     STANDARD           webfile   \n5     STANDARD           webfile   \n6     STANDARD           webfile   \n7     STANDARD           webfile   \n\n                                            Owner.ID  \n0  75aa57f09aa0c8caeab4f8c24e99d10f8e7faeebf76c07...  \n1  75aa57f09aa0c8caeab4f8c24e99d10f8e7faeebf76c07...  \n2  75aa57f09aa0c8caeab4f8c24e99d10f8e7faeebf76c07...  \n3  75aa57f09aa0c8caeab4f8c24e99d10f8e7faeebf76c07...  \n4  75aa57f09aa0c8caeab4f8c24e99d10f8e7faeebf76c07...  \n5  75aa57f09aa0c8caeab4f8c24e99d10f8e7faeebf76c07...  \n6  75aa57f09aa0c8caeab4f8c24e99d10f8e7faeebf76c07...  \n7  75aa57f09aa0c8caeab4f8c24e99d10f8e7faeebf76c07...  ",
      "text/html": "<div>\n<style scoped>\n    .dataframe tbody tr th:only-of-type {\n        vertical-align: middle;\n    }\n\n    .dataframe tbody tr th {\n        vertical-align: top;\n    }\n\n    .dataframe thead th {\n        text-align: right;\n    }\n</style>\n<table border=\"1\" class=\"dataframe\">\n  <thead>\n    <tr style=\"text-align: right;\">\n      <th></th>\n      <th>Key</th>\n      <th>LastModified</th>\n      <th>ETag</th>\n      <th>Size</th>\n      <th>StorageClass</th>\n      <th>Owner.DisplayName</th>\n      <th>Owner.ID</th>\n    </tr>\n  </thead>\n  <tbody>\n    <tr>\n      <th>0</th>\n      <td>s3://news/Business/dt=20240413/data_Business_n...</td>\n      <td>2024-04-13 08:36:35+00:00</td>\n      <td>\"dde88c71110a9c2702dea3f0664104ad\"</td>\n      <td>44450</td>\n      <td>STANDARD</td>\n      <td>webfile</td>\n      <td>75aa57f09aa0c8caeab4f8c24e99d10f8e7faeebf76c07...</td>\n    </tr>\n    <tr>\n      <th>1</th>\n      <td>s3://news/Entertainment/dt=20240413/data_Enter...</td>\n      <td>2024-04-13 08:36:35+00:00</td>\n      <td>\"6208fcf0acc5fd4194e104aa75d6f0ab\"</td>\n      <td>20884</td>\n      <td>STANDARD</td>\n      <td>webfile</td>\n      <td>75aa57f09aa0c8caeab4f8c24e99d10f8e7faeebf76c07...</td>\n    </tr>\n    <tr>\n      <th>2</th>\n      <td>s3://news/Health/dt=20240413/data_Health_news.csv</td>\n      <td>2024-04-13 08:36:35+00:00</td>\n      <td>\"7ee0751cd44a6fd2288d9e60c437ed18\"</td>\n      <td>47526</td>\n      <td>STANDARD</td>\n      <td>webfile</td>\n      <td>75aa57f09aa0c8caeab4f8c24e99d10f8e7faeebf76c07...</td>\n    </tr>\n    <tr>\n      <th>3</th>\n      <td>s3://news/Science/dt=20240413/data_Science_new...</td>\n      <td>2024-04-13 08:36:35+00:00</td>\n      <td>\"ddce3cced04a91878d95f4be0c14d833\"</td>\n      <td>43407</td>\n      <td>STANDARD</td>\n      <td>webfile</td>\n      <td>75aa57f09aa0c8caeab4f8c24e99d10f8e7faeebf76c07...</td>\n    </tr>\n    <tr>\n      <th>4</th>\n      <td>s3://news/Sports/dt=20240413/data_Sports_news.csv</td>\n      <td>2024-04-13 08:36:35+00:00</td>\n      <td>\"83c357ae6a767471f5497f2428853249\"</td>\n      <td>30624</td>\n      <td>STANDARD</td>\n      <td>webfile</td>\n      <td>75aa57f09aa0c8caeab4f8c24e99d10f8e7faeebf76c07...</td>\n    </tr>\n    <tr>\n      <th>5</th>\n      <td>s3://news/Technology/dt=20240413/data_Technolo...</td>\n      <td>2024-04-13 08:36:35+00:00</td>\n      <td>\"3ef519c3d6d503512ffb055a46188a3f\"</td>\n      <td>31218</td>\n      <td>STANDARD</td>\n      <td>webfile</td>\n      <td>75aa57f09aa0c8caeab4f8c24e99d10f8e7faeebf76c07...</td>\n    </tr>\n    <tr>\n      <th>6</th>\n      <td>s3://news/US/dt=20240413/data_US_news.csv</td>\n      <td>2024-04-13 08:36:35+00:00</td>\n      <td>\"59c27a6bc7bba8a7de2e2d0dd6bc6871\"</td>\n      <td>37360</td>\n      <td>STANDARD</td>\n      <td>webfile</td>\n      <td>75aa57f09aa0c8caeab4f8c24e99d10f8e7faeebf76c07...</td>\n    </tr>\n    <tr>\n      <th>7</th>\n      <td>s3://news/World/dt=20240413/data_World_news.csv</td>\n      <td>2024-04-13 08:36:36+00:00</td>\n      <td>\"17472b76f0644abc5726db0ae4b6dfb4\"</td>\n      <td>30499</td>\n      <td>STANDARD</td>\n      <td>webfile</td>\n      <td>75aa57f09aa0c8caeab4f8c24e99d10f8e7faeebf76c07...</td>\n    </tr>\n  </tbody>\n</table>\n</div>"
     },
     "execution_count": 16,
     "metadata": {},
     "output_type": "execute_result"
    }
   ],
   "source": [
    "# list_objects(bucket_name_news)\n",
    "pd.json_normalize(s3.list_objects(Bucket=bucket_name_news)['Contents'])"
   ],
   "metadata": {
    "collapsed": false,
    "ExecuteTime": {
     "end_time": "2024-04-13T08:37:01.420781100Z",
     "start_time": "2024-04-13T08:37:01.257761700Z"
    }
   },
   "execution_count": 16
  },
  {
   "cell_type": "markdown",
   "metadata": {},
   "source": [
    "### 🔄 Versioning in the bucket\n",
    "Another good practice to apply is enabling versioning for your bucket. Versioning provides a way to recover and keep different versions of the same object. In the following code, we will create a file with the inventory of objects in the bucket and save the file twice. "
   ]
  },
  {
   "cell_type": "code",
   "execution_count": 17,
   "metadata": {
    "ExecuteTime": {
     "end_time": "2024-04-13T08:37:06.149362400Z",
     "start_time": "2024-04-13T08:37:06.031896400Z"
    }
   },
   "outputs": [
    {
     "data": {
      "text/plain": "{'ResponseMetadata': {'RequestId': '39d84f34-f2ad-49c8-9653-90b8b7d59bed',\n  'HostId': 's9lzHYrFp76ZVxRcpX9+5cjAnEH2ROuNkd2BHfIa6UkFVdtjf5mKR3/eTPFvsiP/XV/VLi31234=',\n  'HTTPStatusCode': 200,\n  'HTTPHeaders': {'content-type': 'application/xml',\n   'x-amz-request-id': '39d84f34-f2ad-49c8-9653-90b8b7d59bed',\n   'x-amz-id-2': 's9lzHYrFp76ZVxRcpX9+5cjAnEH2ROuNkd2BHfIa6UkFVdtjf5mKR3/eTPFvsiP/XV/VLi31234=',\n   'connection': 'close',\n   'content-length': '0',\n   'date': 'Sat, 13 Apr 2024 08:37:06 GMT',\n   'server': 'hypercorn-h11'},\n  'RetryAttempts': 0}}"
     },
     "execution_count": 17,
     "metadata": {},
     "output_type": "execute_result"
    }
   ],
   "source": [
    "\n",
    "# allow versioning in the bucket\n",
    "s3.put_bucket_versioning(\n",
    "    Bucket=bucket_name_news,\n",
    "    VersioningConfiguration={\n",
    "        'Status': 'Enabled'\n",
    "    }\n",
    ")\n",
    "\n"
   ]
  },
  {
   "cell_type": "code",
   "execution_count": 18,
   "metadata": {
    "ExecuteTime": {
     "end_time": "2024-04-13T08:37:09.170189800Z",
     "start_time": "2024-04-13T08:37:09.022146500Z"
    }
   },
   "outputs": [
    {
     "data": {
      "text/plain": "{'ResponseMetadata': {'RequestId': 'e4b1e2ce-d9e2-46d6-bb1b-4e02811b4c04',\n  'HostId': 's9lzHYrFp76ZVxRcpX9+5cjAnEH2ROuNkd2BHfIa6UkFVdtjf5mKR3/eTPFvsiP/XV/VLi31234=',\n  'HTTPStatusCode': 200,\n  'HTTPHeaders': {'content-type': 'application/xml',\n   'etag': '\"435141e1d042edf8e083b940b134d86b\"',\n   'x-amz-server-side-encryption': 'AES256',\n   'x-amz-version-id': 'ipACwABj1Nsx1qr35dK1Rw',\n   'x-amz-request-id': 'e4b1e2ce-d9e2-46d6-bb1b-4e02811b4c04',\n   'x-amz-id-2': 's9lzHYrFp76ZVxRcpX9+5cjAnEH2ROuNkd2BHfIa6UkFVdtjf5mKR3/eTPFvsiP/XV/VLi31234=',\n   'connection': 'close',\n   'content-length': '0',\n   'date': 'Sat, 13 Apr 2024 08:37:09 GMT',\n   'server': 'hypercorn-h11'},\n  'RetryAttempts': 0},\n 'ETag': '\"435141e1d042edf8e083b940b134d86b\"',\n 'ServerSideEncryption': 'AES256',\n 'VersionId': 'ipACwABj1Nsx1qr35dK1Rw'}"
     },
     "execution_count": 18,
     "metadata": {},
     "output_type": "execute_result"
    }
   ],
   "source": [
    "# Add new file to the bucket\n",
    "\n",
    "# file name\n",
    "file_name = 'inventory.csv'\n",
    "\n",
    "# list all objects in the bucket\n",
    "files = list_objects(bucket_name=bucket_name_news)\n",
    "bytes_io = io.BytesIO()\n",
    "files.to_csv(bytes_io, index=False)\n",
    "bytes_io.seek(0)\n",
    "# upload the data to s3\n",
    "s3.put_object(Bucket=bucket_name_news, Key=file_name, Body=bytes_io)\n",
    "\n"
   ]
  },
  {
   "cell_type": "code",
   "outputs": [
    {
     "data": {
      "text/plain": "                                                 Key  \\\n0  s3://news/Business/dt=20240413/data_Business_n...   \n1  s3://news/Entertainment/dt=20240413/data_Enter...   \n2  s3://news/Health/dt=20240413/data_Health_news.csv   \n3  s3://news/Science/dt=20240413/data_Science_new...   \n4  s3://news/Sports/dt=20240413/data_Sports_news.csv   \n5  s3://news/Technology/dt=20240413/data_Technolo...   \n6          s3://news/US/dt=20240413/data_US_news.csv   \n7    s3://news/World/dt=20240413/data_World_news.csv   \n\n                LastModified                                ETag   Size  \\\n0  2024-04-13 08:36:35+00:00  \"dde88c71110a9c2702dea3f0664104ad\"  44450   \n1  2024-04-13 08:36:35+00:00  \"6208fcf0acc5fd4194e104aa75d6f0ab\"  20884   \n2  2024-04-13 08:36:35+00:00  \"7ee0751cd44a6fd2288d9e60c437ed18\"  47526   \n3  2024-04-13 08:36:35+00:00  \"ddce3cced04a91878d95f4be0c14d833\"  43407   \n4  2024-04-13 08:36:35+00:00  \"83c357ae6a767471f5497f2428853249\"  30624   \n5  2024-04-13 08:36:35+00:00  \"3ef519c3d6d503512ffb055a46188a3f\"  31218   \n6  2024-04-13 08:36:35+00:00  \"59c27a6bc7bba8a7de2e2d0dd6bc6871\"  37360   \n7  2024-04-13 08:36:36+00:00  \"17472b76f0644abc5726db0ae4b6dfb4\"  30499   \n\n  StorageClass Owner.DisplayName  \\\n0     STANDARD           webfile   \n1     STANDARD           webfile   \n2     STANDARD           webfile   \n3     STANDARD           webfile   \n4     STANDARD           webfile   \n5     STANDARD           webfile   \n6     STANDARD           webfile   \n7     STANDARD           webfile   \n\n                                            Owner.ID  \n0  75aa57f09aa0c8caeab4f8c24e99d10f8e7faeebf76c07...  \n1  75aa57f09aa0c8caeab4f8c24e99d10f8e7faeebf76c07...  \n2  75aa57f09aa0c8caeab4f8c24e99d10f8e7faeebf76c07...  \n3  75aa57f09aa0c8caeab4f8c24e99d10f8e7faeebf76c07...  \n4  75aa57f09aa0c8caeab4f8c24e99d10f8e7faeebf76c07...  \n5  75aa57f09aa0c8caeab4f8c24e99d10f8e7faeebf76c07...  \n6  75aa57f09aa0c8caeab4f8c24e99d10f8e7faeebf76c07...  \n7  75aa57f09aa0c8caeab4f8c24e99d10f8e7faeebf76c07...  ",
      "text/html": "<div>\n<style scoped>\n    .dataframe tbody tr th:only-of-type {\n        vertical-align: middle;\n    }\n\n    .dataframe tbody tr th {\n        vertical-align: top;\n    }\n\n    .dataframe thead th {\n        text-align: right;\n    }\n</style>\n<table border=\"1\" class=\"dataframe\">\n  <thead>\n    <tr style=\"text-align: right;\">\n      <th></th>\n      <th>Key</th>\n      <th>LastModified</th>\n      <th>ETag</th>\n      <th>Size</th>\n      <th>StorageClass</th>\n      <th>Owner.DisplayName</th>\n      <th>Owner.ID</th>\n    </tr>\n  </thead>\n  <tbody>\n    <tr>\n      <th>0</th>\n      <td>s3://news/Business/dt=20240413/data_Business_n...</td>\n      <td>2024-04-13 08:36:35+00:00</td>\n      <td>\"dde88c71110a9c2702dea3f0664104ad\"</td>\n      <td>44450</td>\n      <td>STANDARD</td>\n      <td>webfile</td>\n      <td>75aa57f09aa0c8caeab4f8c24e99d10f8e7faeebf76c07...</td>\n    </tr>\n    <tr>\n      <th>1</th>\n      <td>s3://news/Entertainment/dt=20240413/data_Enter...</td>\n      <td>2024-04-13 08:36:35+00:00</td>\n      <td>\"6208fcf0acc5fd4194e104aa75d6f0ab\"</td>\n      <td>20884</td>\n      <td>STANDARD</td>\n      <td>webfile</td>\n      <td>75aa57f09aa0c8caeab4f8c24e99d10f8e7faeebf76c07...</td>\n    </tr>\n    <tr>\n      <th>2</th>\n      <td>s3://news/Health/dt=20240413/data_Health_news.csv</td>\n      <td>2024-04-13 08:36:35+00:00</td>\n      <td>\"7ee0751cd44a6fd2288d9e60c437ed18\"</td>\n      <td>47526</td>\n      <td>STANDARD</td>\n      <td>webfile</td>\n      <td>75aa57f09aa0c8caeab4f8c24e99d10f8e7faeebf76c07...</td>\n    </tr>\n    <tr>\n      <th>3</th>\n      <td>s3://news/Science/dt=20240413/data_Science_new...</td>\n      <td>2024-04-13 08:36:35+00:00</td>\n      <td>\"ddce3cced04a91878d95f4be0c14d833\"</td>\n      <td>43407</td>\n      <td>STANDARD</td>\n      <td>webfile</td>\n      <td>75aa57f09aa0c8caeab4f8c24e99d10f8e7faeebf76c07...</td>\n    </tr>\n    <tr>\n      <th>4</th>\n      <td>s3://news/Sports/dt=20240413/data_Sports_news.csv</td>\n      <td>2024-04-13 08:36:35+00:00</td>\n      <td>\"83c357ae6a767471f5497f2428853249\"</td>\n      <td>30624</td>\n      <td>STANDARD</td>\n      <td>webfile</td>\n      <td>75aa57f09aa0c8caeab4f8c24e99d10f8e7faeebf76c07...</td>\n    </tr>\n    <tr>\n      <th>5</th>\n      <td>s3://news/Technology/dt=20240413/data_Technolo...</td>\n      <td>2024-04-13 08:36:35+00:00</td>\n      <td>\"3ef519c3d6d503512ffb055a46188a3f\"</td>\n      <td>31218</td>\n      <td>STANDARD</td>\n      <td>webfile</td>\n      <td>75aa57f09aa0c8caeab4f8c24e99d10f8e7faeebf76c07...</td>\n    </tr>\n    <tr>\n      <th>6</th>\n      <td>s3://news/US/dt=20240413/data_US_news.csv</td>\n      <td>2024-04-13 08:36:35+00:00</td>\n      <td>\"59c27a6bc7bba8a7de2e2d0dd6bc6871\"</td>\n      <td>37360</td>\n      <td>STANDARD</td>\n      <td>webfile</td>\n      <td>75aa57f09aa0c8caeab4f8c24e99d10f8e7faeebf76c07...</td>\n    </tr>\n    <tr>\n      <th>7</th>\n      <td>s3://news/World/dt=20240413/data_World_news.csv</td>\n      <td>2024-04-13 08:36:36+00:00</td>\n      <td>\"17472b76f0644abc5726db0ae4b6dfb4\"</td>\n      <td>30499</td>\n      <td>STANDARD</td>\n      <td>webfile</td>\n      <td>75aa57f09aa0c8caeab4f8c24e99d10f8e7faeebf76c07...</td>\n    </tr>\n  </tbody>\n</table>\n</div>"
     },
     "execution_count": 19,
     "metadata": {},
     "output_type": "execute_result"
    }
   ],
   "source": [
    "pd.read_csv(s3.get_object(Bucket=bucket_name_news, Key='inventory.csv')['Body'])"
   ],
   "metadata": {
    "collapsed": false,
    "ExecuteTime": {
     "end_time": "2024-04-13T08:37:14.367097100Z",
     "start_time": "2024-04-13T08:37:11.947468500Z"
    }
   },
   "execution_count": 19
  },
  {
   "cell_type": "code",
   "execution_count": 20,
   "metadata": {
    "ExecuteTime": {
     "end_time": "2024-04-13T08:37:17.391824700Z",
     "start_time": "2024-04-13T08:37:17.337267300Z"
    }
   },
   "outputs": [
    {
     "data": {
      "text/plain": "{'ResponseMetadata': {'RequestId': '2b4b542b-99d9-478a-8ed5-7171b4767fbf',\n  'HostId': 's9lzHYrFp76ZVxRcpX9+5cjAnEH2ROuNkd2BHfIa6UkFVdtjf5mKR3/eTPFvsiP/XV/VLi31234=',\n  'HTTPStatusCode': 200,\n  'HTTPHeaders': {'content-type': 'application/xml',\n   'etag': '\"d41d8cd98f00b204e9800998ecf8427e\"',\n   'x-amz-server-side-encryption': 'AES256',\n   'x-amz-version-id': 'EZnUkQRyspDf1L47CUpncQ',\n   'x-amz-request-id': '2b4b542b-99d9-478a-8ed5-7171b4767fbf',\n   'x-amz-id-2': 's9lzHYrFp76ZVxRcpX9+5cjAnEH2ROuNkd2BHfIa6UkFVdtjf5mKR3/eTPFvsiP/XV/VLi31234=',\n   'connection': 'close',\n   'content-length': '0',\n   'date': 'Sat, 13 Apr 2024 08:37:17 GMT',\n   'server': 'hypercorn-h11'},\n  'RetryAttempts': 0},\n 'ETag': '\"d41d8cd98f00b204e9800998ecf8427e\"',\n 'ServerSideEncryption': 'AES256',\n 'VersionId': 'EZnUkQRyspDf1L47CUpncQ'}"
     },
     "execution_count": 20,
     "metadata": {},
     "output_type": "execute_result"
    }
   ],
   "source": [
    "# add again the same file\n",
    "s3.put_object(Bucket=bucket_name_news, Key=file_name, Body=bytes_io)"
   ]
  },
  {
   "cell_type": "code",
   "execution_count": 29,
   "metadata": {
    "ExecuteTime": {
     "end_time": "2024-04-13T08:41:01.448356800Z",
     "start_time": "2024-04-13T08:41:01.354943600Z"
    }
   },
   "outputs": [
    {
     "data": {
      "text/plain": "                                 ETag  Size StorageClass            Key  \\\n0  \"d41d8cd98f00b204e9800998ecf8427e\"     0     STANDARD  inventory.csv   \n1  \"435141e1d042edf8e083b940b134d86b\"  1718     STANDARD  inventory.csv   \n\n                VersionId  IsLatest              LastModified  \\\n0  EZnUkQRyspDf1L47CUpncQ      True 2024-04-13 08:37:17+00:00   \n1  ipACwABj1Nsx1qr35dK1Rw     False 2024-04-13 08:37:09+00:00   \n\n  Owner.DisplayName                                           Owner.ID  \n0           webfile  75aa57f09aa0c8caeab4f8c24e99d10f8e7faeebf76c07...  \n1           webfile  75aa57f09aa0c8caeab4f8c24e99d10f8e7faeebf76c07...  ",
      "text/html": "<div>\n<style scoped>\n    .dataframe tbody tr th:only-of-type {\n        vertical-align: middle;\n    }\n\n    .dataframe tbody tr th {\n        vertical-align: top;\n    }\n\n    .dataframe thead th {\n        text-align: right;\n    }\n</style>\n<table border=\"1\" class=\"dataframe\">\n  <thead>\n    <tr style=\"text-align: right;\">\n      <th></th>\n      <th>ETag</th>\n      <th>Size</th>\n      <th>StorageClass</th>\n      <th>Key</th>\n      <th>VersionId</th>\n      <th>IsLatest</th>\n      <th>LastModified</th>\n      <th>Owner.DisplayName</th>\n      <th>Owner.ID</th>\n    </tr>\n  </thead>\n  <tbody>\n    <tr>\n      <th>0</th>\n      <td>\"d41d8cd98f00b204e9800998ecf8427e\"</td>\n      <td>0</td>\n      <td>STANDARD</td>\n      <td>inventory.csv</td>\n      <td>EZnUkQRyspDf1L47CUpncQ</td>\n      <td>True</td>\n      <td>2024-04-13 08:37:17+00:00</td>\n      <td>webfile</td>\n      <td>75aa57f09aa0c8caeab4f8c24e99d10f8e7faeebf76c07...</td>\n    </tr>\n    <tr>\n      <th>1</th>\n      <td>\"435141e1d042edf8e083b940b134d86b\"</td>\n      <td>1718</td>\n      <td>STANDARD</td>\n      <td>inventory.csv</td>\n      <td>ipACwABj1Nsx1qr35dK1Rw</td>\n      <td>False</td>\n      <td>2024-04-13 08:37:09+00:00</td>\n      <td>webfile</td>\n      <td>75aa57f09aa0c8caeab4f8c24e99d10f8e7faeebf76c07...</td>\n    </tr>\n  </tbody>\n</table>\n</div>"
     },
     "execution_count": 29,
     "metadata": {},
     "output_type": "execute_result"
    }
   ],
   "source": [
    "# List all the version of the object\n",
    "versions = s3.list_object_versions(Bucket=bucket_name_news, Prefix=file_name)\n",
    "\n",
    "pd.json_normalize(versions['Versions'])"
   ]
  },
  {
   "cell_type": "code",
   "outputs": [
    {
     "data": {
      "text/plain": "{'ResponseMetadata': {'RequestId': '2f24fc24-86db-4201-a974-169473d57f32',\n  'HostId': 's9lzHYrFp76ZVxRcpX9+5cjAnEH2ROuNkd2BHfIa6UkFVdtjf5mKR3/eTPFvsiP/XV/VLi31234=',\n  'HTTPStatusCode': 200,\n  'HTTPHeaders': {'content-type': 'application/xml',\n   'etag': '\"d2435bcd89aa4592e75f8555dddcffd4\"',\n   'x-amz-server-side-encryption': 'AES256',\n   'x-amz-version-id': 'OFZ-Ddzgf6apYdhL9tiEgA',\n   'x-amz-request-id': '2f24fc24-86db-4201-a974-169473d57f32',\n   'x-amz-id-2': 's9lzHYrFp76ZVxRcpX9+5cjAnEH2ROuNkd2BHfIa6UkFVdtjf5mKR3/eTPFvsiP/XV/VLi31234=',\n   'connection': 'close',\n   'content-length': '0',\n   'date': 'Sat, 13 Apr 2024 08:56:24 GMT',\n   'server': 'hypercorn-h11'},\n  'RetryAttempts': 0},\n 'ETag': '\"d2435bcd89aa4592e75f8555dddcffd4\"',\n 'ServerSideEncryption': 'AES256',\n 'VersionId': 'OFZ-Ddzgf6apYdhL9tiEgA'}"
     },
     "execution_count": 34,
     "metadata": {},
     "output_type": "execute_result"
    }
   ],
   "source": [
    "file = open('20240331_163729.jpg', 'rb')\n",
    "s3.put_object(Bucket=bucket_name_news, Key=file.name, Body=file)"
   ],
   "metadata": {
    "collapsed": false,
    "ExecuteTime": {
     "end_time": "2024-04-13T08:56:24.873116300Z",
     "start_time": "2024-04-13T08:56:24.579376300Z"
    }
   },
   "execution_count": 34
  },
  {
   "cell_type": "code",
   "outputs": [
    {
     "data": {
      "text/plain": "                                                  Key  \\\n0                                       inventory.csv   \n1                       photo_2024-04-11_13-39-56.jpg   \n2   s3://news/Business/dt=20240413/data_Business_n...   \n3   s3://news/Entertainment/dt=20240413/data_Enter...   \n4   s3://news/Health/dt=20240413/data_Health_news.csv   \n5   s3://news/Science/dt=20240413/data_Science_new...   \n6   s3://news/Sports/dt=20240413/data_Sports_news.csv   \n7   s3://news/Technology/dt=20240413/data_Technolo...   \n8           s3://news/US/dt=20240413/data_US_news.csv   \n9     s3://news/World/dt=20240413/data_World_news.csv   \n10                                               test   \n\n                LastModified                                ETag   Size  \\\n0  2024-04-13 08:37:17+00:00  \"d41d8cd98f00b204e9800998ecf8427e\"      0   \n1  2024-04-13 08:40:06+00:00  \"546a332e7b711e1c2ea615b2824aa593\"  89763   \n2  2024-04-13 08:36:35+00:00  \"dde88c71110a9c2702dea3f0664104ad\"  44450   \n3  2024-04-13 08:36:35+00:00  \"6208fcf0acc5fd4194e104aa75d6f0ab\"  20884   \n4  2024-04-13 08:36:35+00:00  \"7ee0751cd44a6fd2288d9e60c437ed18\"  47526   \n5  2024-04-13 08:36:35+00:00  \"ddce3cced04a91878d95f4be0c14d833\"  43407   \n6  2024-04-13 08:36:35+00:00  \"83c357ae6a767471f5497f2428853249\"  30624   \n7  2024-04-13 08:36:35+00:00  \"3ef519c3d6d503512ffb055a46188a3f\"  31218   \n8  2024-04-13 08:36:35+00:00  \"59c27a6bc7bba8a7de2e2d0dd6bc6871\"  37360   \n9  2024-04-13 08:36:36+00:00  \"17472b76f0644abc5726db0ae4b6dfb4\"  30499   \n10 2024-04-13 08:37:36+00:00  \"546a332e7b711e1c2ea615b2824aa593\"  89763   \n\n   StorageClass Owner.DisplayName  \\\n0      STANDARD           webfile   \n1      STANDARD           webfile   \n2      STANDARD           webfile   \n3      STANDARD           webfile   \n4      STANDARD           webfile   \n5      STANDARD           webfile   \n6      STANDARD           webfile   \n7      STANDARD           webfile   \n8      STANDARD           webfile   \n9      STANDARD           webfile   \n10     STANDARD           webfile   \n\n                                             Owner.ID  \n0   75aa57f09aa0c8caeab4f8c24e99d10f8e7faeebf76c07...  \n1   75aa57f09aa0c8caeab4f8c24e99d10f8e7faeebf76c07...  \n2   75aa57f09aa0c8caeab4f8c24e99d10f8e7faeebf76c07...  \n3   75aa57f09aa0c8caeab4f8c24e99d10f8e7faeebf76c07...  \n4   75aa57f09aa0c8caeab4f8c24e99d10f8e7faeebf76c07...  \n5   75aa57f09aa0c8caeab4f8c24e99d10f8e7faeebf76c07...  \n6   75aa57f09aa0c8caeab4f8c24e99d10f8e7faeebf76c07...  \n7   75aa57f09aa0c8caeab4f8c24e99d10f8e7faeebf76c07...  \n8   75aa57f09aa0c8caeab4f8c24e99d10f8e7faeebf76c07...  \n9   75aa57f09aa0c8caeab4f8c24e99d10f8e7faeebf76c07...  \n10  75aa57f09aa0c8caeab4f8c24e99d10f8e7faeebf76c07...  ",
      "text/html": "<div>\n<style scoped>\n    .dataframe tbody tr th:only-of-type {\n        vertical-align: middle;\n    }\n\n    .dataframe tbody tr th {\n        vertical-align: top;\n    }\n\n    .dataframe thead th {\n        text-align: right;\n    }\n</style>\n<table border=\"1\" class=\"dataframe\">\n  <thead>\n    <tr style=\"text-align: right;\">\n      <th></th>\n      <th>Key</th>\n      <th>LastModified</th>\n      <th>ETag</th>\n      <th>Size</th>\n      <th>StorageClass</th>\n      <th>Owner.DisplayName</th>\n      <th>Owner.ID</th>\n    </tr>\n  </thead>\n  <tbody>\n    <tr>\n      <th>0</th>\n      <td>inventory.csv</td>\n      <td>2024-04-13 08:37:17+00:00</td>\n      <td>\"d41d8cd98f00b204e9800998ecf8427e\"</td>\n      <td>0</td>\n      <td>STANDARD</td>\n      <td>webfile</td>\n      <td>75aa57f09aa0c8caeab4f8c24e99d10f8e7faeebf76c07...</td>\n    </tr>\n    <tr>\n      <th>1</th>\n      <td>photo_2024-04-11_13-39-56.jpg</td>\n      <td>2024-04-13 08:40:06+00:00</td>\n      <td>\"546a332e7b711e1c2ea615b2824aa593\"</td>\n      <td>89763</td>\n      <td>STANDARD</td>\n      <td>webfile</td>\n      <td>75aa57f09aa0c8caeab4f8c24e99d10f8e7faeebf76c07...</td>\n    </tr>\n    <tr>\n      <th>2</th>\n      <td>s3://news/Business/dt=20240413/data_Business_n...</td>\n      <td>2024-04-13 08:36:35+00:00</td>\n      <td>\"dde88c71110a9c2702dea3f0664104ad\"</td>\n      <td>44450</td>\n      <td>STANDARD</td>\n      <td>webfile</td>\n      <td>75aa57f09aa0c8caeab4f8c24e99d10f8e7faeebf76c07...</td>\n    </tr>\n    <tr>\n      <th>3</th>\n      <td>s3://news/Entertainment/dt=20240413/data_Enter...</td>\n      <td>2024-04-13 08:36:35+00:00</td>\n      <td>\"6208fcf0acc5fd4194e104aa75d6f0ab\"</td>\n      <td>20884</td>\n      <td>STANDARD</td>\n      <td>webfile</td>\n      <td>75aa57f09aa0c8caeab4f8c24e99d10f8e7faeebf76c07...</td>\n    </tr>\n    <tr>\n      <th>4</th>\n      <td>s3://news/Health/dt=20240413/data_Health_news.csv</td>\n      <td>2024-04-13 08:36:35+00:00</td>\n      <td>\"7ee0751cd44a6fd2288d9e60c437ed18\"</td>\n      <td>47526</td>\n      <td>STANDARD</td>\n      <td>webfile</td>\n      <td>75aa57f09aa0c8caeab4f8c24e99d10f8e7faeebf76c07...</td>\n    </tr>\n    <tr>\n      <th>5</th>\n      <td>s3://news/Science/dt=20240413/data_Science_new...</td>\n      <td>2024-04-13 08:36:35+00:00</td>\n      <td>\"ddce3cced04a91878d95f4be0c14d833\"</td>\n      <td>43407</td>\n      <td>STANDARD</td>\n      <td>webfile</td>\n      <td>75aa57f09aa0c8caeab4f8c24e99d10f8e7faeebf76c07...</td>\n    </tr>\n    <tr>\n      <th>6</th>\n      <td>s3://news/Sports/dt=20240413/data_Sports_news.csv</td>\n      <td>2024-04-13 08:36:35+00:00</td>\n      <td>\"83c357ae6a767471f5497f2428853249\"</td>\n      <td>30624</td>\n      <td>STANDARD</td>\n      <td>webfile</td>\n      <td>75aa57f09aa0c8caeab4f8c24e99d10f8e7faeebf76c07...</td>\n    </tr>\n    <tr>\n      <th>7</th>\n      <td>s3://news/Technology/dt=20240413/data_Technolo...</td>\n      <td>2024-04-13 08:36:35+00:00</td>\n      <td>\"3ef519c3d6d503512ffb055a46188a3f\"</td>\n      <td>31218</td>\n      <td>STANDARD</td>\n      <td>webfile</td>\n      <td>75aa57f09aa0c8caeab4f8c24e99d10f8e7faeebf76c07...</td>\n    </tr>\n    <tr>\n      <th>8</th>\n      <td>s3://news/US/dt=20240413/data_US_news.csv</td>\n      <td>2024-04-13 08:36:35+00:00</td>\n      <td>\"59c27a6bc7bba8a7de2e2d0dd6bc6871\"</td>\n      <td>37360</td>\n      <td>STANDARD</td>\n      <td>webfile</td>\n      <td>75aa57f09aa0c8caeab4f8c24e99d10f8e7faeebf76c07...</td>\n    </tr>\n    <tr>\n      <th>9</th>\n      <td>s3://news/World/dt=20240413/data_World_news.csv</td>\n      <td>2024-04-13 08:36:36+00:00</td>\n      <td>\"17472b76f0644abc5726db0ae4b6dfb4\"</td>\n      <td>30499</td>\n      <td>STANDARD</td>\n      <td>webfile</td>\n      <td>75aa57f09aa0c8caeab4f8c24e99d10f8e7faeebf76c07...</td>\n    </tr>\n    <tr>\n      <th>10</th>\n      <td>test</td>\n      <td>2024-04-13 08:37:36+00:00</td>\n      <td>\"546a332e7b711e1c2ea615b2824aa593\"</td>\n      <td>89763</td>\n      <td>STANDARD</td>\n      <td>webfile</td>\n      <td>75aa57f09aa0c8caeab4f8c24e99d10f8e7faeebf76c07...</td>\n    </tr>\n  </tbody>\n</table>\n</div>"
     },
     "execution_count": 30,
     "metadata": {},
     "output_type": "execute_result"
    }
   ],
   "source": [
    "list_objects(bucket_name_news)"
   ],
   "metadata": {
    "collapsed": false,
    "ExecuteTime": {
     "end_time": "2024-04-13T08:41:04.467235200Z",
     "start_time": "2024-04-13T08:41:04.424399900Z"
    }
   },
   "execution_count": 30
  },
  {
   "cell_type": "markdown",
   "metadata": {},
   "source": [
    "### 🗑️ Create a static site using s3 bucket\n",
    "\n",
    "In this section, we need to utilize a different command, which requires prior installation of the `awscli-local` tool specifically designed for use with **LocalStack**.\n",
    "\n",
    "The `awscli-local` tool facilitates developers in seamlessly engaging with the **LocalStack** instance, because you can automatically redirecting commands to local endpoints instead of real AWS endpoints."
   ]
  },
  {
   "cell_type": "code",
   "execution_count": 32,
   "metadata": {
    "ExecuteTime": {
     "end_time": "2024-04-13T08:52:41.306278900Z",
     "start_time": "2024-04-13T08:52:23.242848600Z"
    }
   },
   "outputs": [
    {
     "name": "stdout",
     "output_type": "stream",
     "text": [
      "Requirement already satisfied: awscli-local in c:\\users\\zvina\\pycharmprojects\\bigdata\\.venv\\lib\\site-packages (0.22.0)\n",
      "Requirement already satisfied: localstack-client in c:\\users\\zvina\\pycharmprojects\\bigdata\\.venv\\lib\\site-packages (from awscli-local) (2.5)\n",
      "Requirement already satisfied: boto3 in c:\\users\\zvina\\pycharmprojects\\bigdata\\.venv\\lib\\site-packages (from localstack-client->awscli-local) (1.34.84)\n",
      "Requirement already satisfied: botocore<1.35.0,>=1.34.84 in c:\\users\\zvina\\pycharmprojects\\bigdata\\.venv\\lib\\site-packages (from boto3->localstack-client->awscli-local) (1.34.84)\n",
      "Requirement already satisfied: jmespath<2.0.0,>=0.7.1 in c:\\users\\zvina\\pycharmprojects\\bigdata\\.venv\\lib\\site-packages (from boto3->localstack-client->awscli-local) (1.0.1)\n",
      "Requirement already satisfied: s3transfer<0.11.0,>=0.10.0 in c:\\users\\zvina\\pycharmprojects\\bigdata\\.venv\\lib\\site-packages (from boto3->localstack-client->awscli-local) (0.10.1)\n",
      "Requirement already satisfied: python-dateutil<3.0.0,>=2.1 in c:\\users\\zvina\\pycharmprojects\\bigdata\\.venv\\lib\\site-packages (from botocore<1.35.0,>=1.34.84->boto3->localstack-client->awscli-local) (2.9.0.post0)\n",
      "Requirement already satisfied: urllib3!=2.2.0,<3,>=1.25.4 in c:\\users\\zvina\\pycharmprojects\\bigdata\\.venv\\lib\\site-packages (from botocore<1.35.0,>=1.34.84->boto3->localstack-client->awscli-local) (2.2.1)\n",
      "Requirement already satisfied: six>=1.5 in c:\\users\\zvina\\pycharmprojects\\bigdata\\.venv\\lib\\site-packages (from python-dateutil<3.0.0,>=2.1->botocore<1.35.0,>=1.34.84->boto3->localstack-client->awscli-local) (1.16.0)\n",
      "Collecting awscli\n",
      "  Downloading awscli-1.32.84-py3-none-any.whl.metadata (11 kB)\n",
      "Requirement already satisfied: botocore==1.34.84 in c:\\users\\zvina\\pycharmprojects\\bigdata\\.venv\\lib\\site-packages (from awscli) (1.34.84)\n",
      "Collecting docutils<0.17,>=0.10 (from awscli)\n",
      "  Downloading docutils-0.16-py2.py3-none-any.whl.metadata (2.7 kB)\n",
      "Requirement already satisfied: s3transfer<0.11.0,>=0.10.0 in c:\\users\\zvina\\pycharmprojects\\bigdata\\.venv\\lib\\site-packages (from awscli) (0.10.1)\n",
      "Requirement already satisfied: PyYAML<6.1,>=3.10 in c:\\users\\zvina\\pycharmprojects\\bigdata\\.venv\\lib\\site-packages (from awscli) (6.0.1)\n",
      "Collecting colorama<0.4.5,>=0.2.5 (from awscli)\n",
      "  Downloading colorama-0.4.4-py2.py3-none-any.whl.metadata (14 kB)\n",
      "Collecting rsa<4.8,>=3.1.2 (from awscli)\n",
      "  Downloading rsa-4.7.2-py3-none-any.whl.metadata (3.6 kB)\n",
      "Requirement already satisfied: jmespath<2.0.0,>=0.7.1 in c:\\users\\zvina\\pycharmprojects\\bigdata\\.venv\\lib\\site-packages (from botocore==1.34.84->awscli) (1.0.1)\n",
      "Requirement already satisfied: python-dateutil<3.0.0,>=2.1 in c:\\users\\zvina\\pycharmprojects\\bigdata\\.venv\\lib\\site-packages (from botocore==1.34.84->awscli) (2.9.0.post0)\n",
      "Requirement already satisfied: urllib3!=2.2.0,<3,>=1.25.4 in c:\\users\\zvina\\pycharmprojects\\bigdata\\.venv\\lib\\site-packages (from botocore==1.34.84->awscli) (2.2.1)\n",
      "Collecting pyasn1>=0.1.3 (from rsa<4.8,>=3.1.2->awscli)\n",
      "  Downloading pyasn1-0.6.0-py2.py3-none-any.whl.metadata (8.3 kB)\n",
      "Requirement already satisfied: six>=1.5 in c:\\users\\zvina\\pycharmprojects\\bigdata\\.venv\\lib\\site-packages (from python-dateutil<3.0.0,>=2.1->botocore==1.34.84->awscli) (1.16.0)\n",
      "Downloading awscli-1.32.84-py3-none-any.whl (4.4 MB)\n",
      "   ---------------------------------------- 0.0/4.4 MB ? eta -:--:--\n",
      "   ---------------------------------------- 0.0/4.4 MB 1.3 MB/s eta 0:00:04\n",
      "   - -------------------------------------- 0.1/4.4 MB 1.3 MB/s eta 0:00:04\n",
      "   -- ------------------------------------- 0.2/4.4 MB 1.8 MB/s eta 0:00:03\n",
      "   --- ------------------------------------ 0.3/4.4 MB 2.0 MB/s eta 0:00:03\n",
      "   ---- ----------------------------------- 0.5/4.4 MB 2.4 MB/s eta 0:00:02\n",
      "   ------ --------------------------------- 0.7/4.4 MB 2.5 MB/s eta 0:00:02\n",
      "   ------- -------------------------------- 0.9/4.4 MB 2.7 MB/s eta 0:00:02\n",
      "   --------- ------------------------------ 1.0/4.4 MB 2.8 MB/s eta 0:00:02\n",
      "   ----------- ---------------------------- 1.2/4.4 MB 3.1 MB/s eta 0:00:02\n",
      "   ------------ --------------------------- 1.4/4.4 MB 3.1 MB/s eta 0:00:01\n",
      "   -------------- ------------------------- 1.6/4.4 MB 3.1 MB/s eta 0:00:01\n",
      "   ---------------- ----------------------- 1.8/4.4 MB 3.3 MB/s eta 0:00:01\n",
      "   ------------------ --------------------- 2.1/4.4 MB 3.4 MB/s eta 0:00:01\n",
      "   -------------------- ------------------- 2.3/4.4 MB 3.5 MB/s eta 0:00:01\n",
      "   ---------------------- ----------------- 2.5/4.4 MB 3.6 MB/s eta 0:00:01\n",
      "   ------------------------ --------------- 2.7/4.4 MB 3.6 MB/s eta 0:00:01\n",
      "   -------------------------- ------------- 2.9/4.4 MB 3.7 MB/s eta 0:00:01\n",
      "   ----------------------------- ---------- 3.2/4.4 MB 3.9 MB/s eta 0:00:01\n",
      "   ------------------------------- -------- 3.5/4.4 MB 3.9 MB/s eta 0:00:01\n",
      "   --------------------------------- ------ 3.7/4.4 MB 4.0 MB/s eta 0:00:01\n",
      "   ----------------------------------- ---- 3.9/4.4 MB 4.1 MB/s eta 0:00:01\n",
      "   ------------------------------------- -- 4.1/4.4 MB 4.1 MB/s eta 0:00:01\n",
      "   -------------------------------------- - 4.3/4.4 MB 4.0 MB/s eta 0:00:01\n",
      "   ---------------------------------------- 4.4/4.4 MB 4.0 MB/s eta 0:00:00\n",
      "Downloading colorama-0.4.4-py2.py3-none-any.whl (16 kB)\n",
      "Downloading docutils-0.16-py2.py3-none-any.whl (548 kB)\n",
      "   ---------------------------------------- 0.0/548.2 kB ? eta -:--:--\n",
      "   ---------------- ----------------------- 225.3/548.2 kB 4.6 MB/s eta 0:00:01\n",
      "   ----------------------------- ---------- 399.4/548.2 kB 4.1 MB/s eta 0:00:01\n",
      "   ---------------------------------------  542.7/548.2 kB 3.8 MB/s eta 0:00:01\n",
      "   ---------------------------------------- 548.2/548.2 kB 3.8 MB/s eta 0:00:00\n",
      "Downloading rsa-4.7.2-py3-none-any.whl (34 kB)\n",
      "Downloading pyasn1-0.6.0-py2.py3-none-any.whl (85 kB)\n",
      "   ---------------------------------------- 0.0/85.3 kB ? eta -:--:--\n",
      "   ---------------------------------------- 85.3/85.3 kB 2.3 MB/s eta 0:00:00\n",
      "Installing collected packages: pyasn1, docutils, colorama, rsa, awscli\n",
      "  Attempting uninstall: colorama\n",
      "    Found existing installation: colorama 0.4.6\n",
      "    Uninstalling colorama-0.4.6:\n",
      "      Successfully uninstalled colorama-0.4.6\n",
      "Successfully installed awscli-1.32.84 colorama-0.4.4 docutils-0.16 pyasn1-0.6.0 rsa-4.7.2\n"
     ]
    }
   ],
   "source": [
    "# install awslocal to use the cli to interact with localstack\n",
    "!pip3.12 install awscli-local\n",
    "!pip3.12 install awscli"
   ]
  },
  {
   "cell_type": "code",
   "execution_count": 33,
   "metadata": {
    "ExecuteTime": {
     "end_time": "2024-04-13T08:52:53.661031200Z",
     "start_time": "2024-04-13T08:52:48.618553900Z"
    }
   },
   "outputs": [
    {
     "name": "stdout",
     "output_type": "stream",
     "text": [
      "{\n",
      "    \"Location\": \"/docs-web\"\n",
      "}\n",
      "Completed 698 Bytes/70.0 KiB (12.7 KiB/s) with 3 file(s) remaining\n",
      "upload: static-site\\error.html to s3://docs-web/error.html        \n",
      "Completed 698 Bytes/70.0 KiB (12.7 KiB/s) with 2 file(s) remaining\n",
      "Completed 1.8 KiB/70.0 KiB (31.4 KiB/s) with 2 file(s) remaining  \n",
      "upload: static-site\\index.html to s3://docs-web/index.html        \n",
      "Completed 1.8 KiB/70.0 KiB (31.4 KiB/s) with 1 file(s) remaining\n",
      "Completed 70.0 KiB/70.0 KiB (1.2 MiB/s) with 1 file(s) remaining\n",
      "upload: static-site\\img\\img_localstack.png to s3://docs-web/img/img_localstack.png\n"
     ]
    }
   ],
   "source": [
    "# the following command creates a static website in s3\n",
    "!awslocal s3api create-bucket --bucket docs-web\n",
    "# add the website configuration\n",
    "!awslocal s3 website s3://docs-web/ --index-document index.html --error-document error.html\n",
    "# syncronize the static site with the s3 bucket\n",
    "!awslocal s3 sync static-site s3://docs-web\n",
    "\n",
    "#------------------------------------------------------------------------------------------\n",
    "\n",
    "# If you are using localstack, you can access the website using the following url\n",
    "#  http://docs-web.s3-website.localhost.localstack.cloud:4566/\n",
    "\n",
    "\n",
    "#------------------------------------------------------------------------------------------"
   ]
  },
  {
   "cell_type": "markdown",
   "metadata": {},
   "source": [
    "Url Site: http://docs-web.s3-website.localhost.localstack.cloud:4566/\n",
    "\n",
    "![](img/localstack-static-site.png)"
   ]
  },
  {
   "cell_type": "markdown",
   "metadata": {},
   "source": [
    "# 📚 References\n",
    "If you want to learn...\n",
    "\n",
    "* [AWS Boto3](https://boto3.amazonaws.com/v1/documentation/api/latest/guide/quickstart.html#installation)\n",
    "* [LocalStack](https://docs.localstack.cloud/overview/)\n",
    "* [API:OkSurf News](https://ok.surf/#endpoints)"
   ]
  }
 ],
 "metadata": {
  "kernelspec": {
   "display_name": "Python 3",
   "language": "python",
   "name": "python3"
  },
  "language_info": {
   "codemirror_mode": {
    "name": "ipython",
    "version": 3
   },
   "file_extension": ".py",
   "mimetype": "text/x-python",
   "name": "python",
   "nbconvert_exporter": "python",
   "pygments_lexer": "ipython3",
   "version": "3.11.6"
  }
 },
 "nbformat": 4,
 "nbformat_minor": 2
}
